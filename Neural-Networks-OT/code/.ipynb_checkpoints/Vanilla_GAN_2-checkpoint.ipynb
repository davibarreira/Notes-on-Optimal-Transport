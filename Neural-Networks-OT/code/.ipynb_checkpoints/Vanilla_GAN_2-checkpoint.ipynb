{
 "cells": [
  {
   "cell_type": "markdown",
   "id": "adolescent-group",
   "metadata": {},
   "source": [
    "# Tutorial - Creating a 1-D GAN"
   ]
  },
  {
   "cell_type": "code",
   "execution_count": 1,
   "id": "indie-guatemala",
   "metadata": {},
   "outputs": [
    {
     "name": "stderr",
     "output_type": "stream",
     "text": [
      "┌ Info: Precompiling Plots [91a5bcdd-55d7-5caf-9e0b-520d859cae80]\n",
      "└ @ Base loading.jl:1342\n"
     ]
    }
   ],
   "source": [
    "using Flux\n",
    "using Statistics, Distributions\n",
    "using Plots"
   ]
  },
  {
   "cell_type": "code",
   "execution_count": 2,
   "id": "confused-sitting",
   "metadata": {},
   "outputs": [
    {
     "data": {
      "text/plain": [
       "G (generic function with 1 method)"
      ]
     },
     "execution_count": 2,
     "metadata": {},
     "output_type": "execute_result"
    }
   ],
   "source": [
    "function generate_real_data(n,k=10)\n",
    "    r  = rand([0,1],k,n)\n",
    "    X = r.*(randn(k,n).+ 3.) + (1 .- r).*(randn(k,n).+ 8.)\n",
    "    return X\n",
    "end\n",
    "\n",
    "function D()\n",
    "    return Chain(\n",
    "            Dense(2, 25,relu),\n",
    "            Dense(25,1)\n",
    "            )\n",
    "end\n",
    "\n",
    "function G(latent_dim::Int)\n",
    "    return Chain(\n",
    "            Dense(latent_dim, 15,relu),\n",
    "            Dense(15,2)\n",
    "            )\n",
    "end"
   ]
  },
  {
   "cell_type": "code",
   "execution_count": null,
   "id": "norwegian-beads",
   "metadata": {},
   "outputs": [],
   "source": [
    "histogram(generate_real_data(3)[:,:],alpha=0.2,bins=20)"
   ]
  },
  {
   "cell_type": "code",
   "execution_count": null,
   "id": "cheap-environment",
   "metadata": {},
   "outputs": [],
   "source": [
    "loss_D(x, y, dscr) = sum(Flux.Losses.logitbinarycrossentropy(dscr(x), y))\n",
    "\n",
    "function trainDiscriminator!(dscr,gen,train_size)\n",
    "    real = generate_real_data(train_size)\n",
    "    fake = gen(rand(5,train_size))\n",
    "\n",
    "    X    = hcat(real,fake)\n",
    "    Y    = vcat(ones(train_size),zeros(train_size))\n",
    "    data = Flux.Data.DataLoader(X, Y', batchsize=1,shuffle=true);\n",
    "    for d in data\n",
    "        gs = gradient(Flux.params(dscr)) do\n",
    "            l = loss_D(d...,dscr)\n",
    "        end\n",
    "        Flux.update!(opt, Flux.params(dscr), gs)\n",
    "    end\n",
    "end\n",
    "\n",
    "loss_G(z,gen,dscr) = sum(Flux.Losses.logitbinarycrossentropy(dscr(gen(z)),1))\n",
    "\n",
    "function trainGenerator!(gen,dscr,train_size)\n",
    "    noise = rand(5,train_size)\n",
    "    data = Flux.Data.DataLoader(noise, batchsize=128,shuffle=true);\n",
    "    for d in data\n",
    "        gs = gradient(Flux.params(gen)) do\n",
    "            l = loss_G(d,gen,dscr)\n",
    "        end\n",
    "        Flux.update!(opt, Flux.params(gen), gs)\n",
    "    end\n",
    "    fake_generated = gen(rand(5,train_size))\n",
    "end"
   ]
  },
  {
   "cell_type": "code",
   "execution_count": null,
   "id": "smart-float",
   "metadata": {},
   "outputs": [],
   "source": [
    "gen  = G(5)\n",
    "dscr = D()\n",
    "opt  = ADAM()\n",
    "train_size = 2000"
   ]
  },
  {
   "cell_type": "code",
   "execution_count": null,
   "id": "generic-conducting",
   "metadata": {},
   "outputs": [],
   "source": [
    "epochs = 1000\n",
    "for e in 1:epochs\n",
    "    trainDiscriminator!(dscr,gen,Int(train_size/2))\n",
    "    trainGenerator!(gen,dscr,train_size)\n",
    "    if e%1000 == 0\n",
    "        real = generate_real_data(train_size)\n",
    "        fake = gen(rand(5,train_size))\n",
    "        @show mean(dscr(real)),mean(dscr(fake))\n",
    "    end\n",
    "end"
   ]
  },
  {
   "cell_type": "code",
   "execution_count": null,
   "id": "metropolitan-transaction",
   "metadata": {},
   "outputs": [],
   "source": [
    "real = generate_real_data(train_size)\n",
    "fake = gen(rand(5,train_size))\n",
    "scatter(real[1,1:100],real[2,1:100])\n",
    "scatter!(fake[1,1:100],fake[2,1:100])"
   ]
  },
  {
   "cell_type": "code",
   "execution_count": null,
   "id": "indirect-desire",
   "metadata": {},
   "outputs": [],
   "source": []
  }
 ],
 "metadata": {
  "kernelspec": {
   "display_name": "JuliaFlux 1.6.3",
   "language": "julia",
   "name": "juliaflux-1.6"
  },
  "language_info": {
   "file_extension": ".jl",
   "mimetype": "application/julia",
   "name": "julia",
   "version": "1.6.3"
  }
 },
 "nbformat": 4,
 "nbformat_minor": 5
}
