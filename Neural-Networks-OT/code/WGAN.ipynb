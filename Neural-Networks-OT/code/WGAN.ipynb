{
 "cells": [
  {
   "cell_type": "markdown",
   "id": "friendly-jumping",
   "metadata": {},
   "source": [
    "# Tutorial - Wasserstein GAN"
   ]
  },
  {
   "cell_type": "code",
   "execution_count": 1,
   "id": "celtic-trademark",
   "metadata": {},
   "outputs": [],
   "source": [
    "using Flux\n",
    "using Statistics, Distributions\n",
    "using Plots"
   ]
  },
  {
   "cell_type": "markdown",
   "id": "1fedee1e-6b0d-41c4-a490-44dcd433e406",
   "metadata": {},
   "source": [
    "Suponha que observamos os dados acima e desconhecemos a função que os geraram.\n",
    "O que queremos então fazer é criar uma rede neural que gera dados\n",
    "dessa distribuição, onde temos acesso somente a essas amostras."
   ]
  },
  {
   "cell_type": "code",
   "execution_count": 2,
   "id": "interested-benefit",
   "metadata": {},
   "outputs": [
    {
     "data": {
      "image/svg+xml": [
       "<?xml version=\"1.0\" encoding=\"utf-8\"?>\n",
       "<svg xmlns=\"http://www.w3.org/2000/svg\" xmlns:xlink=\"http://www.w3.org/1999/xlink\" width=\"600\" height=\"400\" viewBox=\"0 0 2400 1600\">\n",
       "<defs>\n",
       "  <clipPath id=\"clip080\">\n",
       "    <rect x=\"0\" y=\"0\" width=\"2400\" height=\"1600\"/>\n",
       "  </clipPath>\n",
       "</defs>\n",
       "<path clip-path=\"url(#clip080)\" d=\"\n",
       "M0 1600 L2400 1600 L2400 0 L0 0  Z\n",
       "  \" fill=\"#ffffff\" fill-rule=\"evenodd\" fill-opacity=\"1\"/>\n",
       "<defs>\n",
       "  <clipPath id=\"clip081\">\n",
       "    <rect x=\"480\" y=\"0\" width=\"1681\" height=\"1600\"/>\n",
       "  </clipPath>\n",
       "</defs>\n",
       "<path clip-path=\"url(#clip080)\" d=\"\n",
       "M186.274 1486.45 L2352.76 1486.45 L2352.76 47.2441 L186.274 47.2441  Z\n",
       "  \" fill=\"#ffffff\" fill-rule=\"evenodd\" fill-opacity=\"1\"/>\n",
       "<defs>\n",
       "  <clipPath id=\"clip082\">\n",
       "    <rect x=\"186\" y=\"47\" width=\"2167\" height=\"1440\"/>\n",
       "  </clipPath>\n",
       "</defs>\n",
       "<polyline clip-path=\"url(#clip082)\" style=\"stroke:#000000; stroke-linecap:butt; stroke-linejoin:round; stroke-width:2; stroke-opacity:0.1; fill:none\" points=\"\n",
       "  428.791,1486.45 428.791,47.2441 \n",
       "  \"/>\n",
       "<polyline clip-path=\"url(#clip082)\" style=\"stroke:#000000; stroke-linecap:butt; stroke-linejoin:round; stroke-width:2; stroke-opacity:0.1; fill:none\" points=\"\n",
       "  848.572,1486.45 848.572,47.2441 \n",
       "  \"/>\n",
       "<polyline clip-path=\"url(#clip082)\" style=\"stroke:#000000; stroke-linecap:butt; stroke-linejoin:round; stroke-width:2; stroke-opacity:0.1; fill:none\" points=\"\n",
       "  1268.35,1486.45 1268.35,47.2441 \n",
       "  \"/>\n",
       "<polyline clip-path=\"url(#clip082)\" style=\"stroke:#000000; stroke-linecap:butt; stroke-linejoin:round; stroke-width:2; stroke-opacity:0.1; fill:none\" points=\"\n",
       "  1688.13,1486.45 1688.13,47.2441 \n",
       "  \"/>\n",
       "<polyline clip-path=\"url(#clip082)\" style=\"stroke:#000000; stroke-linecap:butt; stroke-linejoin:round; stroke-width:2; stroke-opacity:0.1; fill:none\" points=\"\n",
       "  2107.91,1486.45 2107.91,47.2441 \n",
       "  \"/>\n",
       "<polyline clip-path=\"url(#clip080)\" style=\"stroke:#000000; stroke-linecap:butt; stroke-linejoin:round; stroke-width:4; stroke-opacity:1; fill:none\" points=\"\n",
       "  186.274,1486.45 2352.76,1486.45 \n",
       "  \"/>\n",
       "<polyline clip-path=\"url(#clip080)\" style=\"stroke:#000000; stroke-linecap:butt; stroke-linejoin:round; stroke-width:4; stroke-opacity:1; fill:none\" points=\"\n",
       "  428.791,1486.45 428.791,1467.55 \n",
       "  \"/>\n",
       "<polyline clip-path=\"url(#clip080)\" style=\"stroke:#000000; stroke-linecap:butt; stroke-linejoin:round; stroke-width:4; stroke-opacity:1; fill:none\" points=\"\n",
       "  848.572,1486.45 848.572,1467.55 \n",
       "  \"/>\n",
       "<polyline clip-path=\"url(#clip080)\" style=\"stroke:#000000; stroke-linecap:butt; stroke-linejoin:round; stroke-width:4; stroke-opacity:1; fill:none\" points=\"\n",
       "  1268.35,1486.45 1268.35,1467.55 \n",
       "  \"/>\n",
       "<polyline clip-path=\"url(#clip080)\" style=\"stroke:#000000; stroke-linecap:butt; stroke-linejoin:round; stroke-width:4; stroke-opacity:1; fill:none\" points=\"\n",
       "  1688.13,1486.45 1688.13,1467.55 \n",
       "  \"/>\n",
       "<polyline clip-path=\"url(#clip080)\" style=\"stroke:#000000; stroke-linecap:butt; stroke-linejoin:round; stroke-width:4; stroke-opacity:1; fill:none\" points=\"\n",
       "  2107.91,1486.45 2107.91,1467.55 \n",
       "  \"/>\n",
       "<path clip-path=\"url(#clip080)\" d=\"M375.076 1532.02 L404.752 1532.02 L404.752 1535.95 L375.076 1535.95 L375.076 1532.02 Z\" fill=\"#000000\" fill-rule=\"evenodd\" fill-opacity=\"1\" /><path clip-path=\"url(#clip080)\" d=\"M424.845 1517.37 Q421.234 1517.37 419.405 1520.93 Q417.599 1524.47 417.599 1531.6 Q417.599 1538.71 419.405 1542.27 Q421.234 1545.82 424.845 1545.82 Q428.479 1545.82 430.284 1542.27 Q432.113 1538.71 432.113 1531.6 Q432.113 1524.47 430.284 1520.93 Q428.479 1517.37 424.845 1517.37 M424.845 1513.66 Q430.655 1513.66 433.71 1518.27 Q436.789 1522.85 436.789 1531.6 Q436.789 1540.33 433.71 1544.94 Q430.655 1549.52 424.845 1549.52 Q419.035 1549.52 415.956 1544.94 Q412.9 1540.33 412.9 1531.6 Q412.9 1522.85 415.956 1518.27 Q419.035 1513.66 424.845 1513.66 Z\" fill=\"#000000\" fill-rule=\"evenodd\" fill-opacity=\"1\" /><path clip-path=\"url(#clip080)\" d=\"M445.007 1542.97 L449.891 1542.97 L449.891 1548.85 L445.007 1548.85 L445.007 1542.97 Z\" fill=\"#000000\" fill-rule=\"evenodd\" fill-opacity=\"1\" /><path clip-path=\"url(#clip080)\" d=\"M472.923 1518.36 L461.118 1536.81 L472.923 1536.81 L472.923 1518.36 M471.696 1514.29 L477.576 1514.29 L477.576 1536.81 L482.506 1536.81 L482.506 1540.7 L477.576 1540.7 L477.576 1548.85 L472.923 1548.85 L472.923 1540.7 L457.321 1540.7 L457.321 1536.19 L471.696 1514.29 Z\" fill=\"#000000\" fill-rule=\"evenodd\" fill-opacity=\"1\" /><path clip-path=\"url(#clip080)\" d=\"M795.898 1532.02 L825.574 1532.02 L825.574 1535.95 L795.898 1535.95 L795.898 1532.02 Z\" fill=\"#000000\" fill-rule=\"evenodd\" fill-opacity=\"1\" /><path clip-path=\"url(#clip080)\" d=\"M845.667 1517.37 Q842.056 1517.37 840.227 1520.93 Q838.421 1524.47 838.421 1531.6 Q838.421 1538.71 840.227 1542.27 Q842.056 1545.82 845.667 1545.82 Q849.301 1545.82 851.106 1542.27 Q852.935 1538.71 852.935 1531.6 Q852.935 1524.47 851.106 1520.93 Q849.301 1517.37 845.667 1517.37 M845.667 1513.66 Q851.477 1513.66 854.532 1518.27 Q857.611 1522.85 857.611 1531.6 Q857.611 1540.33 854.532 1544.94 Q851.477 1549.52 845.667 1549.52 Q839.857 1549.52 836.778 1544.94 Q833.722 1540.33 833.722 1531.6 Q833.722 1522.85 836.778 1518.27 Q839.857 1513.66 845.667 1513.66 Z\" fill=\"#000000\" fill-rule=\"evenodd\" fill-opacity=\"1\" /><path clip-path=\"url(#clip080)\" d=\"M865.829 1542.97 L870.713 1542.97 L870.713 1548.85 L865.829 1548.85 L865.829 1542.97 Z\" fill=\"#000000\" fill-rule=\"evenodd\" fill-opacity=\"1\" /><path clip-path=\"url(#clip080)\" d=\"M884.926 1544.91 L901.245 1544.91 L901.245 1548.85 L879.301 1548.85 L879.301 1544.91 Q881.963 1542.16 886.546 1537.53 Q891.153 1532.88 892.333 1531.53 Q894.578 1529.01 895.458 1527.27 Q896.361 1525.51 896.361 1523.82 Q896.361 1521.07 894.416 1519.33 Q892.495 1517.6 889.393 1517.6 Q887.194 1517.6 884.741 1518.36 Q882.31 1519.13 879.532 1520.68 L879.532 1515.95 Q882.356 1514.82 884.81 1514.24 Q887.264 1513.66 889.301 1513.66 Q894.671 1513.66 897.865 1516.35 Q901.06 1519.03 901.06 1523.52 Q901.06 1525.65 900.25 1527.57 Q899.463 1529.47 897.356 1532.07 Q896.778 1532.74 893.676 1535.95 Q890.574 1539.15 884.926 1544.91 Z\" fill=\"#000000\" fill-rule=\"evenodd\" fill-opacity=\"1\" /><path clip-path=\"url(#clip080)\" d=\"M1245.74 1517.37 Q1242.13 1517.37 1240.3 1520.93 Q1238.49 1524.47 1238.49 1531.6 Q1238.49 1538.71 1240.3 1542.27 Q1242.13 1545.82 1245.74 1545.82 Q1249.37 1545.82 1251.18 1542.27 Q1253 1538.71 1253 1531.6 Q1253 1524.47 1251.18 1520.93 Q1249.37 1517.37 1245.74 1517.37 M1245.74 1513.66 Q1251.55 1513.66 1254.6 1518.27 Q1257.68 1522.85 1257.68 1531.6 Q1257.68 1540.33 1254.6 1544.94 Q1251.55 1549.52 1245.74 1549.52 Q1239.93 1549.52 1236.85 1544.94 Q1233.79 1540.33 1233.79 1531.6 Q1233.79 1522.85 1236.85 1518.27 Q1239.93 1513.66 1245.74 1513.66 Z\" fill=\"#000000\" fill-rule=\"evenodd\" fill-opacity=\"1\" /><path clip-path=\"url(#clip080)\" d=\"M1265.9 1542.97 L1270.78 1542.97 L1270.78 1548.85 L1265.9 1548.85 L1265.9 1542.97 Z\" fill=\"#000000\" fill-rule=\"evenodd\" fill-opacity=\"1\" /><path clip-path=\"url(#clip080)\" d=\"M1290.97 1517.37 Q1287.36 1517.37 1285.53 1520.93 Q1283.72 1524.47 1283.72 1531.6 Q1283.72 1538.71 1285.53 1542.27 Q1287.36 1545.82 1290.97 1545.82 Q1294.6 1545.82 1296.41 1542.27 Q1298.24 1538.71 1298.24 1531.6 Q1298.24 1524.47 1296.41 1520.93 Q1294.6 1517.37 1290.97 1517.37 M1290.97 1513.66 Q1296.78 1513.66 1299.83 1518.27 Q1302.91 1522.85 1302.91 1531.6 Q1302.91 1540.33 1299.83 1544.94 Q1296.78 1549.52 1290.97 1549.52 Q1285.16 1549.52 1282.08 1544.94 Q1279.02 1540.33 1279.02 1531.6 Q1279.02 1522.85 1282.08 1518.27 Q1285.16 1513.66 1290.97 1513.66 Z\" fill=\"#000000\" fill-rule=\"evenodd\" fill-opacity=\"1\" /><path clip-path=\"url(#clip080)\" d=\"M1666.32 1517.37 Q1662.7 1517.37 1660.88 1520.93 Q1659.07 1524.47 1659.07 1531.6 Q1659.07 1538.71 1660.88 1542.27 Q1662.7 1545.82 1666.32 1545.82 Q1669.95 1545.82 1671.76 1542.27 Q1673.58 1538.71 1673.58 1531.6 Q1673.58 1524.47 1671.76 1520.93 Q1669.95 1517.37 1666.32 1517.37 M1666.32 1513.66 Q1672.13 1513.66 1675.18 1518.27 Q1678.26 1522.85 1678.26 1531.6 Q1678.26 1540.33 1675.18 1544.94 Q1672.13 1549.52 1666.32 1549.52 Q1660.51 1549.52 1657.43 1544.94 Q1654.37 1540.33 1654.37 1531.6 Q1654.37 1522.85 1657.43 1518.27 Q1660.51 1513.66 1666.32 1513.66 Z\" fill=\"#000000\" fill-rule=\"evenodd\" fill-opacity=\"1\" /><path clip-path=\"url(#clip080)\" d=\"M1686.48 1542.97 L1691.36 1542.97 L1691.36 1548.85 L1686.48 1548.85 L1686.48 1542.97 Z\" fill=\"#000000\" fill-rule=\"evenodd\" fill-opacity=\"1\" /><path clip-path=\"url(#clip080)\" d=\"M1705.57 1544.91 L1721.89 1544.91 L1721.89 1548.85 L1699.95 1548.85 L1699.95 1544.91 Q1702.61 1542.16 1707.19 1537.53 Q1711.8 1532.88 1712.98 1531.53 Q1715.23 1529.01 1716.11 1527.27 Q1717.01 1525.51 1717.01 1523.82 Q1717.01 1521.07 1715.07 1519.33 Q1713.14 1517.6 1710.04 1517.6 Q1707.84 1517.6 1705.39 1518.36 Q1702.96 1519.13 1700.18 1520.68 L1700.18 1515.95 Q1703.01 1514.82 1705.46 1514.24 Q1707.91 1513.66 1709.95 1513.66 Q1715.32 1513.66 1718.51 1516.35 Q1721.71 1519.03 1721.71 1523.52 Q1721.71 1525.65 1720.9 1527.57 Q1720.11 1529.47 1718 1532.07 Q1717.43 1532.74 1714.32 1535.95 Q1711.22 1539.15 1705.57 1544.91 Z\" fill=\"#000000\" fill-rule=\"evenodd\" fill-opacity=\"1\" /><path clip-path=\"url(#clip080)\" d=\"M2085.05 1517.37 Q2081.44 1517.37 2079.61 1520.93 Q2077.81 1524.47 2077.81 1531.6 Q2077.81 1538.71 2079.61 1542.27 Q2081.44 1545.82 2085.05 1545.82 Q2088.69 1545.82 2090.49 1542.27 Q2092.32 1538.71 2092.32 1531.6 Q2092.32 1524.47 2090.49 1520.93 Q2088.69 1517.37 2085.05 1517.37 M2085.05 1513.66 Q2090.86 1513.66 2093.92 1518.27 Q2097 1522.85 2097 1531.6 Q2097 1540.33 2093.92 1544.94 Q2090.86 1549.52 2085.05 1549.52 Q2079.24 1549.52 2076.17 1544.94 Q2073.11 1540.33 2073.11 1531.6 Q2073.11 1522.85 2076.17 1518.27 Q2079.24 1513.66 2085.05 1513.66 Z\" fill=\"#000000\" fill-rule=\"evenodd\" fill-opacity=\"1\" /><path clip-path=\"url(#clip080)\" d=\"M2105.22 1542.97 L2110.1 1542.97 L2110.1 1548.85 L2105.22 1548.85 L2105.22 1542.97 Z\" fill=\"#000000\" fill-rule=\"evenodd\" fill-opacity=\"1\" /><path clip-path=\"url(#clip080)\" d=\"M2133.13 1518.36 L2121.33 1536.81 L2133.13 1536.81 L2133.13 1518.36 M2131.91 1514.29 L2137.79 1514.29 L2137.79 1536.81 L2142.72 1536.81 L2142.72 1540.7 L2137.79 1540.7 L2137.79 1548.85 L2133.13 1548.85 L2133.13 1540.7 L2117.53 1540.7 L2117.53 1536.19 L2131.91 1514.29 Z\" fill=\"#000000\" fill-rule=\"evenodd\" fill-opacity=\"1\" /><polyline clip-path=\"url(#clip082)\" style=\"stroke:#000000; stroke-linecap:butt; stroke-linejoin:round; stroke-width:2; stroke-opacity:0.1; fill:none\" points=\"\n",
       "  186.274,1445.75 2352.76,1445.75 \n",
       "  \"/>\n",
       "<polyline clip-path=\"url(#clip082)\" style=\"stroke:#000000; stroke-linecap:butt; stroke-linejoin:round; stroke-width:2; stroke-opacity:0.1; fill:none\" points=\"\n",
       "  186.274,1160.02 2352.76,1160.02 \n",
       "  \"/>\n",
       "<polyline clip-path=\"url(#clip082)\" style=\"stroke:#000000; stroke-linecap:butt; stroke-linejoin:round; stroke-width:2; stroke-opacity:0.1; fill:none\" points=\"\n",
       "  186.274,874.292 2352.76,874.292 \n",
       "  \"/>\n",
       "<polyline clip-path=\"url(#clip082)\" style=\"stroke:#000000; stroke-linecap:butt; stroke-linejoin:round; stroke-width:2; stroke-opacity:0.1; fill:none\" points=\"\n",
       "  186.274,588.562 2352.76,588.562 \n",
       "  \"/>\n",
       "<polyline clip-path=\"url(#clip082)\" style=\"stroke:#000000; stroke-linecap:butt; stroke-linejoin:round; stroke-width:2; stroke-opacity:0.1; fill:none\" points=\"\n",
       "  186.274,302.832 2352.76,302.832 \n",
       "  \"/>\n",
       "<polyline clip-path=\"url(#clip080)\" style=\"stroke:#000000; stroke-linecap:butt; stroke-linejoin:round; stroke-width:4; stroke-opacity:1; fill:none\" points=\"\n",
       "  186.274,1486.45 186.274,47.2441 \n",
       "  \"/>\n",
       "<polyline clip-path=\"url(#clip080)\" style=\"stroke:#000000; stroke-linecap:butt; stroke-linejoin:round; stroke-width:4; stroke-opacity:1; fill:none\" points=\"\n",
       "  186.274,1445.75 205.172,1445.75 \n",
       "  \"/>\n",
       "<polyline clip-path=\"url(#clip080)\" style=\"stroke:#000000; stroke-linecap:butt; stroke-linejoin:round; stroke-width:4; stroke-opacity:1; fill:none\" points=\"\n",
       "  186.274,1160.02 205.172,1160.02 \n",
       "  \"/>\n",
       "<polyline clip-path=\"url(#clip080)\" style=\"stroke:#000000; stroke-linecap:butt; stroke-linejoin:round; stroke-width:4; stroke-opacity:1; fill:none\" points=\"\n",
       "  186.274,874.292 205.172,874.292 \n",
       "  \"/>\n",
       "<polyline clip-path=\"url(#clip080)\" style=\"stroke:#000000; stroke-linecap:butt; stroke-linejoin:round; stroke-width:4; stroke-opacity:1; fill:none\" points=\"\n",
       "  186.274,588.562 205.172,588.562 \n",
       "  \"/>\n",
       "<polyline clip-path=\"url(#clip080)\" style=\"stroke:#000000; stroke-linecap:butt; stroke-linejoin:round; stroke-width:4; stroke-opacity:1; fill:none\" points=\"\n",
       "  186.274,302.832 205.172,302.832 \n",
       "  \"/>\n",
       "<path clip-path=\"url(#clip080)\" d=\"M62.9365 1431.55 Q59.3254 1431.55 57.4967 1435.12 Q55.6912 1438.66 55.6912 1445.79 Q55.6912 1452.89 57.4967 1456.46 Q59.3254 1460 62.9365 1460 Q66.5707 1460 68.3763 1456.46 Q70.205 1452.89 70.205 1445.79 Q70.205 1438.66 68.3763 1435.12 Q66.5707 1431.55 62.9365 1431.55 M62.9365 1427.85 Q68.7467 1427.85 71.8022 1432.45 Q74.8809 1437.04 74.8809 1445.79 Q74.8809 1454.51 71.8022 1459.12 Q68.7467 1463.7 62.9365 1463.7 Q57.1264 1463.7 54.0477 1459.12 Q50.9921 1454.51 50.9921 1445.79 Q50.9921 1437.04 54.0477 1432.45 Q57.1264 1427.85 62.9365 1427.85 Z\" fill=\"#000000\" fill-rule=\"evenodd\" fill-opacity=\"1\" /><path clip-path=\"url(#clip080)\" d=\"M83.0984 1457.15 L87.9827 1457.15 L87.9827 1463.03 L83.0984 1463.03 L83.0984 1457.15 Z\" fill=\"#000000\" fill-rule=\"evenodd\" fill-opacity=\"1\" /><path clip-path=\"url(#clip080)\" d=\"M108.168 1431.55 Q104.557 1431.55 102.728 1435.12 Q100.922 1438.66 100.922 1445.79 Q100.922 1452.89 102.728 1456.46 Q104.557 1460 108.168 1460 Q111.802 1460 113.608 1456.46 Q115.436 1452.89 115.436 1445.79 Q115.436 1438.66 113.608 1435.12 Q111.802 1431.55 108.168 1431.55 M108.168 1427.85 Q113.978 1427.85 117.033 1432.45 Q120.112 1437.04 120.112 1445.79 Q120.112 1454.51 117.033 1459.12 Q113.978 1463.7 108.168 1463.7 Q102.358 1463.7 99.2789 1459.12 Q96.2234 1454.51 96.2234 1445.79 Q96.2234 1437.04 99.2789 1432.45 Q102.358 1427.85 108.168 1427.85 Z\" fill=\"#000000\" fill-rule=\"evenodd\" fill-opacity=\"1\" /><path clip-path=\"url(#clip080)\" d=\"M138.33 1431.55 Q134.719 1431.55 132.89 1435.12 Q131.084 1438.66 131.084 1445.79 Q131.084 1452.89 132.89 1456.46 Q134.719 1460 138.33 1460 Q141.964 1460 143.769 1456.46 Q145.598 1452.89 145.598 1445.79 Q145.598 1438.66 143.769 1435.12 Q141.964 1431.55 138.33 1431.55 M138.33 1427.85 Q144.14 1427.85 147.195 1432.45 Q150.274 1437.04 150.274 1445.79 Q150.274 1454.51 147.195 1459.12 Q144.14 1463.7 138.33 1463.7 Q132.519 1463.7 129.441 1459.12 Q126.385 1454.51 126.385 1445.79 Q126.385 1437.04 129.441 1432.45 Q132.519 1427.85 138.33 1427.85 Z\" fill=\"#000000\" fill-rule=\"evenodd\" fill-opacity=\"1\" /><path clip-path=\"url(#clip080)\" d=\"M63.9319 1145.82 Q60.3208 1145.82 58.4921 1149.39 Q56.6865 1152.93 56.6865 1160.06 Q56.6865 1167.16 58.4921 1170.73 Q60.3208 1174.27 63.9319 1174.27 Q67.5661 1174.27 69.3717 1170.73 Q71.2004 1167.16 71.2004 1160.06 Q71.2004 1152.93 69.3717 1149.39 Q67.5661 1145.82 63.9319 1145.82 M63.9319 1142.12 Q69.742 1142.12 72.7976 1146.72 Q75.8763 1151.31 75.8763 1160.06 Q75.8763 1168.78 72.7976 1173.39 Q69.742 1177.97 63.9319 1177.97 Q58.1217 1177.97 55.043 1173.39 Q51.9875 1168.78 51.9875 1160.06 Q51.9875 1151.31 55.043 1146.72 Q58.1217 1142.12 63.9319 1142.12 Z\" fill=\"#000000\" fill-rule=\"evenodd\" fill-opacity=\"1\" /><path clip-path=\"url(#clip080)\" d=\"M84.0938 1171.42 L88.978 1171.42 L88.978 1177.3 L84.0938 1177.3 L84.0938 1171.42 Z\" fill=\"#000000\" fill-rule=\"evenodd\" fill-opacity=\"1\" /><path clip-path=\"url(#clip080)\" d=\"M109.163 1145.82 Q105.552 1145.82 103.723 1149.39 Q101.918 1152.93 101.918 1160.06 Q101.918 1167.16 103.723 1170.73 Q105.552 1174.27 109.163 1174.27 Q112.797 1174.27 114.603 1170.73 Q116.432 1167.16 116.432 1160.06 Q116.432 1152.93 114.603 1149.39 Q112.797 1145.82 109.163 1145.82 M109.163 1142.12 Q114.973 1142.12 118.029 1146.72 Q121.107 1151.31 121.107 1160.06 Q121.107 1168.78 118.029 1173.39 Q114.973 1177.97 109.163 1177.97 Q103.353 1177.97 100.274 1173.39 Q97.2187 1168.78 97.2187 1160.06 Q97.2187 1151.31 100.274 1146.72 Q103.353 1142.12 109.163 1142.12 Z\" fill=\"#000000\" fill-rule=\"evenodd\" fill-opacity=\"1\" /><path clip-path=\"url(#clip080)\" d=\"M129.371 1142.74 L147.728 1142.74 L147.728 1146.68 L133.654 1146.68 L133.654 1155.15 Q134.672 1154.8 135.691 1154.64 Q136.709 1154.46 137.728 1154.46 Q143.515 1154.46 146.894 1157.63 Q150.274 1160.8 150.274 1166.21 Q150.274 1171.79 146.802 1174.89 Q143.33 1177.97 137.01 1177.97 Q134.834 1177.97 132.566 1177.6 Q130.32 1177.23 127.913 1176.49 L127.913 1171.79 Q129.996 1172.93 132.219 1173.48 Q134.441 1174.04 136.918 1174.04 Q140.922 1174.04 143.26 1171.93 Q145.598 1169.83 145.598 1166.21 Q145.598 1162.6 143.26 1160.5 Q140.922 1158.39 136.918 1158.39 Q135.043 1158.39 133.168 1158.81 Q131.316 1159.22 129.371 1160.1 L129.371 1142.74 Z\" fill=\"#000000\" fill-rule=\"evenodd\" fill-opacity=\"1\" /><path clip-path=\"url(#clip080)\" d=\"M62.9365 860.091 Q59.3254 860.091 57.4967 863.656 Q55.6912 867.197 55.6912 874.327 Q55.6912 881.433 57.4967 884.998 Q59.3254 888.54 62.9365 888.54 Q66.5707 888.54 68.3763 884.998 Q70.205 881.433 70.205 874.327 Q70.205 867.197 68.3763 863.656 Q66.5707 860.091 62.9365 860.091 M62.9365 856.387 Q68.7467 856.387 71.8022 860.994 Q74.8809 865.577 74.8809 874.327 Q74.8809 883.054 71.8022 887.66 Q68.7467 892.243 62.9365 892.243 Q57.1264 892.243 54.0477 887.66 Q50.9921 883.054 50.9921 874.327 Q50.9921 865.577 54.0477 860.994 Q57.1264 856.387 62.9365 856.387 Z\" fill=\"#000000\" fill-rule=\"evenodd\" fill-opacity=\"1\" /><path clip-path=\"url(#clip080)\" d=\"M83.0984 885.692 L87.9827 885.692 L87.9827 891.572 L83.0984 891.572 L83.0984 885.692 Z\" fill=\"#000000\" fill-rule=\"evenodd\" fill-opacity=\"1\" /><path clip-path=\"url(#clip080)\" d=\"M98.978 887.637 L106.617 887.637 L106.617 861.271 L98.3067 862.938 L98.3067 858.679 L106.571 857.012 L111.246 857.012 L111.246 887.637 L118.885 887.637 L118.885 891.572 L98.978 891.572 L98.978 887.637 Z\" fill=\"#000000\" fill-rule=\"evenodd\" fill-opacity=\"1\" /><path clip-path=\"url(#clip080)\" d=\"M138.33 860.091 Q134.719 860.091 132.89 863.656 Q131.084 867.197 131.084 874.327 Q131.084 881.433 132.89 884.998 Q134.719 888.54 138.33 888.54 Q141.964 888.54 143.769 884.998 Q145.598 881.433 145.598 874.327 Q145.598 867.197 143.769 863.656 Q141.964 860.091 138.33 860.091 M138.33 856.387 Q144.14 856.387 147.195 860.994 Q150.274 865.577 150.274 874.327 Q150.274 883.054 147.195 887.66 Q144.14 892.243 138.33 892.243 Q132.519 892.243 129.441 887.66 Q126.385 883.054 126.385 874.327 Q126.385 865.577 129.441 860.994 Q132.519 856.387 138.33 856.387 Z\" fill=\"#000000\" fill-rule=\"evenodd\" fill-opacity=\"1\" /><path clip-path=\"url(#clip080)\" d=\"M63.9319 574.361 Q60.3208 574.361 58.4921 577.925 Q56.6865 581.467 56.6865 588.597 Q56.6865 595.703 58.4921 599.268 Q60.3208 602.81 63.9319 602.81 Q67.5661 602.81 69.3717 599.268 Q71.2004 595.703 71.2004 588.597 Q71.2004 581.467 69.3717 577.925 Q67.5661 574.361 63.9319 574.361 M63.9319 570.657 Q69.742 570.657 72.7976 575.263 Q75.8763 579.847 75.8763 588.597 Q75.8763 597.323 72.7976 601.93 Q69.742 606.513 63.9319 606.513 Q58.1217 606.513 55.043 601.93 Q51.9875 597.323 51.9875 588.597 Q51.9875 579.847 55.043 575.263 Q58.1217 570.657 63.9319 570.657 Z\" fill=\"#000000\" fill-rule=\"evenodd\" fill-opacity=\"1\" /><path clip-path=\"url(#clip080)\" d=\"M84.0938 599.962 L88.978 599.962 L88.978 605.842 L84.0938 605.842 L84.0938 599.962 Z\" fill=\"#000000\" fill-rule=\"evenodd\" fill-opacity=\"1\" /><path clip-path=\"url(#clip080)\" d=\"M99.9733 601.907 L107.612 601.907 L107.612 575.541 L99.3021 577.208 L99.3021 572.949 L107.566 571.282 L112.242 571.282 L112.242 601.907 L119.881 601.907 L119.881 605.842 L99.9733 605.842 L99.9733 601.907 Z\" fill=\"#000000\" fill-rule=\"evenodd\" fill-opacity=\"1\" /><path clip-path=\"url(#clip080)\" d=\"M129.371 571.282 L147.728 571.282 L147.728 575.217 L133.654 575.217 L133.654 583.689 Q134.672 583.342 135.691 583.18 Q136.709 582.995 137.728 582.995 Q143.515 582.995 146.894 586.166 Q150.274 589.337 150.274 594.754 Q150.274 600.333 146.802 603.434 Q143.33 606.513 137.01 606.513 Q134.834 606.513 132.566 606.143 Q130.32 605.772 127.913 605.032 L127.913 600.333 Q129.996 601.467 132.219 602.022 Q134.441 602.578 136.918 602.578 Q140.922 602.578 143.26 600.472 Q145.598 598.365 145.598 594.754 Q145.598 591.143 143.26 589.036 Q140.922 586.93 136.918 586.93 Q135.043 586.93 133.168 587.347 Q131.316 587.763 129.371 588.643 L129.371 571.282 Z\" fill=\"#000000\" fill-rule=\"evenodd\" fill-opacity=\"1\" /><path clip-path=\"url(#clip080)\" d=\"M62.9365 288.63 Q59.3254 288.63 57.4967 292.195 Q55.6912 295.737 55.6912 302.866 Q55.6912 309.973 57.4967 313.538 Q59.3254 317.079 62.9365 317.079 Q66.5707 317.079 68.3763 313.538 Q70.205 309.973 70.205 302.866 Q70.205 295.737 68.3763 292.195 Q66.5707 288.63 62.9365 288.63 M62.9365 284.927 Q68.7467 284.927 71.8022 289.533 Q74.8809 294.117 74.8809 302.866 Q74.8809 311.593 71.8022 316.2 Q68.7467 320.783 62.9365 320.783 Q57.1264 320.783 54.0477 316.2 Q50.9921 311.593 50.9921 302.866 Q50.9921 294.117 54.0477 289.533 Q57.1264 284.927 62.9365 284.927 Z\" fill=\"#000000\" fill-rule=\"evenodd\" fill-opacity=\"1\" /><path clip-path=\"url(#clip080)\" d=\"M83.0984 314.232 L87.9827 314.232 L87.9827 320.112 L83.0984 320.112 L83.0984 314.232 Z\" fill=\"#000000\" fill-rule=\"evenodd\" fill-opacity=\"1\" /><path clip-path=\"url(#clip080)\" d=\"M102.196 316.177 L118.515 316.177 L118.515 320.112 L96.5706 320.112 L96.5706 316.177 Q99.2326 313.422 103.816 308.792 Q108.422 304.14 109.603 302.797 Q111.848 300.274 112.728 298.538 Q113.631 296.779 113.631 295.089 Q113.631 292.334 111.686 290.598 Q109.765 288.862 106.663 288.862 Q104.464 288.862 102.01 289.626 Q99.5798 290.39 96.8021 291.941 L96.8021 287.218 Q99.6261 286.084 102.08 285.505 Q104.534 284.927 106.571 284.927 Q111.941 284.927 115.135 287.612 Q118.33 290.297 118.33 294.788 Q118.33 296.917 117.52 298.839 Q116.733 300.737 114.626 303.329 Q114.047 304.001 110.946 307.218 Q107.844 310.413 102.196 316.177 Z\" fill=\"#000000\" fill-rule=\"evenodd\" fill-opacity=\"1\" /><path clip-path=\"url(#clip080)\" d=\"M138.33 288.63 Q134.719 288.63 132.89 292.195 Q131.084 295.737 131.084 302.866 Q131.084 309.973 132.89 313.538 Q134.719 317.079 138.33 317.079 Q141.964 317.079 143.769 313.538 Q145.598 309.973 145.598 302.866 Q145.598 295.737 143.769 292.195 Q141.964 288.63 138.33 288.63 M138.33 284.927 Q144.14 284.927 147.195 289.533 Q150.274 294.117 150.274 302.866 Q150.274 311.593 147.195 316.2 Q144.14 320.783 138.33 320.783 Q132.519 320.783 129.441 316.2 Q126.385 311.593 126.385 302.866 Q126.385 294.117 129.441 289.533 Q132.519 284.927 138.33 284.927 Z\" fill=\"#000000\" fill-rule=\"evenodd\" fill-opacity=\"1\" /><circle clip-path=\"url(#clip082)\" cx=\"2151.17\" cy=\"434.763\" r=\"14\" fill=\"#009af9\" fill-rule=\"evenodd\" fill-opacity=\"1\" stroke=\"#000000\" stroke-opacity=\"1\" stroke-width=\"3.2\"/>\n",
       "<circle clip-path=\"url(#clip082)\" cx=\"2214.16\" cy=\"285.356\" r=\"14\" fill=\"#009af9\" fill-rule=\"evenodd\" fill-opacity=\"1\" stroke=\"#000000\" stroke-opacity=\"1\" stroke-width=\"3.2\"/>\n",
       "<circle clip-path=\"url(#clip082)\" cx=\"1945.78\" cy=\"850.464\" r=\"14\" fill=\"#009af9\" fill-rule=\"evenodd\" fill-opacity=\"1\" stroke=\"#000000\" stroke-opacity=\"1\" stroke-width=\"3.2\"/>\n",
       "<circle clip-path=\"url(#clip082)\" cx=\"1453.71\" cy=\"1401.19\" r=\"14\" fill=\"#009af9\" fill-rule=\"evenodd\" fill-opacity=\"1\" stroke=\"#000000\" stroke-opacity=\"1\" stroke-width=\"3.2\"/>\n",
       "<circle clip-path=\"url(#clip082)\" cx=\"1242.08\" cy=\"1444.86\" r=\"14\" fill=\"#009af9\" fill-rule=\"evenodd\" fill-opacity=\"1\" stroke=\"#000000\" stroke-opacity=\"1\" stroke-width=\"3.2\"/>\n",
       "<circle clip-path=\"url(#clip082)\" cx=\"1525.47\" cy=\"1360\" r=\"14\" fill=\"#009af9\" fill-rule=\"evenodd\" fill-opacity=\"1\" stroke=\"#000000\" stroke-opacity=\"1\" stroke-width=\"3.2\"/>\n",
       "<circle clip-path=\"url(#clip082)\" cx=\"1719.13\" cy=\"1182.17\" r=\"14\" fill=\"#009af9\" fill-rule=\"evenodd\" fill-opacity=\"1\" stroke=\"#000000\" stroke-opacity=\"1\" stroke-width=\"3.2\"/>\n",
       "<circle clip-path=\"url(#clip082)\" cx=\"921.154\" cy=\"1289.38\" r=\"14\" fill=\"#009af9\" fill-rule=\"evenodd\" fill-opacity=\"1\" stroke=\"#000000\" stroke-opacity=\"1\" stroke-width=\"3.2\"/>\n",
       "<circle clip-path=\"url(#clip082)\" cx=\"466.968\" cy=\"612.678\" r=\"14\" fill=\"#009af9\" fill-rule=\"evenodd\" fill-opacity=\"1\" stroke=\"#000000\" stroke-opacity=\"1\" stroke-width=\"3.2\"/>\n",
       "<circle clip-path=\"url(#clip082)\" cx=\"1835.4\" cy=\"1028.65\" r=\"14\" fill=\"#009af9\" fill-rule=\"evenodd\" fill-opacity=\"1\" stroke=\"#000000\" stroke-opacity=\"1\" stroke-width=\"3.2\"/>\n",
       "<circle clip-path=\"url(#clip082)\" cx=\"833.907\" cy=\"1200.92\" r=\"14\" fill=\"#009af9\" fill-rule=\"evenodd\" fill-opacity=\"1\" stroke=\"#000000\" stroke-opacity=\"1\" stroke-width=\"3.2\"/>\n",
       "<circle clip-path=\"url(#clip082)\" cx=\"1748.96\" cy=\"1146.12\" r=\"14\" fill=\"#009af9\" fill-rule=\"evenodd\" fill-opacity=\"1\" stroke=\"#000000\" stroke-opacity=\"1\" stroke-width=\"3.2\"/>\n",
       "<circle clip-path=\"url(#clip082)\" cx=\"1892.9\" cy=\"939.769\" r=\"14\" fill=\"#009af9\" fill-rule=\"evenodd\" fill-opacity=\"1\" stroke=\"#000000\" stroke-opacity=\"1\" stroke-width=\"3.2\"/>\n",
       "<circle clip-path=\"url(#clip082)\" cx=\"1812.12\" cy=\"1062.19\" r=\"14\" fill=\"#009af9\" fill-rule=\"evenodd\" fill-opacity=\"1\" stroke=\"#000000\" stroke-opacity=\"1\" stroke-width=\"3.2\"/>\n",
       "<circle clip-path=\"url(#clip082)\" cx=\"2012.02\" cy=\"728.354\" r=\"14\" fill=\"#009af9\" fill-rule=\"evenodd\" fill-opacity=\"1\" stroke=\"#000000\" stroke-opacity=\"1\" stroke-width=\"3.2\"/>\n",
       "<circle clip-path=\"url(#clip082)\" cx=\"1644.96\" cy=\"1261.76\" r=\"14\" fill=\"#009af9\" fill-rule=\"evenodd\" fill-opacity=\"1\" stroke=\"#000000\" stroke-opacity=\"1\" stroke-width=\"3.2\"/>\n",
       "<circle clip-path=\"url(#clip082)\" cx=\"2106.69\" cy=\"534.076\" r=\"14\" fill=\"#009af9\" fill-rule=\"evenodd\" fill-opacity=\"1\" stroke=\"#000000\" stroke-opacity=\"1\" stroke-width=\"3.2\"/>\n",
       "<circle clip-path=\"url(#clip082)\" cx=\"1584.48\" cy=\"1316.11\" r=\"14\" fill=\"#009af9\" fill-rule=\"evenodd\" fill-opacity=\"1\" stroke=\"#000000\" stroke-opacity=\"1\" stroke-width=\"3.2\"/>\n",
       "<circle clip-path=\"url(#clip082)\" cx=\"1783.83\" cy=\"1101.06\" r=\"14\" fill=\"#009af9\" fill-rule=\"evenodd\" fill-opacity=\"1\" stroke=\"#000000\" stroke-opacity=\"1\" stroke-width=\"3.2\"/>\n",
       "<circle clip-path=\"url(#clip082)\" cx=\"1850.96\" cy=\"1005.45\" r=\"14\" fill=\"#009af9\" fill-rule=\"evenodd\" fill-opacity=\"1\" stroke=\"#000000\" stroke-opacity=\"1\" stroke-width=\"3.2\"/>\n",
       "<circle clip-path=\"url(#clip082)\" cx=\"715.201\" cy=\"1048.85\" r=\"14\" fill=\"#009af9\" fill-rule=\"evenodd\" fill-opacity=\"1\" stroke=\"#000000\" stroke-opacity=\"1\" stroke-width=\"3.2\"/>\n",
       "<circle clip-path=\"url(#clip082)\" cx=\"305.831\" cy=\"243.979\" r=\"14\" fill=\"#009af9\" fill-rule=\"evenodd\" fill-opacity=\"1\" stroke=\"#000000\" stroke-opacity=\"1\" stroke-width=\"3.2\"/>\n",
       "<circle clip-path=\"url(#clip082)\" cx=\"2161.6\" cy=\"410.746\" r=\"14\" fill=\"#009af9\" fill-rule=\"evenodd\" fill-opacity=\"1\" stroke=\"#000000\" stroke-opacity=\"1\" stroke-width=\"3.2\"/>\n",
       "<circle clip-path=\"url(#clip082)\" cx=\"1120.82\" cy=\"1417.52\" r=\"14\" fill=\"#009af9\" fill-rule=\"evenodd\" fill-opacity=\"1\" stroke=\"#000000\" stroke-opacity=\"1\" stroke-width=\"3.2\"/>\n",
       "<circle clip-path=\"url(#clip082)\" cx=\"1275.6\" cy=\"1445.68\" r=\"14\" fill=\"#009af9\" fill-rule=\"evenodd\" fill-opacity=\"1\" stroke=\"#000000\" stroke-opacity=\"1\" stroke-width=\"3.2\"/>\n",
       "<circle clip-path=\"url(#clip082)\" cx=\"678.334\" cy=\"994.174\" r=\"14\" fill=\"#009af9\" fill-rule=\"evenodd\" fill-opacity=\"1\" stroke=\"#000000\" stroke-opacity=\"1\" stroke-width=\"3.2\"/>\n",
       "<circle clip-path=\"url(#clip082)\" cx=\"303.013\" cy=\"236.933\" r=\"14\" fill=\"#009af9\" fill-rule=\"evenodd\" fill-opacity=\"1\" stroke=\"#000000\" stroke-opacity=\"1\" stroke-width=\"3.2\"/>\n",
       "<circle clip-path=\"url(#clip082)\" cx=\"634.157\" cy=\"924.021\" r=\"14\" fill=\"#009af9\" fill-rule=\"evenodd\" fill-opacity=\"1\" stroke=\"#000000\" stroke-opacity=\"1\" stroke-width=\"3.2\"/>\n",
       "<circle clip-path=\"url(#clip082)\" cx=\"2196.42\" cy=\"328.486\" r=\"14\" fill=\"#009af9\" fill-rule=\"evenodd\" fill-opacity=\"1\" stroke=\"#000000\" stroke-opacity=\"1\" stroke-width=\"3.2\"/>\n",
       "<circle clip-path=\"url(#clip082)\" cx=\"665.312\" cy=\"974.021\" r=\"14\" fill=\"#009af9\" fill-rule=\"evenodd\" fill-opacity=\"1\" stroke=\"#000000\" stroke-opacity=\"1\" stroke-width=\"3.2\"/>\n",
       "<circle clip-path=\"url(#clip082)\" cx=\"1505.88\" cy=\"1372.57\" r=\"14\" fill=\"#009af9\" fill-rule=\"evenodd\" fill-opacity=\"1\" stroke=\"#000000\" stroke-opacity=\"1\" stroke-width=\"3.2\"/>\n",
       "<circle clip-path=\"url(#clip082)\" cx=\"477.784\" cy=\"635.015\" r=\"14\" fill=\"#009af9\" fill-rule=\"evenodd\" fill-opacity=\"1\" stroke=\"#000000\" stroke-opacity=\"1\" stroke-width=\"3.2\"/>\n",
       "<circle clip-path=\"url(#clip082)\" cx=\"2220.43\" cy=\"269.908\" r=\"14\" fill=\"#009af9\" fill-rule=\"evenodd\" fill-opacity=\"1\" stroke=\"#000000\" stroke-opacity=\"1\" stroke-width=\"3.2\"/>\n",
       "<circle clip-path=\"url(#clip082)\" cx=\"1369.58\" cy=\"1432.46\" r=\"14\" fill=\"#009af9\" fill-rule=\"evenodd\" fill-opacity=\"1\" stroke=\"#000000\" stroke-opacity=\"1\" stroke-width=\"3.2\"/>\n",
       "<circle clip-path=\"url(#clip082)\" cx=\"1907.5\" cy=\"915.835\" r=\"14\" fill=\"#009af9\" fill-rule=\"evenodd\" fill-opacity=\"1\" stroke=\"#000000\" stroke-opacity=\"1\" stroke-width=\"3.2\"/>\n",
       "<circle clip-path=\"url(#clip082)\" cx=\"280.061\" cy=\"178.767\" r=\"14\" fill=\"#009af9\" fill-rule=\"evenodd\" fill-opacity=\"1\" stroke=\"#000000\" stroke-opacity=\"1\" stroke-width=\"3.2\"/>\n",
       "<circle clip-path=\"url(#clip082)\" cx=\"513.832\" cy=\"707.264\" r=\"14\" fill=\"#009af9\" fill-rule=\"evenodd\" fill-opacity=\"1\" stroke=\"#000000\" stroke-opacity=\"1\" stroke-width=\"3.2\"/>\n",
       "<circle clip-path=\"url(#clip082)\" cx=\"1805.54\" cy=\"1071.43\" r=\"14\" fill=\"#009af9\" fill-rule=\"evenodd\" fill-opacity=\"1\" stroke=\"#000000\" stroke-opacity=\"1\" stroke-width=\"3.2\"/>\n",
       "<circle clip-path=\"url(#clip082)\" cx=\"2291.44\" cy=\"87.9763\" r=\"14\" fill=\"#009af9\" fill-rule=\"evenodd\" fill-opacity=\"1\" stroke=\"#000000\" stroke-opacity=\"1\" stroke-width=\"3.2\"/>\n",
       "<circle clip-path=\"url(#clip082)\" cx=\"985.734\" cy=\"1342.14\" r=\"14\" fill=\"#009af9\" fill-rule=\"evenodd\" fill-opacity=\"1\" stroke=\"#000000\" stroke-opacity=\"1\" stroke-width=\"3.2\"/>\n",
       "<circle clip-path=\"url(#clip082)\" cx=\"1449.61\" cy=\"1403.13\" r=\"14\" fill=\"#009af9\" fill-rule=\"evenodd\" fill-opacity=\"1\" stroke=\"#000000\" stroke-opacity=\"1\" stroke-width=\"3.2\"/>\n",
       "<circle clip-path=\"url(#clip082)\" cx=\"458.88\" cy=\"595.778\" r=\"14\" fill=\"#009af9\" fill-rule=\"evenodd\" fill-opacity=\"1\" stroke=\"#000000\" stroke-opacity=\"1\" stroke-width=\"3.2\"/>\n",
       "<circle clip-path=\"url(#clip082)\" cx=\"1179.95\" cy=\"1435.61\" r=\"14\" fill=\"#009af9\" fill-rule=\"evenodd\" fill-opacity=\"1\" stroke=\"#000000\" stroke-opacity=\"1\" stroke-width=\"3.2\"/>\n",
       "<circle clip-path=\"url(#clip082)\" cx=\"442.044\" cy=\"560.053\" r=\"14\" fill=\"#009af9\" fill-rule=\"evenodd\" fill-opacity=\"1\" stroke=\"#000000\" stroke-opacity=\"1\" stroke-width=\"3.2\"/>\n",
       "<circle clip-path=\"url(#clip082)\" cx=\"1485.53\" cy=\"1384.57\" r=\"14\" fill=\"#009af9\" fill-rule=\"evenodd\" fill-opacity=\"1\" stroke=\"#000000\" stroke-opacity=\"1\" stroke-width=\"3.2\"/>\n",
       "<circle clip-path=\"url(#clip082)\" cx=\"438.745\" cy=\"552.968\" r=\"14\" fill=\"#009af9\" fill-rule=\"evenodd\" fill-opacity=\"1\" stroke=\"#000000\" stroke-opacity=\"1\" stroke-width=\"3.2\"/>\n",
       "<circle clip-path=\"url(#clip082)\" cx=\"1642.16\" cy=\"1264.5\" r=\"14\" fill=\"#009af9\" fill-rule=\"evenodd\" fill-opacity=\"1\" stroke=\"#000000\" stroke-opacity=\"1\" stroke-width=\"3.2\"/>\n",
       "<circle clip-path=\"url(#clip082)\" cx=\"1135.46\" cy=\"1422.85\" r=\"14\" fill=\"#009af9\" fill-rule=\"evenodd\" fill-opacity=\"1\" stroke=\"#000000\" stroke-opacity=\"1\" stroke-width=\"3.2\"/>\n",
       "<circle clip-path=\"url(#clip082)\" cx=\"1276.38\" cy=\"1445.67\" r=\"14\" fill=\"#009af9\" fill-rule=\"evenodd\" fill-opacity=\"1\" stroke=\"#000000\" stroke-opacity=\"1\" stroke-width=\"3.2\"/>\n",
       "<circle clip-path=\"url(#clip082)\" cx=\"2007.8\" cy=\"736.475\" r=\"14\" fill=\"#009af9\" fill-rule=\"evenodd\" fill-opacity=\"1\" stroke=\"#000000\" stroke-opacity=\"1\" stroke-width=\"3.2\"/>\n",
       "<circle clip-path=\"url(#clip082)\" cx=\"2101.08\" cy=\"546.24\" r=\"14\" fill=\"#009af9\" fill-rule=\"evenodd\" fill-opacity=\"1\" stroke=\"#000000\" stroke-opacity=\"1\" stroke-width=\"3.2\"/>\n",
       "<circle clip-path=\"url(#clip082)\" cx=\"325.722\" cy=\"293.138\" r=\"14\" fill=\"#009af9\" fill-rule=\"evenodd\" fill-opacity=\"1\" stroke=\"#000000\" stroke-opacity=\"1\" stroke-width=\"3.2\"/>\n",
       "<circle clip-path=\"url(#clip082)\" cx=\"874.274\" cy=\"1244.3\" r=\"14\" fill=\"#009af9\" fill-rule=\"evenodd\" fill-opacity=\"1\" stroke=\"#000000\" stroke-opacity=\"1\" stroke-width=\"3.2\"/>\n",
       "<circle clip-path=\"url(#clip082)\" cx=\"1254.19\" cy=\"1445.49\" r=\"14\" fill=\"#009af9\" fill-rule=\"evenodd\" fill-opacity=\"1\" stroke=\"#000000\" stroke-opacity=\"1\" stroke-width=\"3.2\"/>\n",
       "<circle clip-path=\"url(#clip082)\" cx=\"1988.53\" cy=\"772.959\" r=\"14\" fill=\"#009af9\" fill-rule=\"evenodd\" fill-opacity=\"1\" stroke=\"#000000\" stroke-opacity=\"1\" stroke-width=\"3.2\"/>\n",
       "<circle clip-path=\"url(#clip082)\" cx=\"1377.15\" cy=\"1430.4\" r=\"14\" fill=\"#009af9\" fill-rule=\"evenodd\" fill-opacity=\"1\" stroke=\"#000000\" stroke-opacity=\"1\" stroke-width=\"3.2\"/>\n",
       "<circle clip-path=\"url(#clip082)\" cx=\"415.24\" cy=\"501.661\" r=\"14\" fill=\"#009af9\" fill-rule=\"evenodd\" fill-opacity=\"1\" stroke=\"#000000\" stroke-opacity=\"1\" stroke-width=\"3.2\"/>\n",
       "<circle clip-path=\"url(#clip082)\" cx=\"283.956\" cy=\"188.734\" r=\"14\" fill=\"#009af9\" fill-rule=\"evenodd\" fill-opacity=\"1\" stroke=\"#000000\" stroke-opacity=\"1\" stroke-width=\"3.2\"/>\n",
       "<circle clip-path=\"url(#clip082)\" cx=\"1451.83\" cy=\"1402.09\" r=\"14\" fill=\"#009af9\" fill-rule=\"evenodd\" fill-opacity=\"1\" stroke=\"#000000\" stroke-opacity=\"1\" stroke-width=\"3.2\"/>\n",
       "<circle clip-path=\"url(#clip082)\" cx=\"2104.79\" cy=\"538.204\" r=\"14\" fill=\"#009af9\" fill-rule=\"evenodd\" fill-opacity=\"1\" stroke=\"#000000\" stroke-opacity=\"1\" stroke-width=\"3.2\"/>\n",
       "<circle clip-path=\"url(#clip082)\" cx=\"1785.71\" cy=\"1098.55\" r=\"14\" fill=\"#009af9\" fill-rule=\"evenodd\" fill-opacity=\"1\" stroke=\"#000000\" stroke-opacity=\"1\" stroke-width=\"3.2\"/>\n",
       "<circle clip-path=\"url(#clip082)\" cx=\"2097.51\" cy=\"553.927\" r=\"14\" fill=\"#009af9\" fill-rule=\"evenodd\" fill-opacity=\"1\" stroke=\"#000000\" stroke-opacity=\"1\" stroke-width=\"3.2\"/>\n",
       "<circle clip-path=\"url(#clip082)\" cx=\"247.59\" cy=\"94.1424\" r=\"14\" fill=\"#009af9\" fill-rule=\"evenodd\" fill-opacity=\"1\" stroke=\"#000000\" stroke-opacity=\"1\" stroke-width=\"3.2\"/>\n",
       "<circle clip-path=\"url(#clip082)\" cx=\"1276.15\" cy=\"1445.67\" r=\"14\" fill=\"#009af9\" fill-rule=\"evenodd\" fill-opacity=\"1\" stroke=\"#000000\" stroke-opacity=\"1\" stroke-width=\"3.2\"/>\n",
       "<circle clip-path=\"url(#clip082)\" cx=\"681.258\" cy=\"998.639\" r=\"14\" fill=\"#009af9\" fill-rule=\"evenodd\" fill-opacity=\"1\" stroke=\"#000000\" stroke-opacity=\"1\" stroke-width=\"3.2\"/>\n",
       "<circle clip-path=\"url(#clip082)\" cx=\"592.85\" cy=\"853.843\" r=\"14\" fill=\"#009af9\" fill-rule=\"evenodd\" fill-opacity=\"1\" stroke=\"#000000\" stroke-opacity=\"1\" stroke-width=\"3.2\"/>\n",
       "<circle clip-path=\"url(#clip082)\" cx=\"680.311\" cy=\"997.195\" r=\"14\" fill=\"#009af9\" fill-rule=\"evenodd\" fill-opacity=\"1\" stroke=\"#000000\" stroke-opacity=\"1\" stroke-width=\"3.2\"/>\n",
       "<circle clip-path=\"url(#clip082)\" cx=\"442.508\" cy=\"561.047\" r=\"14\" fill=\"#009af9\" fill-rule=\"evenodd\" fill-opacity=\"1\" stroke=\"#000000\" stroke-opacity=\"1\" stroke-width=\"3.2\"/>\n",
       "<circle clip-path=\"url(#clip082)\" cx=\"1855.77\" cy=\"998.145\" r=\"14\" fill=\"#009af9\" fill-rule=\"evenodd\" fill-opacity=\"1\" stroke=\"#000000\" stroke-opacity=\"1\" stroke-width=\"3.2\"/>\n",
       "<circle clip-path=\"url(#clip082)\" cx=\"766.497\" cy=\"1119.05\" r=\"14\" fill=\"#009af9\" fill-rule=\"evenodd\" fill-opacity=\"1\" stroke=\"#000000\" stroke-opacity=\"1\" stroke-width=\"3.2\"/>\n",
       "<circle clip-path=\"url(#clip082)\" cx=\"748.408\" cy=\"1095.07\" r=\"14\" fill=\"#009af9\" fill-rule=\"evenodd\" fill-opacity=\"1\" stroke=\"#000000\" stroke-opacity=\"1\" stroke-width=\"3.2\"/>\n",
       "<circle clip-path=\"url(#clip082)\" cx=\"2178.97\" cy=\"370.09\" r=\"14\" fill=\"#009af9\" fill-rule=\"evenodd\" fill-opacity=\"1\" stroke=\"#000000\" stroke-opacity=\"1\" stroke-width=\"3.2\"/>\n",
       "<circle clip-path=\"url(#clip082)\" cx=\"883.968\" cy=\"1254.09\" r=\"14\" fill=\"#009af9\" fill-rule=\"evenodd\" fill-opacity=\"1\" stroke=\"#000000\" stroke-opacity=\"1\" stroke-width=\"3.2\"/>\n",
       "<circle clip-path=\"url(#clip082)\" cx=\"625.944\" cy=\"910.419\" r=\"14\" fill=\"#009af9\" fill-rule=\"evenodd\" fill-opacity=\"1\" stroke=\"#000000\" stroke-opacity=\"1\" stroke-width=\"3.2\"/>\n",
       "<circle clip-path=\"url(#clip082)\" cx=\"428.874\" cy=\"531.597\" r=\"14\" fill=\"#009af9\" fill-rule=\"evenodd\" fill-opacity=\"1\" stroke=\"#000000\" stroke-opacity=\"1\" stroke-width=\"3.2\"/>\n",
       "<circle clip-path=\"url(#clip082)\" cx=\"1937.76\" cy=\"864.477\" r=\"14\" fill=\"#009af9\" fill-rule=\"evenodd\" fill-opacity=\"1\" stroke=\"#000000\" stroke-opacity=\"1\" stroke-width=\"3.2\"/>\n",
       "<circle clip-path=\"url(#clip082)\" cx=\"2029.81\" cy=\"693.622\" r=\"14\" fill=\"#009af9\" fill-rule=\"evenodd\" fill-opacity=\"1\" stroke=\"#000000\" stroke-opacity=\"1\" stroke-width=\"3.2\"/>\n",
       "<circle clip-path=\"url(#clip082)\" cx=\"2246.85\" cy=\"203.762\" r=\"14\" fill=\"#009af9\" fill-rule=\"evenodd\" fill-opacity=\"1\" stroke=\"#000000\" stroke-opacity=\"1\" stroke-width=\"3.2\"/>\n",
       "<circle clip-path=\"url(#clip082)\" cx=\"362.599\" cy=\"381.556\" r=\"14\" fill=\"#009af9\" fill-rule=\"evenodd\" fill-opacity=\"1\" stroke=\"#000000\" stroke-opacity=\"1\" stroke-width=\"3.2\"/>\n",
       "<circle clip-path=\"url(#clip082)\" cx=\"657.534\" cy=\"961.774\" r=\"14\" fill=\"#009af9\" fill-rule=\"evenodd\" fill-opacity=\"1\" stroke=\"#000000\" stroke-opacity=\"1\" stroke-width=\"3.2\"/>\n",
       "<circle clip-path=\"url(#clip082)\" cx=\"1273.67\" cy=\"1445.72\" r=\"14\" fill=\"#009af9\" fill-rule=\"evenodd\" fill-opacity=\"1\" stroke=\"#000000\" stroke-opacity=\"1\" stroke-width=\"3.2\"/>\n",
       "<circle clip-path=\"url(#clip082)\" cx=\"2074.21\" cy=\"603.346\" r=\"14\" fill=\"#009af9\" fill-rule=\"evenodd\" fill-opacity=\"1\" stroke=\"#000000\" stroke-opacity=\"1\" stroke-width=\"3.2\"/>\n",
       "<circle clip-path=\"url(#clip082)\" cx=\"2264.54\" cy=\"158.432\" r=\"14\" fill=\"#009af9\" fill-rule=\"evenodd\" fill-opacity=\"1\" stroke=\"#000000\" stroke-opacity=\"1\" stroke-width=\"3.2\"/>\n",
       "<circle clip-path=\"url(#clip082)\" cx=\"999.638\" cy=\"1352.09\" r=\"14\" fill=\"#009af9\" fill-rule=\"evenodd\" fill-opacity=\"1\" stroke=\"#000000\" stroke-opacity=\"1\" stroke-width=\"3.2\"/>\n",
       "<circle clip-path=\"url(#clip082)\" cx=\"290.252\" cy=\"204.761\" r=\"14\" fill=\"#009af9\" fill-rule=\"evenodd\" fill-opacity=\"1\" stroke=\"#000000\" stroke-opacity=\"1\" stroke-width=\"3.2\"/>\n",
       "<circle clip-path=\"url(#clip082)\" cx=\"1695.27\" cy=\"1209.33\" r=\"14\" fill=\"#009af9\" fill-rule=\"evenodd\" fill-opacity=\"1\" stroke=\"#000000\" stroke-opacity=\"1\" stroke-width=\"3.2\"/>\n",
       "<circle clip-path=\"url(#clip082)\" cx=\"1197.5\" cy=\"1439.24\" r=\"14\" fill=\"#009af9\" fill-rule=\"evenodd\" fill-opacity=\"1\" stroke=\"#000000\" stroke-opacity=\"1\" stroke-width=\"3.2\"/>\n",
       "<circle clip-path=\"url(#clip082)\" cx=\"486.714\" cy=\"653.226\" r=\"14\" fill=\"#009af9\" fill-rule=\"evenodd\" fill-opacity=\"1\" stroke=\"#000000\" stroke-opacity=\"1\" stroke-width=\"3.2\"/>\n",
       "<circle clip-path=\"url(#clip082)\" cx=\"1287.02\" cy=\"1445.3\" r=\"14\" fill=\"#009af9\" fill-rule=\"evenodd\" fill-opacity=\"1\" stroke=\"#000000\" stroke-opacity=\"1\" stroke-width=\"3.2\"/>\n",
       "<circle clip-path=\"url(#clip082)\" cx=\"1550.51\" cy=\"1342.48\" r=\"14\" fill=\"#009af9\" fill-rule=\"evenodd\" fill-opacity=\"1\" stroke=\"#000000\" stroke-opacity=\"1\" stroke-width=\"3.2\"/>\n",
       "<circle clip-path=\"url(#clip082)\" cx=\"2268.8\" cy=\"147.405\" r=\"14\" fill=\"#009af9\" fill-rule=\"evenodd\" fill-opacity=\"1\" stroke=\"#000000\" stroke-opacity=\"1\" stroke-width=\"3.2\"/>\n",
       "<circle clip-path=\"url(#clip082)\" cx=\"2276.81\" cy=\"126.521\" r=\"14\" fill=\"#009af9\" fill-rule=\"evenodd\" fill-opacity=\"1\" stroke=\"#000000\" stroke-opacity=\"1\" stroke-width=\"3.2\"/>\n",
       "<circle clip-path=\"url(#clip082)\" cx=\"332.178\" cy=\"308.87\" r=\"14\" fill=\"#009af9\" fill-rule=\"evenodd\" fill-opacity=\"1\" stroke=\"#000000\" stroke-opacity=\"1\" stroke-width=\"3.2\"/>\n",
       "<circle clip-path=\"url(#clip082)\" cx=\"2027.49\" cy=\"698.206\" r=\"14\" fill=\"#009af9\" fill-rule=\"evenodd\" fill-opacity=\"1\" stroke=\"#000000\" stroke-opacity=\"1\" stroke-width=\"3.2\"/>\n",
       "<circle clip-path=\"url(#clip082)\" cx=\"478.056\" cy=\"635.573\" r=\"14\" fill=\"#009af9\" fill-rule=\"evenodd\" fill-opacity=\"1\" stroke=\"#000000\" stroke-opacity=\"1\" stroke-width=\"3.2\"/>\n",
       "<circle clip-path=\"url(#clip082)\" cx=\"571.327\" cy=\"815.523\" r=\"14\" fill=\"#009af9\" fill-rule=\"evenodd\" fill-opacity=\"1\" stroke=\"#000000\" stroke-opacity=\"1\" stroke-width=\"3.2\"/>\n",
       "<circle clip-path=\"url(#clip082)\" cx=\"1960.09\" cy=\"825.045\" r=\"14\" fill=\"#009af9\" fill-rule=\"evenodd\" fill-opacity=\"1\" stroke=\"#000000\" stroke-opacity=\"1\" stroke-width=\"3.2\"/>\n",
       "<circle clip-path=\"url(#clip082)\" cx=\"345.487\" cy=\"340.966\" r=\"14\" fill=\"#009af9\" fill-rule=\"evenodd\" fill-opacity=\"1\" stroke=\"#000000\" stroke-opacity=\"1\" stroke-width=\"3.2\"/>\n",
       "<circle clip-path=\"url(#clip082)\" cx=\"1832\" cy=\"1033.63\" r=\"14\" fill=\"#009af9\" fill-rule=\"evenodd\" fill-opacity=\"1\" stroke=\"#000000\" stroke-opacity=\"1\" stroke-width=\"3.2\"/>\n",
       "<circle clip-path=\"url(#clip082)\" cx=\"1658.82\" cy=\"1247.98\" r=\"14\" fill=\"#009af9\" fill-rule=\"evenodd\" fill-opacity=\"1\" stroke=\"#000000\" stroke-opacity=\"1\" stroke-width=\"3.2\"/>\n",
       "<path clip-path=\"url(#clip080)\" d=\"\n",
       "M1599.13 198.898 L2280.54 198.898 L2280.54 95.2176 L1599.13 95.2176  Z\n",
       "  \" fill=\"#ffffff\" fill-rule=\"evenodd\" fill-opacity=\"1\"/>\n",
       "<polyline clip-path=\"url(#clip080)\" style=\"stroke:#000000; stroke-linecap:butt; stroke-linejoin:round; stroke-width:4; stroke-opacity:1; fill:none\" points=\"\n",
       "  1599.13,198.898 2280.54,198.898 2280.54,95.2176 1599.13,95.2176 1599.13,198.898 \n",
       "  \"/>\n",
       "<circle clip-path=\"url(#clip080)\" cx=\"1695.42\" cy=\"147.058\" r=\"23\" fill=\"#009af9\" fill-rule=\"evenodd\" fill-opacity=\"1\" stroke=\"#000000\" stroke-opacity=\"1\" stroke-width=\"5.12\"/>\n",
       "<path clip-path=\"url(#clip080)\" d=\"M1796.38 133.62 L1796.38 160.495 L1802.03 160.495 Q1809.18 160.495 1812.49 157.254 Q1815.82 154.014 1815.82 147.023 Q1815.82 140.078 1812.49 136.861 Q1809.18 133.62 1802.03 133.62 L1796.38 133.62 M1791.7 129.778 L1801.31 129.778 Q1811.36 129.778 1816.06 133.967 Q1820.75 138.134 1820.75 147.023 Q1820.75 155.958 1816.03 160.148 Q1811.31 164.338 1801.31 164.338 L1791.7 164.338 L1791.7 129.778 Z\" fill=\"#000000\" fill-rule=\"evenodd\" fill-opacity=\"1\" /><path clip-path=\"url(#clip080)\" d=\"M1839.81 151.305 Q1834.64 151.305 1832.65 152.486 Q1830.66 153.666 1830.66 156.514 Q1830.66 158.782 1832.14 160.125 Q1833.65 161.444 1836.22 161.444 Q1839.76 161.444 1841.89 158.944 Q1844.04 156.421 1844.04 152.254 L1844.04 151.305 L1839.81 151.305 M1848.3 149.546 L1848.3 164.338 L1844.04 164.338 L1844.04 160.402 Q1842.58 162.763 1840.41 163.898 Q1838.23 165.009 1835.08 165.009 Q1831.1 165.009 1828.74 162.787 Q1826.4 160.541 1826.4 156.791 Q1826.4 152.416 1829.32 150.194 Q1832.26 147.972 1838.07 147.972 L1844.04 147.972 L1844.04 147.555 Q1844.04 144.615 1842.1 143.018 Q1840.18 141.398 1836.68 141.398 Q1834.46 141.398 1832.35 141.93 Q1830.25 142.463 1828.3 143.527 L1828.3 139.592 Q1830.64 138.69 1832.84 138.25 Q1835.04 137.787 1837.12 137.787 Q1842.75 137.787 1845.52 140.703 Q1848.3 143.62 1848.3 149.546 Z\" fill=\"#000000\" fill-rule=\"evenodd\" fill-opacity=\"1\" /><path clip-path=\"url(#clip080)\" d=\"M1874.13 142.347 L1874.13 128.319 L1878.39 128.319 L1878.39 164.338 L1874.13 164.338 L1874.13 160.449 Q1872.79 162.763 1870.73 163.898 Q1868.69 165.009 1865.82 165.009 Q1861.12 165.009 1858.16 161.259 Q1855.22 157.509 1855.22 151.398 Q1855.22 145.287 1858.16 141.537 Q1861.12 137.787 1865.82 137.787 Q1868.69 137.787 1870.73 138.921 Q1872.79 140.032 1874.13 142.347 M1859.62 151.398 Q1859.62 156.097 1861.54 158.782 Q1863.49 161.444 1866.87 161.444 Q1870.24 161.444 1872.19 158.782 Q1874.13 156.097 1874.13 151.398 Q1874.13 146.699 1872.19 144.037 Q1870.24 141.352 1866.87 141.352 Q1863.49 141.352 1861.54 144.037 Q1859.62 146.699 1859.62 151.398 Z\" fill=\"#000000\" fill-rule=\"evenodd\" fill-opacity=\"1\" /><path clip-path=\"url(#clip080)\" d=\"M1897.21 141.398 Q1893.79 141.398 1891.8 144.083 Q1889.81 146.745 1889.81 151.398 Q1889.81 156.051 1891.77 158.736 Q1893.76 161.398 1897.21 161.398 Q1900.62 161.398 1902.61 158.713 Q1904.6 156.027 1904.6 151.398 Q1904.6 146.791 1902.61 144.106 Q1900.62 141.398 1897.21 141.398 M1897.21 137.787 Q1902.77 137.787 1905.94 141.398 Q1909.11 145.009 1909.11 151.398 Q1909.11 157.764 1905.94 161.398 Q1902.77 165.009 1897.21 165.009 Q1891.63 165.009 1888.46 161.398 Q1885.31 157.764 1885.31 151.398 Q1885.31 145.009 1888.46 141.398 Q1891.63 137.787 1897.21 137.787 Z\" fill=\"#000000\" fill-rule=\"evenodd\" fill-opacity=\"1\" /><path clip-path=\"url(#clip080)\" d=\"M1932.7 139.176 L1932.7 143.203 Q1930.89 142.277 1928.95 141.815 Q1927 141.352 1924.92 141.352 Q1921.75 141.352 1920.15 142.324 Q1918.58 143.296 1918.58 145.24 Q1918.58 146.722 1919.71 147.578 Q1920.85 148.412 1924.27 149.176 L1925.73 149.5 Q1930.27 150.472 1932.17 152.254 Q1934.09 154.014 1934.09 157.185 Q1934.09 160.796 1931.22 162.902 Q1928.37 165.009 1923.37 165.009 Q1921.29 165.009 1919.02 164.592 Q1916.77 164.199 1914.27 163.388 L1914.27 158.99 Q1916.63 160.217 1918.93 160.842 Q1921.22 161.444 1923.46 161.444 Q1926.47 161.444 1928.09 160.426 Q1929.71 159.384 1929.71 157.509 Q1929.71 155.773 1928.53 154.847 Q1927.37 153.921 1923.42 153.064 L1921.93 152.717 Q1917.98 151.884 1916.22 150.171 Q1914.46 148.435 1914.46 145.426 Q1914.46 141.768 1917.05 139.778 Q1919.64 137.787 1924.41 137.787 Q1926.77 137.787 1928.86 138.134 Q1930.94 138.481 1932.7 139.176 Z\" fill=\"#000000\" fill-rule=\"evenodd\" fill-opacity=\"1\" /><path clip-path=\"url(#clip080)\" d=\"M1967.67 134.384 L1961.33 151.583 L1974.04 151.583 L1967.67 134.384 M1965.04 129.778 L1970.34 129.778 L1983.51 164.338 L1978.65 164.338 L1975.5 155.472 L1959.92 155.472 L1956.77 164.338 L1951.84 164.338 L1965.04 129.778 Z\" fill=\"#000000\" fill-rule=\"evenodd\" fill-opacity=\"1\" /><path clip-path=\"url(#clip080)\" d=\"M2008.55 143.389 Q2010.15 140.518 2012.37 139.153 Q2014.6 137.787 2017.61 137.787 Q2021.66 137.787 2023.86 140.634 Q2026.05 143.458 2026.05 148.689 L2026.05 164.338 L2021.77 164.338 L2021.77 148.828 Q2021.77 145.102 2020.45 143.296 Q2019.13 141.49 2016.42 141.49 Q2013.11 141.49 2011.19 143.69 Q2009.27 145.889 2009.27 149.685 L2009.27 164.338 L2004.99 164.338 L2004.99 148.828 Q2004.99 145.078 2003.67 143.296 Q2002.35 141.49 1999.6 141.49 Q1996.33 141.49 1994.41 143.713 Q1992.49 145.912 1992.49 149.685 L1992.49 164.338 L1988.21 164.338 L1988.21 138.412 L1992.49 138.412 L1992.49 142.44 Q1993.95 140.055 1995.99 138.921 Q1998.02 137.787 2000.82 137.787 Q2003.65 137.787 2005.61 139.222 Q2007.61 140.657 2008.55 143.389 Z\" fill=\"#000000\" fill-rule=\"evenodd\" fill-opacity=\"1\" /><path clip-path=\"url(#clip080)\" d=\"M2044.6 141.398 Q2041.17 141.398 2039.18 144.083 Q2037.19 146.745 2037.19 151.398 Q2037.19 156.051 2039.16 158.736 Q2041.15 161.398 2044.6 161.398 Q2048 161.398 2049.99 158.713 Q2051.98 156.027 2051.98 151.398 Q2051.98 146.791 2049.99 144.106 Q2048 141.398 2044.6 141.398 M2044.6 137.787 Q2050.15 137.787 2053.32 141.398 Q2056.49 145.009 2056.49 151.398 Q2056.49 157.764 2053.32 161.398 Q2050.15 165.009 2044.6 165.009 Q2039.02 165.009 2035.85 161.398 Q2032.7 157.764 2032.7 151.398 Q2032.7 145.009 2035.85 141.398 Q2039.02 137.787 2044.6 137.787 Z\" fill=\"#000000\" fill-rule=\"evenodd\" fill-opacity=\"1\" /><path clip-path=\"url(#clip080)\" d=\"M2080.08 139.176 L2080.08 143.203 Q2078.28 142.277 2076.33 141.815 Q2074.39 141.352 2072.3 141.352 Q2069.13 141.352 2067.54 142.324 Q2065.96 143.296 2065.96 145.24 Q2065.96 146.722 2067.1 147.578 Q2068.23 148.412 2071.66 149.176 L2073.11 149.5 Q2077.65 150.472 2079.55 152.254 Q2081.47 154.014 2081.47 157.185 Q2081.47 160.796 2078.6 162.902 Q2075.75 165.009 2070.75 165.009 Q2068.67 165.009 2066.4 164.592 Q2064.16 164.199 2061.66 163.388 L2061.66 158.99 Q2064.02 160.217 2066.31 160.842 Q2068.6 161.444 2070.85 161.444 Q2073.85 161.444 2075.48 160.426 Q2077.1 159.384 2077.1 157.509 Q2077.1 155.773 2075.92 154.847 Q2074.76 153.921 2070.8 153.064 L2069.32 152.717 Q2065.36 151.884 2063.6 150.171 Q2061.84 148.435 2061.84 145.426 Q2061.84 141.768 2064.43 139.778 Q2067.03 137.787 2071.79 137.787 Q2074.16 137.787 2076.24 138.134 Q2078.32 138.481 2080.08 139.176 Z\" fill=\"#000000\" fill-rule=\"evenodd\" fill-opacity=\"1\" /><path clip-path=\"url(#clip080)\" d=\"M2092.47 131.051 L2092.47 138.412 L2101.24 138.412 L2101.24 141.722 L2092.47 141.722 L2092.47 155.796 Q2092.47 158.967 2093.32 159.87 Q2094.2 160.773 2096.86 160.773 L2101.24 160.773 L2101.24 164.338 L2096.86 164.338 Q2091.93 164.338 2090.06 162.509 Q2088.18 160.657 2088.18 155.796 L2088.18 141.722 L2085.06 141.722 L2085.06 138.412 L2088.18 138.412 L2088.18 131.051 L2092.47 131.051 Z\" fill=\"#000000\" fill-rule=\"evenodd\" fill-opacity=\"1\" /><path clip-path=\"url(#clip080)\" d=\"M2121.86 142.393 Q2121.15 141.977 2120.29 141.791 Q2119.46 141.583 2118.44 141.583 Q2114.83 141.583 2112.88 143.944 Q2110.96 146.282 2110.96 150.68 L2110.96 164.338 L2106.68 164.338 L2106.68 138.412 L2110.96 138.412 L2110.96 142.44 Q2112.3 140.078 2114.46 138.944 Q2116.61 137.787 2119.69 137.787 Q2120.13 137.787 2120.66 137.856 Q2121.19 137.903 2121.84 138.018 L2121.86 142.393 Z\" fill=\"#000000\" fill-rule=\"evenodd\" fill-opacity=\"1\" /><path clip-path=\"url(#clip080)\" d=\"M2138.11 151.305 Q2132.95 151.305 2130.96 152.486 Q2128.97 153.666 2128.97 156.514 Q2128.97 158.782 2130.45 160.125 Q2131.96 161.444 2134.53 161.444 Q2138.07 161.444 2140.2 158.944 Q2142.35 156.421 2142.35 152.254 L2142.35 151.305 L2138.11 151.305 M2146.61 149.546 L2146.61 164.338 L2142.35 164.338 L2142.35 160.402 Q2140.89 162.763 2138.72 163.898 Q2136.54 165.009 2133.39 165.009 Q2129.41 165.009 2127.05 162.787 Q2124.71 160.541 2124.71 156.791 Q2124.71 152.416 2127.63 150.194 Q2130.57 147.972 2136.38 147.972 L2142.35 147.972 L2142.35 147.555 Q2142.35 144.615 2140.41 143.018 Q2138.48 141.398 2134.99 141.398 Q2132.77 141.398 2130.66 141.93 Q2128.55 142.463 2126.61 143.527 L2126.61 139.592 Q2128.95 138.69 2131.15 138.25 Q2133.35 137.787 2135.43 137.787 Q2141.05 137.787 2143.83 140.703 Q2146.61 143.62 2146.61 149.546 Z\" fill=\"#000000\" fill-rule=\"evenodd\" fill-opacity=\"1\" /><path clip-path=\"url(#clip080)\" d=\"M2172.44 142.347 L2172.44 128.319 L2176.7 128.319 L2176.7 164.338 L2172.44 164.338 L2172.44 160.449 Q2171.1 162.763 2169.04 163.898 Q2167 165.009 2164.13 165.009 Q2159.43 165.009 2156.47 161.259 Q2153.53 157.509 2153.53 151.398 Q2153.53 145.287 2156.47 141.537 Q2159.43 137.787 2164.13 137.787 Q2167 137.787 2169.04 138.921 Q2171.1 140.032 2172.44 142.347 M2157.93 151.398 Q2157.93 156.097 2159.85 158.782 Q2161.79 161.444 2165.17 161.444 Q2168.55 161.444 2170.5 158.782 Q2172.44 156.097 2172.44 151.398 Q2172.44 146.699 2170.5 144.037 Q2168.55 141.352 2165.17 141.352 Q2161.79 141.352 2159.85 144.037 Q2157.93 146.699 2157.93 151.398 Z\" fill=\"#000000\" fill-rule=\"evenodd\" fill-opacity=\"1\" /><path clip-path=\"url(#clip080)\" d=\"M2195.52 141.398 Q2192.1 141.398 2190.1 144.083 Q2188.11 146.745 2188.11 151.398 Q2188.11 156.051 2190.08 158.736 Q2192.07 161.398 2195.52 161.398 Q2198.92 161.398 2200.91 158.713 Q2202.91 156.027 2202.91 151.398 Q2202.91 146.791 2200.91 144.106 Q2198.92 141.398 2195.52 141.398 M2195.52 137.787 Q2201.08 137.787 2204.25 141.398 Q2207.42 145.009 2207.42 151.398 Q2207.42 157.764 2204.25 161.398 Q2201.08 165.009 2195.52 165.009 Q2189.94 165.009 2186.77 161.398 Q2183.62 157.764 2183.62 151.398 Q2183.62 145.009 2186.77 141.398 Q2189.94 137.787 2195.52 137.787 Z\" fill=\"#000000\" fill-rule=\"evenodd\" fill-opacity=\"1\" /><path clip-path=\"url(#clip080)\" d=\"M2231.01 139.176 L2231.01 143.203 Q2229.2 142.277 2227.26 141.815 Q2225.31 141.352 2223.23 141.352 Q2220.06 141.352 2218.46 142.324 Q2216.89 143.296 2216.89 145.24 Q2216.89 146.722 2218.02 147.578 Q2219.16 148.412 2222.58 149.176 L2224.04 149.5 Q2228.58 150.472 2230.47 152.254 Q2232.4 154.014 2232.4 157.185 Q2232.4 160.796 2229.53 162.902 Q2226.68 165.009 2221.68 165.009 Q2219.59 165.009 2217.33 164.592 Q2215.08 164.199 2212.58 163.388 L2212.58 158.99 Q2214.94 160.217 2217.23 160.842 Q2219.53 161.444 2221.77 161.444 Q2224.78 161.444 2226.4 160.426 Q2228.02 159.384 2228.02 157.509 Q2228.02 155.773 2226.84 154.847 Q2225.68 153.921 2221.72 153.064 L2220.24 152.717 Q2216.28 151.884 2214.53 150.171 Q2212.77 148.435 2212.77 145.426 Q2212.77 141.768 2215.36 139.778 Q2217.95 137.787 2222.72 137.787 Q2225.08 137.787 2227.16 138.134 Q2229.25 138.481 2231.01 139.176 Z\" fill=\"#000000\" fill-rule=\"evenodd\" fill-opacity=\"1\" /></svg>\n"
      ]
     },
     "execution_count": 2,
     "metadata": {},
     "output_type": "execute_result"
    }
   ],
   "source": [
    "function generate_real_data(n)\n",
    "    x1 = rand(1,n) .- 0.5\n",
    "    x2 = x1 .* x1\n",
    "    return vcat(x1,x2)\n",
    "end\n",
    "\n",
    "dados = generate_real_data(100)\n",
    "x,y = dados[1,:], dados[2,:]\n",
    "scatter(x,y, label=\"Dados Amostrados\")"
   ]
  },
  {
   "cell_type": "markdown",
   "id": "1df33106-05a6-409b-99bf-02f2f8b16e50",
   "metadata": {},
   "source": [
    "### Construindo o Discriminador e o Gerador"
   ]
  },
  {
   "cell_type": "code",
   "execution_count": 256,
   "id": "202623c1-b1b3-4096-b5f2-d6d3d71cc8ca",
   "metadata": {},
   "outputs": [],
   "source": [
    "function D()\n",
    "    return Chain(\n",
    "            Dense(2, 15,relu),\n",
    "            Dense(15,1)\n",
    "            )\n",
    "end\n",
    "\n",
    "function G(latent_dim::Int)\n",
    "    return Chain(\n",
    "            Dense(latent_dim, 15,relu),\n",
    "            Dense(15,2)\n",
    "            )\n",
    "end;"
   ]
  },
  {
   "cell_type": "markdown",
   "id": "9606bfc2-af4c-48d8-8035-6803d92c2792",
   "metadata": {},
   "source": [
    "\n",
    "A GAN original busca resolver o seguinte problema de otimização:\n",
    "\n",
    "$$\n",
    "\\min_{G} \\max_D V(D,G) =\n",
    "\\mathbb{E}_{P_{data}(x)}\\left[\\log{(D(x))}\\right]+\n",
    "\\mathbb{E}_{P_z(z)}\\left[\\log(1-D(G(z))\\right],\n",
    "$$\n",
    "\n",
    "Assim, temos uma função de perda para treinar $D$ e outra para treinara $G$."
   ]
  },
  {
   "cell_type": "code",
   "execution_count": 257,
   "id": "immediate-denmark",
   "metadata": {},
   "outputs": [
    {
     "data": {
      "text/plain": [
       "wasserstein_loss_gen (generic function with 2 methods)"
      ]
     },
     "execution_count": 257,
     "metadata": {},
     "output_type": "execute_result"
    }
   ],
   "source": [
    "loss_D(x, y, dscr) = sum(Flux.Losses.logitbinarycrossentropy(dscr(x), y));\n",
    "\n",
    "loss_G(z,gen,dscr) = sum(Flux.Losses.logitbinarycrossentropy(dscr(gen(z)),1))\n",
    "\n",
    "function wasserstein_loss_discr(real,fake, dscr)\n",
    "    return -mean(dscr(real)) + mean(dscr(fake))\n",
    "end\n",
    "\n",
    "function wasserstein_loss_gen(z,gen,dscr)\n",
    "    return -mean(dscr(gen(z)))\n",
    "end\n"
   ]
  },
  {
   "cell_type": "code",
   "execution_count": 258,
   "id": "0a050838-12f6-4a2c-8a75-efb99842dd76",
   "metadata": {},
   "outputs": [
    {
     "data": {
      "text/plain": [
       "-0.170809868247874"
      ]
     },
     "execution_count": 258,
     "metadata": {},
     "output_type": "execute_result"
    }
   ],
   "source": [
    "m = 5\n",
    "real = generate_real_data(m)\n",
    "fake = gen(rand(5,m))\n",
    "wasserstein_loss_discr(real,fake,dscr)\n",
    "# dscr(gen(rand(5)))\n",
    "-mean(dscr(real)) + mean(dscr(fake))"
   ]
  },
  {
   "cell_type": "markdown",
   "id": "ee163c4b-7540-413e-9959-5f718da44ac5",
   "metadata": {},
   "source": [
    "### Vamos descrever a função para treinar a rede $D$."
   ]
  },
  {
   "cell_type": "code",
   "execution_count": 259,
   "id": "ad37dc56-ec0f-469d-b136-1de6e646ce67",
   "metadata": {},
   "outputs": [
    {
     "data": {
      "text/plain": [
       "trainGenerator! (generic function with 1 method)"
      ]
     },
     "execution_count": 259,
     "metadata": {},
     "output_type": "execute_result"
    }
   ],
   "source": [
    "function trainDiscriminator!(dscr,gen,train_size)\n",
    "    ps = Flux.params(dscr)\n",
    "    clip = 0.01\n",
    "    m = train_size\n",
    "    for n  in 1:5\n",
    "        real = generate_real_data(m)\n",
    "        fake = gen(rand(5,m))\n",
    "        gs = gradient(Flux.params(dscr)) do\n",
    "            l = wasserstein_loss_discr(real,fake,dscr)\n",
    "        end\n",
    "        Flux.update!(opt, Flux.params(dscr), gs)\n",
    "        for i in ps\n",
    "            i = clamp.(i, -clip, clip)\n",
    "        end\n",
    "    end\n",
    "end\n",
    "\n",
    "# function trainDiscriminator!(dscr,gen,train_size)\n",
    "#     ps = Flux.params(dscr)\n",
    "#     clip = 0.01\n",
    "#     real = generate_real_data(train_size)\n",
    "#     fake = gen(rand(5,train_size))\n",
    "\n",
    "#     X    = hcat(real,fake)\n",
    "#     Y    = vcat(ones(train_size),zeros(train_size))\n",
    "#     data = Flux.Data.DataLoader((X, Y'), batchsize=1,shuffle=true);\n",
    "#     for d in data\n",
    "#         gs = gradient(Flux.params(dscr)) do\n",
    "#             l = loss_D(d...,dscr)\n",
    "#         end\n",
    "#         Flux.update!(opt, Flux.params(dscr), gs)\n",
    "#         for i in ps\n",
    "#             i = clamp.(i, -clip, clip)\n",
    "#         end\n",
    "#     end\n",
    "# end\n",
    "\n",
    "function trainGenerator!(gen,dscr,train_size)\n",
    "    noise = rand(5,train_size)\n",
    "    data = Flux.Data.DataLoader(noise, batchsize=128,shuffle=true);\n",
    "    for d in data\n",
    "        gs = gradient(Flux.params(gen)) do\n",
    "            l = wasserstein_loss_gen(d,gen,dscr)\n",
    "        end\n",
    "        Flux.update!(opt, Flux.params(gen), gs)\n",
    "    end\n",
    "    fake_generated = gen(rand(5,train_size))\n",
    "end"
   ]
  },
  {
   "cell_type": "code",
   "execution_count": 260,
   "id": "annual-offer",
   "metadata": {},
   "outputs": [
    {
     "data": {
      "text/plain": [
       "2000"
      ]
     },
     "execution_count": 260,
     "metadata": {},
     "output_type": "execute_result"
    }
   ],
   "source": [
    "gen  = G(5)\n",
    "dscr = D()\n",
    "# opt  = ADAM()\n",
    "opt  = RMSProp(0.00005)\n",
    "train_size = 2000"
   ]
  },
  {
   "cell_type": "code",
   "execution_count": null,
   "id": "invalid-newsletter",
   "metadata": {},
   "outputs": [],
   "source": [
    "epochs = 200\n",
    "for e in 1:epochs\n",
    "    trainDiscriminator!(dscr,gen,Int(train_size/2))\n",
    "    trainGenerator!(gen,dscr,200)\n",
    "    if e%100 == 0\n",
    "        real = generate_real_data(train_size)\n",
    "        fake = gen(rand(5,train_size))\n",
    "        @show mean(dscr(real)),mean(dscr(fake))\n",
    "    end\n",
    "end"
   ]
  },
  {
   "cell_type": "code",
   "execution_count": null,
   "id": "palestinian-ending",
   "metadata": {},
   "outputs": [],
   "source": [
    "real = generate_real_data(train_size)\n",
    "fake = gen(rand(5,train_size))\n",
    "scatter(real[1,1:100],real[2,1:100])\n",
    "scatter!(fake[1,1:100],fake[2,1:100])"
   ]
  },
  {
   "cell_type": "code",
   "execution_count": null,
   "id": "thousand-destination",
   "metadata": {},
   "outputs": [],
   "source": []
  },
  {
   "cell_type": "code",
   "execution_count": null,
   "id": "a07015d5-a6b9-4e22-af72-542e2d1e01e6",
   "metadata": {},
   "outputs": [],
   "source": []
  }
 ],
 "metadata": {
  "kernelspec": {
   "display_name": "JuliaFlux 1.6.3",
   "language": "julia",
   "name": "juliaflux-1.6"
  },
  "language_info": {
   "file_extension": ".jl",
   "mimetype": "application/julia",
   "name": "julia",
   "version": "1.6.3"
  }
 },
 "nbformat": 4,
 "nbformat_minor": 5
}
