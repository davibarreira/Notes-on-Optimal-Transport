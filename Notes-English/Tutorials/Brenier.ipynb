{
 "cells": [
  {
   "cell_type": "markdown",
   "id": "b91bc51c",
   "metadata": {},
   "source": [
    "Optimal Transport with Benamou-Brenier Algorithm\n",
    "================================================\n",
    "\n",
    "*Important:* Please read the [installation page](http://gpeyre.github.io/numerical-tours/installation_matlab/) for details about how to install the toolboxes.\n",
    "$\\newcommand{\\dotp}[2]{\\langle #1, #2 \\rangle}$\n",
    "$\\newcommand{\\enscond}[2]{\\lbrace #1, #2 \\rbrace}$\n",
    "$\\newcommand{\\pd}[2]{ \\frac{ \\partial #1}{\\partial #2} }$\n",
    "$\\newcommand{\\umin}[1]{\\underset{#1}{\\min}\\;}$\n",
    "$\\newcommand{\\umax}[1]{\\underset{#1}{\\max}\\;}$\n",
    "$\\newcommand{\\umin}[1]{\\underset{#1}{\\min}\\;}$\n",
    "$\\newcommand{\\uargmin}[1]{\\underset{#1}{argmin}\\;}$\n",
    "$\\newcommand{\\norm}[1]{\\|#1\\|}$\n",
    "$\\newcommand{\\abs}[1]{\\left|#1\\right|}$\n",
    "$\\newcommand{\\choice}[1]{ \\left\\{  \\begin{array}{l} #1 \\end{array} \\right. }$\n",
    "$\\newcommand{\\pa}[1]{\\left(#1\\right)}$\n",
    "$\\newcommand{\\diag}[1]{{diag}\\left( #1 \\right)}$\n",
    "$\\newcommand{\\qandq}{\\quad\\text{and}\\quad}$\n",
    "$\\newcommand{\\qwhereq}{\\quad\\text{where}\\quad}$\n",
    "$\\newcommand{\\qifq}{ \\quad \\text{if} \\quad }$\n",
    "$\\newcommand{\\qarrq}{ \\quad \\Longrightarrow \\quad }$\n",
    "$\\newcommand{\\ZZ}{\\mathbb{Z}}$\n",
    "$\\newcommand{\\CC}{\\mathbb{C}}$\n",
    "$\\newcommand{\\RR}{\\mathbb{R}}$\n",
    "$\\newcommand{\\EE}{\\mathbb{E}}$\n",
    "$\\newcommand{\\Zz}{\\mathcal{Z}}$\n",
    "$\\newcommand{\\Ww}{\\mathcal{W}}$\n",
    "$\\newcommand{\\Vv}{\\mathcal{V}}$\n",
    "$\\newcommand{\\Nn}{\\mathcal{N}}$\n",
    "$\\newcommand{\\NN}{\\mathcal{N}}$\n",
    "$\\newcommand{\\Hh}{\\mathcal{H}}$\n",
    "$\\newcommand{\\Bb}{\\mathcal{B}}$\n",
    "$\\newcommand{\\Ee}{\\mathcal{E}}$\n",
    "$\\newcommand{\\Cc}{\\mathcal{C}}$\n",
    "$\\newcommand{\\Gg}{\\mathcal{G}}$\n",
    "$\\newcommand{\\Ss}{\\mathcal{S}}$\n",
    "$\\newcommand{\\Pp}{\\mathcal{P}}$\n",
    "$\\newcommand{\\Ff}{\\mathcal{F}}$\n",
    "$\\newcommand{\\Xx}{\\mathcal{X}}$\n",
    "$\\newcommand{\\Mm}{\\mathcal{M}}$\n",
    "$\\newcommand{\\Ii}{\\mathcal{I}}$\n",
    "$\\newcommand{\\Dd}{\\mathcal{D}}$\n",
    "$\\newcommand{\\Ll}{\\mathcal{L}}$\n",
    "$\\newcommand{\\Tt}{\\mathcal{T}}$\n",
    "$\\newcommand{\\si}{\\sigma}$\n",
    "$\\newcommand{\\al}{\\alpha}$\n",
    "$\\newcommand{\\la}{\\lambda}$\n",
    "$\\newcommand{\\ga}{\\gamma}$\n",
    "$\\newcommand{\\Ga}{\\Gamma}$\n",
    "$\\newcommand{\\La}{\\Lambda}$\n",
    "$\\newcommand{\\si}{\\sigma}$\n",
    "$\\newcommand{\\Si}{\\Sigma}$\n",
    "$\\newcommand{\\be}{\\beta}$\n",
    "$\\newcommand{\\de}{\\delta}$\n",
    "$\\newcommand{\\De}{\\Delta}$\n",
    "$\\newcommand{\\phi}{\\varphi}$\n",
    "$\\newcommand{\\th}{\\theta}$\n",
    "$\\newcommand{\\om}{\\omega}$\n",
    "$\\newcommand{\\Om}{\\Omega}$\n"
   ]
  },
  {
   "cell_type": "markdown",
   "id": "56f3e76c",
   "metadata": {},
   "source": [
    "This numerical details how to compute optimal transport maps by solving a space-time\n",
    "convex variational problem.\n",
    "\n",
    "\n",
    "This tour implements the algorithm described in:\n",
    "\n",
    "\n",
    "Benamou J.-D.; Brenier Y.,\n",
    "_A computational fluid mechanics solution of the Monge-Katonrovich mass transfer problem_,\n",
    "Numer. Math. 84 (2000), pp. 375-393\n",
    "\n",
    "\n",
    "The algorithm detailed in this paper is introduced as an\n",
    "augmented-Lagrangia method over the Legendre-Fenchel dual variational\n",
    "problem. In this tour, we introduce a proximal algorithm (Douglas-Rachford) directly over\n",
    "the primal algorithm. Both algorithm can be shown to be equivalent, but we feel that explaining a primal\n",
    "algorithm was conceptually simpler and fits nicely in the well developped framework of proximal splitting schemes.\n",
    "\n",
    "\n",
    "Special thanks to Jalal Fadili for advices for the implementation of the\n",
    "proximal solver."
   ]
  },
  {
   "cell_type": "code",
   "execution_count": 2,
   "id": "e6c06fc6",
   "metadata": {
    "collapsed": false,
    "jupyter": {
     "outputs_hidden": false
    }
   },
   "outputs": [],
   "source": [
    "addpath('toolbox_signal')\n",
    "addpath('toolbox_general')\n",
    "addpath('solutions/optimaltransp_2_benamou_brenier')"
   ]
  },
  {
   "cell_type": "markdown",
   "id": "03dffe46",
   "metadata": {},
   "source": [
    "Usaful helpers."
   ]
  },
  {
   "cell_type": "code",
   "execution_count": 2,
   "id": "5648aec5",
   "metadata": {
    "collapsed": false,
    "jupyter": {
     "outputs_hidden": false
    }
   },
   "outputs": [],
   "source": [
    "mynorm = @(a)norm(a(:));\n",
    "sum3 = @(a)sum(a(:));"
   ]
  },
  {
   "cell_type": "markdown",
   "id": "6c226ddc",
   "metadata": {},
   "source": [
    "Optimal Transport of Densities\n",
    "------------------------------\n",
    "We consider transport $T : [0,1]^2 \\mapsto [0,1]^2 $\n",
    "with periodic boundary conditions.\n",
    "\n",
    "\n",
    "A valid transport should push forward the measure $ f_0(x) d x$\n",
    "onto $ f_1(x) d x $. In term of densities, this corresponds to\n",
    "the constraint\n",
    "\n",
    "$$ f_0(x) = f_1(T(x)) \\abs{\\det( \\partial T(x) )} $$\n",
    "\n",
    "where $\\partial T(x) \\in \\RR^{2 \\times 2}$ is the differential of $T$\n",
    "at $x$. This is known as the gradient equation.\n",
    "We call $\\Tt(f,g)$ the set of transport that satisfies this constraint.\n",
    "\n",
    "\n",
    "Optimal transport looks for a mapping that solves\n",
    "$$ W(f_0,f_1) = \\umin{T \\in \\Tt(f_0,f_1) } \\int C(x,T(x)) d x $$\n",
    "where $C(x,y) \\geq 0$ is the cost of assigning $x \\in [0,1]^2$ to $y \\in\n",
    "[0,1]^2$.\n",
    "\n",
    "\n",
    "We consider here the $L^2$ optimal transport, so that\n",
    "$C(x,y)=\\norm{x-y}^2$.\n",
    "\n",
    "\n",
    "The optimal transport geodesic $f(x,t)$ is defined as\n",
    "$$ f(x,t) = f_1( (1-t) \\text{Id} + t T(x))\n",
    "   \\abs{\\det( (1-t) \\text{Id}  + t \\partial T(x) )}. $$\n",
    "\n",
    "\n",
    "Benamou and Brenier showed that this geodesic solves the following convex\n",
    "problem over $f(x,t) \\in \\RR^+, m(x,t) \\in \\RR^2 $\n",
    "$$ \\umin{ (m,f) \\in \\Cc } J(f) =\n",
    "      \\int_{[0,1]^2} \\int_0^1 \\frac{\\norm{m(x,t)}^2}{f(x,t)} d t d x, $$\n",
    "where the set of constraints reads\n",
    "$$ \\Cc = \\enscond{(m,f)}{ \\text{div}(m)+\\partial_t f = 0,\n",
    "      \\quad f(\\cdot,0)=f_0, \\quad f(\\cdot,1)=f_1  }. $$\n",
    "\n",
    "\n",
    "Note that this convex program is very challenging because:\n",
    "1/ The functional $J$ tends to zero when $f(x,t)$ tends to\n",
    "infinity at some points, so that it is not coercive, which makes the\n",
    "proof of existence of minimizers non-trivial.\n",
    "2/ The functional $J(m,f)$ tends to infinity when $f(x,t)$ tends to\n",
    "zero at some points which makes the use of gradient descent methods impossible\n",
    "(its gradient is not Lipschitz).\n",
    "\n",
    "\n",
    "We propose to use a proximal method scheme (Douglas-Rachford algorithm)\n",
    "that can handle this kind of problem. It is equivalent to the algorithm\n",
    "initially proposed by Benamou and Brenier.\n",
    "\n",
    "\n",
    "Discrete Variational Problem\n",
    "----------------------------\n",
    "Densities is discretized on a spacial rectangular grid of size $N = n \\times\n",
    "n$. The time domain $[0,1]$ is discretized with $p$ points."
   ]
  },
  {
   "cell_type": "code",
   "execution_count": 1,
   "id": "66b32127",
   "metadata": {
    "collapsed": false,
    "jupyter": {
     "outputs_hidden": false
    }
   },
   "outputs": [
    {
     "name": "stdout",
     "output_type": "stream",
     "text": [
      "p =  20\n"
     ]
    }
   ],
   "source": [
    "n = 20;\n",
    "p = 20"
   ]
  },
  {
   "cell_type": "markdown",
   "id": "91c85937",
   "metadata": {},
   "source": [
    "Shortcut to generate Gaussian function."
   ]
  },
  {
   "cell_type": "code",
   "execution_count": 3,
   "id": "419b3bb6",
   "metadata": {
    "collapsed": false,
    "jupyter": {
     "outputs_hidden": false
    }
   },
   "outputs": [],
   "source": [
    "[Y,X] = meshgrid(linspace(0,1,n), linspace(0,1,n));\n",
    "gaussian = @(a,b,sigma)exp( -((X-a).^2+(Y-b).^2)/(2*sigma^2) );\n",
    "normalize = @(u)u/sum(u(:));"
   ]
  },
  {
   "cell_type": "markdown",
   "id": "90db7101",
   "metadata": {},
   "source": [
    "Load two discretized densities $f_0,f_1$."
   ]
  },
  {
   "cell_type": "code",
   "execution_count": 4,
   "id": "733d001d",
   "metadata": {
    "collapsed": false,
    "jupyter": {
     "outputs_hidden": false
    }
   },
   "outputs": [],
   "source": [
    "sigma = .1;\n",
    "rho = .05; % minimum density value\n",
    "f0 = normalize( rho + gaussian(.2,.3,sigma) );\n",
    "f1 = normalize( rho + gaussian(.6,.7,sigma*.7) + .6*gaussian(.7,.4,sigma*.7) );"
   ]
  },
  {
   "cell_type": "markdown",
   "id": "12377a4d",
   "metadata": {},
   "source": [
    "Display $f_0,f_1$."
   ]
  },
  {
   "cell_type": "code",
   "execution_count": 5,
   "id": "4649fec3",
   "metadata": {
    "collapsed": false,
    "jupyter": {
     "outputs_hidden": false
    }
   },
   "outputs": [
    {
     "name": "stdout",
     "output_type": "stream",
     "text": [
      "error: 'imageplot' undefined near line 1 column 1\n"
     ]
    },
    {
     "name": "stderr",
     "output_type": "stream",
     "text": [
      "\u001b[0;31mInline plot failed, consider trying another graphics toolkit\n",
      "error: print: no axes object in figure to print\n",
      "error: called from\n",
      "    _make_figures>safe_print at line 125 column 7\n",
      "    _make_figures at line 49 column 13\n",
      "\n",
      "\u001b[0m"
     ]
    }
   ],
   "source": [
    "clf;\n",
    "imageplot({f0 f1});"
   ]
  },
  {
   "cell_type": "markdown",
   "id": "5980b675",
   "metadata": {},
   "source": [
    "Boundary conditions, either periodic or Neumann."
   ]
  },
  {
   "cell_type": "code",
   "execution_count": 6,
   "id": "1edb784c",
   "metadata": {
    "collapsed": false,
    "jupyter": {
     "outputs_hidden": false
    }
   },
   "outputs": [],
   "source": [
    "bound = 'per';\n",
    "bound = 'neum';"
   ]
  },
  {
   "cell_type": "markdown",
   "id": "e9008935",
   "metadata": {},
   "source": [
    "We use first order finite differences with periodic boundary condition to\n",
    "approximate the spacial derivatives."
   ]
  },
  {
   "cell_type": "code",
   "execution_count": 7,
   "id": "fe774260",
   "metadata": {
    "collapsed": false,
    "jupyter": {
     "outputs_hidden": false
    }
   },
   "outputs": [],
   "source": [
    "if strcmp(bound, 'per')\n",
    "    dx = @(u)u([2:end 1],:,:)-u;\n",
    "    dy = @(u)u(:,[2:end 1],:)-u;\n",
    "else\n",
    "    dx = @(u)u([2:end end],:,:)-u;\n",
    "    dy = @(u)u(:,[2:end end],:)-u;\n",
    "end"
   ]
  },
  {
   "cell_type": "markdown",
   "id": "ede92c3d",
   "metadata": {},
   "source": [
    "The adjoint operators are backward derivatives."
   ]
  },
  {
   "cell_type": "code",
   "execution_count": 8,
   "id": "3f42132c",
   "metadata": {
    "collapsed": false,
    "jupyter": {
     "outputs_hidden": false
    }
   },
   "outputs": [],
   "source": [
    "if strcmp(bound, 'per')\n",
    "    dxS = @(u)-u+u([end 1:end-1],:,:);\n",
    "    dyS = @(u)-u+u(:,[end 1:end-1],:);\n",
    "else\n",
    "    dxS = @(u)[-u(1,:,:); u(1:end-2,:,:)-u(2:end-1,:,:); u(end-1,:,:)];\n",
    "    dyS = @(u)[-u(:,1,:), u(:,1:end-2,:)-u(:,2:end-1,:), u(:,end-1,:)];    \n",
    "end"
   ]
  },
  {
   "cell_type": "markdown",
   "id": "2430185e",
   "metadata": {},
   "source": [
    "Check that |dxS| and |dyS| really implement $d/dx^*$ and $d/dy^*$."
   ]
  },
  {
   "cell_type": "code",
   "execution_count": 9,
   "id": "135f0c71",
   "metadata": {
    "collapsed": false,
    "jupyter": {
     "outputs_hidden": false
    }
   },
   "outputs": [
    {
     "name": "stdout",
     "output_type": "stream",
     "text": [
      "error: 'certify_adjoint' undefined near line 1 column 32\n",
      "error: 'certify_adjoint' undefined near line 1 column 32\n"
     ]
    }
   ],
   "source": [
    "fprintf('Should be 0: %.2e\\n', certify_adjoint(dx,dxS,[n n p]));\n",
    "fprintf('Should be 0: %.2e\\n', certify_adjoint(dy,dyS,[n n p]));"
   ]
  },
  {
   "cell_type": "markdown",
   "id": "2f325661",
   "metadata": {},
   "source": [
    "Define spacial gradient and divergence, satisfying $\\text{div}=-\\nabla^*$."
   ]
  },
  {
   "cell_type": "code",
   "execution_count": 10,
   "id": "692698a7",
   "metadata": {
    "collapsed": false,
    "jupyter": {
     "outputs_hidden": false
    }
   },
   "outputs": [],
   "source": [
    "grad = @(f)cat(4, dx(f), dy(f));\n",
    "div  = @(u)-dxS(u(:,:,:,1)) - dyS(u(:,:,:,2));"
   ]
  },
  {
   "cell_type": "code",
   "execution_count": 12,
   "id": "29aa02ca-e55b-48c6-8b0b-5f001aafa01d",
   "metadata": {},
   "outputs": [
    {
     "name": "stdout",
     "output_type": "stream",
     "text": [
      "div =\n",
      "\n",
      "@(u) -dxS (u (:, :, :, 1)) - dyS (u (:, :, :, 2))\n",
      "\n"
     ]
    }
   ],
   "source": [
    "div"
   ]
  },
  {
   "cell_type": "markdown",
   "id": "57c2179a",
   "metadata": {},
   "source": [
    "Check that |div| really implements div."
   ]
  },
  {
   "cell_type": "code",
   "execution_count": 13,
   "id": "9dd36b2f",
   "metadata": {
    "collapsed": false,
    "jupyter": {
     "outputs_hidden": false
    }
   },
   "outputs": [
    {
     "name": "stdout",
     "output_type": "stream",
     "text": [
      "error: 'certify_adjoint' undefined near line 1 column 32\n"
     ]
    }
   ],
   "source": [
    "fprintf('Should be 0: %.2e\\n', certify_adjoint(grad,@(v)-div(v),[n n p]));"
   ]
  },
  {
   "cell_type": "markdown",
   "id": "e6321f97",
   "metadata": {},
   "source": [
    "We use first order finite differences for the time derivatives.\n",
    "Note that zero is padded at the end to keep the same dimensionality."
   ]
  },
  {
   "cell_type": "code",
   "execution_count": 14,
   "id": "9e0a175e",
   "metadata": {
    "collapsed": false,
    "jupyter": {
     "outputs_hidden": false
    }
   },
   "outputs": [],
   "source": [
    "dt  = @(f)cat(3, f(:,:,2:end)-f(:,:,1:end-1), zeros(size(f,1),size(f,2)) );\n",
    "dtS = @(u)cat(3, -u(:,:,1), u(:,:,1:end-2)-u(:,:,2:end-1), u(:,:,end-1));"
   ]
  },
  {
   "cell_type": "markdown",
   "id": "f2b5ffe1",
   "metadata": {},
   "source": [
    "In the following, we group the dicrete variables as $w=(m,f) \\in \\RR^{N\n",
    "\\times P \\times 2} \\times \\RR^{N \\times P}$, which is stored in a matrix\n",
    "|w| of size |(n,n,p,3)|, so that $m$ is stored in |w(:,:,:,1:2)|\n",
    "and $f$ is stored in |w(:,:,:,3)|.\n",
    "\n",
    "\n",
    "We thus introduce the following convex functional for $w=(m,f)$\n",
    "$$ J(w) =  \\sum_{x,t} \\frac{\\norm{m(x,t)}^2}{f(x,t)}. $$\n",
    "where $(x,t)$ runs over the discrete 3-D grid.\n",
    "\n",
    "\n",
    "The affine set of constraints reads\n",
    "$$ \\Cc = \\enscond{w}{A w = r_0}$\n",
    "      \\qwhereq A w = (\\text{div}(m) + \\partial_t f, f(\\cdot,0), f(\\cdot,1) ) \\in \\RR^{N \\times (P+2) }  $$\n",
    "and where the right hand size reads $r_0 = (0,f_0,f_1)$."
   ]
  },
  {
   "cell_type": "code",
   "execution_count": 15,
   "id": "c3db4eb7",
   "metadata": {
    "collapsed": false,
    "jupyter": {
     "outputs_hidden": false
    }
   },
   "outputs": [],
   "source": [
    "A = @(w)cat( 3, div(w(:,:,:,1:2))+dt(w(:,:,:,3)), w(:,:,1,3), w(:,:,end,3) );"
   ]
  },
  {
   "cell_type": "markdown",
   "id": "9080b0aa",
   "metadata": {},
   "source": [
    "Its adoint reads, for all $r=(s, r_0,r_1)$ where $s \\in \\RR^{N \\times\n",
    "P}$ and $r_0,r_1 \\in \\RR^N$:\n",
    "$$ A^* r = ( -\\nabla s, \\partial_t^* s + U(r_0,r_1) ) $$\n",
    "where $U(r_0,r_1)$ is the zero-padding operator that puts zeros for\n",
    "intermediate times between $t=0$ and $t=1$."
   ]
  },
  {
   "cell_type": "code",
   "execution_count": 16,
   "id": "8c0616f5",
   "metadata": {
    "collapsed": false,
    "jupyter": {
     "outputs_hidden": false
    }
   },
   "outputs": [],
   "source": [
    "U = @(r0,r1)cat(3, r0, zeros(n,n,p-2), r1);\n",
    "AS = @(s)cat(4, -grad(s(:,:,1:p)), dtS(s(:,:,1:p)) + U(s(:,:,end-1),s(:,:,end)) );"
   ]
  },
  {
   "cell_type": "markdown",
   "id": "d92ffd7d",
   "metadata": {},
   "source": [
    "Check that |AS| really implements $A^*$."
   ]
  },
  {
   "cell_type": "code",
   "execution_count": 17,
   "id": "b5bac95d",
   "metadata": {
    "collapsed": false,
    "jupyter": {
     "outputs_hidden": false
    }
   },
   "outputs": [
    {
     "data": {
      "text/plain": [
       "Should be 0: 3.30e-15\n"
      ]
     },
     "metadata": {},
     "output_type": "display_data"
    }
   ],
   "source": [
    "fprintf('Should be 0: %.2e\\n', certify_adjoint(A,AS,[n n p 3]));"
   ]
  },
  {
   "cell_type": "markdown",
   "id": "cc0ec50b",
   "metadata": {},
   "source": [
    "Define the right hand side $r_0$."
   ]
  },
  {
   "cell_type": "code",
   "execution_count": 18,
   "id": "cd2cbe80",
   "metadata": {
    "collapsed": false,
    "jupyter": {
     "outputs_hidden": false
    }
   },
   "outputs": [],
   "source": [
    "r0 = cat(3, zeros(n,n,p), f0, f1);"
   ]
  },
  {
   "cell_type": "markdown",
   "id": "805811d6",
   "metadata": {},
   "source": [
    "Proximal Operator of the $J$ Functional\n",
    "-----------------------------------------\n",
    "Given a convex functional $J(w)$, its proximal operator is defined as\n",
    "$$ \\text{Prox}_{\\la J}(w) = \\uargmin{q} \\frac{1}{2} \\norm{w-q}^2 + \\la J(w). $$\n",
    "Being abble to compute this proximate mapping is crucial to be able to\n",
    "use various proximal-splitting convex optimization methods.\n",
    "\n",
    "\n",
    "The discrete functional to be minimized in the Brenier-Benamou problem reads\n",
    "$$ J(w) = \\sum_{x,t} j(m(x,t),f(x,t)) $$\n",
    "where we introduced the following convex function\n",
    "$$ \\forall (m,f) \\in \\RR^2 \\times \\RR^+, \\quad j(m,f) ) = \\frac{\\norm{m}^2}{f}. $$\n",
    "\n",
    "\n",
    "Define the $J$ functional."
   ]
  },
  {
   "cell_type": "code",
   "execution_count": 17,
   "id": "5a6d0364",
   "metadata": {
    "collapsed": false,
    "jupyter": {
     "outputs_hidden": false
    }
   },
   "outputs": [],
   "source": [
    "J = @(w)sum3(  sum(w(:,:,:,1:2).^2,4) ./ w(:,:,:,3)   );"
   ]
  },
  {
   "cell_type": "markdown",
   "id": "a0464b3e",
   "metadata": {},
   "source": [
    "The proximal operator of $J$ can thus be computed by applying the\n",
    "proximal operator of $j$ to each component, i.e.\n",
    "$$ \\text{Prox}_{\\la J}(w)(x,t) = \\text{Prox}_{\\la j}(w(x,t)). $$\n",
    "\n",
    "\n",
    "The proximal operator of $j$\n",
    "$$ (m,f) = \\text{Prox}_{\\la j}(m_0,f_0) $$\n",
    "is obtained by solving the following couple of equations (corresponding\n",
    "to the annulation of the derivative of the optimization problem defining\n",
    "the proximal map)\n",
    "$$\n",
    "      2 \\la \\frac{m}{f} + m-m_0=0 \\qandq -\\la \\frac{\\norm{m}^2}{f^2} +\n",
    "      f-f_0 = 0.\n",
    "$$\n",
    "Its solution is obtained by solving a cubic-equation\n",
    "$$\n",
    "      m = \\frac{m_0}{1+2\\la/f} \\qandq\n",
    "      P(f) = f^3 + (4\\lambda - f_0)f^2 + (4\\lambda^2-4\\lambda f_0)f -\n",
    "      (\\lambda \\norm{m_0}^2 + 4\\lambda^2 f_0) = 0.\n",
    "$$\n",
    "(only the largest real solution of this equation should be considered).\n",
    "\n",
    "\n",
    "Build the coefficients of the polynomial $P(f)$."
   ]
  },
  {
   "cell_type": "code",
   "execution_count": 18,
   "id": "a09f83f1",
   "metadata": {
    "collapsed": false,
    "jupyter": {
     "outputs_hidden": false
    }
   },
   "outputs": [],
   "source": [
    "PolyCoef = @(m0,f0,lambda)[ones(length(f0),1), 4*lambda-f0, 4*lambda^2-4*f0, -lambda*sum(m0.^2,2) - 4*lambda^2*f0];"
   ]
  },
  {
   "cell_type": "markdown",
   "id": "daf58eee",
   "metadata": {},
   "source": [
    "Helper to compute the leading (largest) real root of a cubic polynomial."
   ]
  },
  {
   "cell_type": "code",
   "execution_count": 19,
   "id": "06867ae8",
   "metadata": {
    "collapsed": false,
    "jupyter": {
     "outputs_hidden": false
    }
   },
   "outputs": [],
   "source": [
    "extract = @(A)A(:,1);\n",
    "CubicReal = @(P)real( extract(poly_root(P')') );"
   ]
  },
  {
   "cell_type": "markdown",
   "id": "f4ad3f2d",
   "metadata": {},
   "source": [
    "Define the proximal operator of $j$. Note that it can operate in\n",
    "parallel over arrays |m| of size $k \\times 2$ and |f| of size $k \\times 1$"
   ]
  },
  {
   "cell_type": "code",
   "execution_count": 20,
   "id": "1a2454b5",
   "metadata": {
    "collapsed": false,
    "jupyter": {
     "outputs_hidden": false
    }
   },
   "outputs": [],
   "source": [
    "Proxj0 = @(m0,f, lambda)cat(2, m0 ./ repmat( 1+2*lambda./f, [1 2]), f );\n",
    "Proxj  = @(m0,f0,lambda)Proxj0( m0, CubicReal(PolyCoef(m0,f0,lambda)), lambda );"
   ]
  },
  {
   "cell_type": "markdown",
   "id": "d0d13641",
   "metadata": {},
   "source": [
    "Define the proximal operator of $J$ using the proximal operator of\n",
    "$j$."
   ]
  },
  {
   "cell_type": "code",
   "execution_count": 21,
   "id": "6161801f",
   "metadata": {
    "collapsed": false,
    "jupyter": {
     "outputs_hidden": false
    }
   },
   "outputs": [],
   "source": [
    "ProxJ = @(w,lambda)reshape( Proxj( ...\n",
    "                   reshape(w(:,:,:,1:2), [n*n*p 2]), ...\n",
    "                   reshape(w(:,:,:,3  ), [n*n*p 1]), lambda ), [n n p 3] );"
   ]
  },
  {
   "cell_type": "markdown",
   "id": "41f80614",
   "metadata": {},
   "source": [
    "Orthogonal Projection on the Constraints\n",
    "----------------------------------------\n",
    "The proximal operator of the indicator function $G=\\iota_\\Cc$ of $\\Cc$ is the\n",
    "projector, and does not depend on $\\la$.\n",
    "$$ \\text{Prox}_{\\gamma \\iota_\\Cc}(x)_i =\n",
    "      \\text{Proj}_\\Cc(w) = w + A^* (A A^*)^{-1} (r-Aw). $$\n",
    "\n",
    "\n",
    "Tolerance and number of iterations for the conjugate gradient."
   ]
  },
  {
   "cell_type": "code",
   "execution_count": 22,
   "id": "cd8bf7e2",
   "metadata": {
    "collapsed": false,
    "jupyter": {
     "outputs_hidden": false
    }
   },
   "outputs": [],
   "source": [
    "opts.epsilon = 1e-9; \n",
    "opts.niter_max = 150;"
   ]
  },
  {
   "cell_type": "markdown",
   "id": "1f161b3b",
   "metadata": {},
   "source": [
    "Adapt conjugate gradient fucntion to handle variables that are not\n",
    "vectors."
   ]
  },
  {
   "cell_type": "code",
   "execution_count": 23,
   "id": "4ca51a72",
   "metadata": {
    "collapsed": false,
    "jupyter": {
     "outputs_hidden": false
    }
   },
   "outputs": [],
   "source": [
    "flat = @(x)x(:);\n",
    "resh = @(x)reshape(x, [n n p+2]);\n",
    "mycg = @(B,y)resh( perform_cg(@(r)flat(B(resh(r))),y(:),opts) );"
   ]
  },
  {
   "cell_type": "markdown",
   "id": "2504c68a",
   "metadata": {},
   "source": [
    "The operator $(A A^*)^{-1}$ can be computed using conjugate gradient."
   ]
  },
  {
   "cell_type": "code",
   "execution_count": 24,
   "id": "2f416044",
   "metadata": {
    "collapsed": false,
    "jupyter": {
     "outputs_hidden": false
    }
   },
   "outputs": [],
   "source": [
    "pA = @(r)mycg(@(s)A(AS(s)),r);"
   ]
  },
  {
   "cell_type": "markdown",
   "id": "e84f7f5d",
   "metadata": {},
   "source": [
    "Define the projection operator $\\text{Prox}_{\\la G}$."
   ]
  },
  {
   "cell_type": "code",
   "execution_count": 25,
   "id": "bdf13fbc",
   "metadata": {
    "collapsed": false,
    "jupyter": {
     "outputs_hidden": false
    }
   },
   "outputs": [],
   "source": [
    "ProxG = @(w,lambda)w + AS( pA(r0-A(w)) );"
   ]
  },
  {
   "cell_type": "markdown",
   "id": "0e5fe8f9",
   "metadata": {},
   "source": [
    "Check that $\\text{Prox}_{\\la G}$ implements the projection on the\n",
    "constraint $Aw=y$."
   ]
  },
  {
   "cell_type": "code",
   "execution_count": 26,
   "id": "3910ca12",
   "metadata": {
    "collapsed": false,
    "jupyter": {
     "outputs_hidden": false
    }
   },
   "outputs": [
    {
     "name": "stdout",
     "output_type": "stream",
     "text": [
      "error: 'r0' undefined near line 1 column 23\n",
      "error: called from\n",
      "    @<anonymous> at line 1 column 26\n",
      "error: 'r0' undefined near line 1 column 31\n",
      "error: called from\n",
      "    @<anonymous> at line 1 column 22\n"
     ]
    }
   ],
   "source": [
    "w = randn(n,n,p,3);\n",
    "err = @(w)mynorm(A(w)-r0)/mynorm(r0);\n",
    "fprintf('Error before projection: %.2e\\n', err(w));\n",
    "fprintf('Error before projection: %.2e\\n', err(ProxG(w)));"
   ]
  },
  {
   "cell_type": "markdown",
   "id": "cf8ad59f",
   "metadata": {},
   "source": [
    "Douglas-Rachford Solver\n",
    "-----------------------\n",
    "The discrete optimal transport problem can be written as\n",
    "$$ \\umin{w} J(w) + G(w) \\qwhereq G=\\iota_{\\Cc}.  $$\n",
    "\n",
    "\n",
    "The Douglas-Rachford (DR) algorithm is an iterative scheme to minimize\n",
    "functionals of the form $J+G$\n",
    "where $J$ and $G$ are convex functions for which one is able to\n",
    "comptue the proximal operators.\n",
    "\n",
    "\n",
    "A DR iteration reads\n",
    "$$ \\tilde w_{k+1} = \\pa{1-\\frac{\\mu}{2}} \\tilde w_k +\n",
    "  \\frac{\\mu}{2} \\text{rPox}_{\\gamma J}( \\text{rProx}_{\\gamma G}(\\tilde w_k)  )\n",
    "  \\qandq w_{k+1} = \\text{Prox}_{\\gamma G}(\\tilde w_{k+1}). $$\n",
    "\n",
    "\n",
    "We have use the following shortcuts:\n",
    "$$   \\text{rProx}_{\\gamma G}(w) = 2\\text{Prox}_{\\gamma F}(w)-w $$\n",
    "\n",
    "\n",
    "One can show that for any value of $\\gamma>0$, any $ 0 < \\mu < 2 $,\n",
    "and any $\\tilde w_0$, $w_k \\rightarrow w^\\star$\n",
    "which is a minimizer of the minimization of $J+G$.\n",
    "\n",
    "\n",
    "To learn more about this algorithm, you can read:\n",
    "\n",
    "\n",
    "_Proximal Splitting Methods in Signal Processing_, Patrick L. Combettes\n",
    "and Jean-Christophe Pesquet, in: Fixed-Point Algorithms for Inverse\n",
    "Problems in Science and Engineering, New York: Springer-Verlag, 2010.\n",
    "\n",
    "\n",
    "\n",
    "Set the value of $\\mu$ and $\\gamma$.\n",
    "You might consider using your own values to speed up the convergence."
   ]
  },
  {
   "cell_type": "code",
   "execution_count": 27,
   "id": "1fc599a6",
   "metadata": {
    "collapsed": false,
    "jupyter": {
     "outputs_hidden": false
    }
   },
   "outputs": [],
   "source": [
    "mu = 1;\n",
    "gamma = 1;"
   ]
  },
  {
   "cell_type": "markdown",
   "id": "cdce616b",
   "metadata": {},
   "source": [
    "Define the rProx operators."
   ]
  },
  {
   "cell_type": "code",
   "execution_count": 28,
   "id": "533dbca5",
   "metadata": {
    "collapsed": false,
    "jupyter": {
     "outputs_hidden": false
    }
   },
   "outputs": [],
   "source": [
    "rProxJ = @(w,tau)2*ProxJ(w,tau)-w;\n",
    "rProxG = @(w,tau)2*ProxG(w,tau)-w;"
   ]
  },
  {
   "cell_type": "markdown",
   "id": "a3cfbc5e",
   "metadata": {},
   "source": [
    "Number of iterations."
   ]
  },
  {
   "cell_type": "code",
   "execution_count": 29,
   "id": "f051e672",
   "metadata": {
    "collapsed": false,
    "jupyter": {
     "outputs_hidden": false
    }
   },
   "outputs": [],
   "source": [
    "niter = 200;"
   ]
  },
  {
   "cell_type": "markdown",
   "id": "99482605",
   "metadata": {},
   "source": [
    "Initialization using linear interpolation of the densities."
   ]
  },
  {
   "cell_type": "code",
   "execution_count": 30,
   "id": "c651c12b",
   "metadata": {
    "collapsed": false,
    "jupyter": {
     "outputs_hidden": false
    }
   },
   "outputs": [],
   "source": [
    "t = repmat( reshape(linspace(0,1,p), [1 1 p]), [n n 1]);\n",
    "f = (1-t) .* repmat(f0, [1 1 p]) + t .* repmat(f1, [1 1 p]);\n",
    "m = zeros(n,n,p,2);\n",
    "w0 = cat(4, m,f);"
   ]
  },
  {
   "cell_type": "markdown",
   "id": "1f909ae8",
   "metadata": {},
   "source": [
    "Display the initialization."
   ]
  },
  {
   "cell_type": "code",
   "execution_count": 31,
   "id": "1cbb4b96",
   "metadata": {
    "collapsed": false,
    "jupyter": {
     "outputs_hidden": false
    }
   },
   "outputs": [
    {
     "name": "stdout",
     "output_type": "stream",
     "text": [
      "error: 'imageplot' undefined near line 1 column 1\n"
     ]
    },
    {
     "name": "stderr",
     "output_type": "stream",
     "text": [
      "\u001b[0;31mInline plot failed, consider trying another graphics toolkit\n",
      "error: print: no axes object in figure to print\n",
      "error: called from\n",
      "    _make_figures>safe_print at line 125 column 7\n",
      "    _make_figures at line 49 column 13\n",
      "\n",
      "\u001b[0m"
     ]
    }
   ],
   "source": [
    "sel = round(linspace(1,p,6));\n",
    "clf;\n",
    "imageplot( mat2cell(w0(:,:,sel,3), n, n, ones(6,1)) , '', 2,3);"
   ]
  },
  {
   "cell_type": "code",
   "execution_count": 32,
   "id": "34ead734",
   "metadata": {
    "collapsed": false,
    "jupyter": {
     "outputs_hidden": false
    }
   },
   "outputs": [
    {
     "name": "stdout",
     "output_type": "stream",
     "text": [
      "error: 'r0' undefined near line 1 column 31\n",
      "error: called from\n",
      "    @<anonymous> at line 1 column 22\n",
      "error: 'r0' undefined near line 1 column 14\n",
      "error: 'r0' undefined near line 1 column 13\n"
     ]
    }
   ],
   "source": [
    "w = ProxG(w0,gamma);\n",
    "mynorm(A(w0)-r0)/mynorm(r0)\n",
    "mynorm(A(w)-r0)/mynorm(r0)"
   ]
  },
  {
   "cell_type": "markdown",
   "id": "36ddb632",
   "metadata": {},
   "source": [
    "__Exercise 1__\n",
    "\n",
    "Implement the DR iterative algorithm on |niter| iterations.\n",
    "Keep track of the evolution of the energy $J$."
   ]
  },
  {
   "cell_type": "code",
   "execution_count": 35,
   "id": "4ac8ffa2",
   "metadata": {
    "collapsed": false,
    "jupyter": {
     "outputs_hidden": false
    }
   },
   "outputs": [
    {
     "data": {
      "text/plain": [
       "[\bWarning: Input tol may not be achievable by CGS\n",
       "         Try to use a bigger tolerance]\b \n",
       "[\b> In cgs at 297\n",
       "  In perform_cg at 56\n",
       "  In @(B,y)resh(perform_cg(@(r)flat(B(resh(r))),y(:),opts))\n",
       "  In @(r)mycg(@(s)A(AS(s)),r)\n",
       "  In @(w,lambda)w+AS(pA(r0-A(w)))\n",
       "  In exo1 at 6\n",
       "  In pymat_eval at 38\n",
       "  In matlabserver at 27]\b \n",
       "[\bWarning: Input tol may not be achievable by CGS\n",
       "         Try to use a bigger tolerance]\b \n",
       "[\b> In cgs at 297\n",
       "  In perform_cg at 56\n",
       "  In @(B,y)resh(perform_cg(@(r)flat(B(resh(r))),y(:),opts))\n",
       "  In @(r)mycg(@(s)A(AS(s)),r)\n",
       "  In @(w,lambda)w+AS(pA(r0-A(w)))\n",
       "  In exo1 at 6\n",
       "  In pymat_eval at 38\n",
       "  In matlabserver at 27]\b \n"
      ]
     },
     "metadata": {},
     "output_type": "display_data"
    },
    {
     "data": {
      "image/png": "[encoded data removed]"
     },
     "metadata": {},
     "output_type": "display_data"
    }
   ],
   "source": [
    "exo1()"
   ]
  },
  {
   "cell_type": "code",
   "execution_count": 36,
   "id": "9f42bc0b",
   "metadata": {
    "collapsed": false,
    "jupyter": {
     "outputs_hidden": false
    }
   },
   "outputs": [],
   "source": [
    "%% Insert your code here."
   ]
  },
  {
   "cell_type": "markdown",
   "id": "6def313e",
   "metadata": {},
   "source": [
    "Display the resulting density $f(x,t)$ for $t$ from 0 to 1."
   ]
  },
  {
   "cell_type": "code",
   "execution_count": 37,
   "id": "bf1b223e",
   "metadata": {
    "collapsed": false,
    "jupyter": {
     "outputs_hidden": false
    }
   },
   "outputs": [
    {
     "data": {
      "image/png": "[encoded data removed]"
     },
     "metadata": {},
     "output_type": "display_data"
    }
   ],
   "source": [
    "sel = round(linspace(1,p,6));\n",
    "clf;\n",
    "imageplot( mat2cell(w(:,:,sel,3), n, n, ones(6,1)) , '', 2,3);"
   ]
  }
 ],
 "metadata": {
  "kernelspec": {
   "display_name": "Octave",
   "language": "octave",
   "name": "octave"
  },
  "language_info": {
   "file_extension": ".m",
   "help_links": [
    {
     "text": "GNU Octave",
     "url": "https://www.gnu.org/software/octave/support.html"
    },
    {
     "text": "Octave Kernel",
     "url": "https://github.com/Calysto/octave_kernel"
    },
    {
     "text": "MetaKernel Magics",
     "url": "https://metakernel.readthedocs.io/en/latest/source/README.html"
    }
   ],
   "mimetype": "text/x-octave",
   "name": "octave",
   "version": "5.2.0"
  }
 },
 "nbformat": 4,
 "nbformat_minor": 5
}
