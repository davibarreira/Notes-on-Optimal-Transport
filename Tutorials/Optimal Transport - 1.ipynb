{
 "cells": [
  {
   "cell_type": "markdown",
   "id": "checked-terrain",
   "metadata": {},
   "source": [
    "# Optimal Transport\n",
    "\n",
    "A brief tutorial on solving Optimal Transport problems using Julia."
   ]
  },
  {
   "cell_type": "code",
   "execution_count": 7,
   "id": "front-methodology",
   "metadata": {},
   "outputs": [
    {
     "data": {
      "text/plain": [
       "Tulip.Optimizer{Float64}"
      ]
     },
     "execution_count": 7,
     "metadata": {},
     "output_type": "execute_result"
    }
   ],
   "source": [
    "using OptimalTransport, VegaLite, LinearAlgebra, DataFrames, Distances, LaTeXStrings, Tulip, Distributions, StatsBase\n",
    "using QuadGK\n",
    "optimizer = Tulip.Optimizer()"
   ]
  },
  {
   "cell_type": "markdown",
   "id": "saved-prairie",
   "metadata": {},
   "source": [
    "### 1D Optimal Transport\n",
    "\n",
    "Let's start by solving the case of 1-Dimensional OT problems.QuadGK"
   ]
  },
  {
   "cell_type": "code",
   "execution_count": 10,
   "id": "loaded-coverage",
   "metadata": {},
   "outputs": [
    {
     "data": {
      "text/plain": [
       "c (generic function with 1 method)"
      ]
     },
     "execution_count": 10,
     "metadata": {},
     "output_type": "execute_result"
    }
   ],
   "source": [
    "μ = Normal()\n",
    "ν = Normal(2)\n",
    "y = range(0,stop=1,length=500)\n",
    "x = quantile(μ,y);\n",
    "c(x,y) = (y-x)^2 # h(y-x) convex function"
   ]
  },
  {
   "cell_type": "markdown",
   "id": "single-myrtle",
   "metadata": {},
   "source": [
    "The Optimal Transport Cost for 1D distributions can be obtained by:\n",
    "$$\n",
    "\\int_0^1 h(C_\\alpha^{-1}(y) - C_\\beta^{-1}(y)) dy\n",
    "$$\n",
    "Note that for the p-Wasserstein, we obtain:\n",
    "\n",
    "$$\n",
    "\\int_0^1 |C_\\alpha^{-1}(y) - C_\\beta^{-1}(y)|^p dy\n",
    "$$\n",
    "\n",
    "Where $C_\\alpha^{-1}$ is the quantile function for the distribution $\\alpha$ (the inverse of the Cumulative Distribution Function).\n",
    "\n",
    "Another interesting particular case occurs for $h(z) = |z|$. For such cost function, the formula coincides with:\n",
    "\n",
    "$$\n",
    "\\int_\\mathbb R |C_\\beta(x) - C_\\alpha(x)| dy\n",
    "$$"
   ]
  },
  {
   "cell_type": "code",
   "execution_count": 9,
   "id": "internal-component",
   "metadata": {},
   "outputs": [
    {
     "data": {
      "text/plain": [
       "(2.0, 0.0)"
      ]
     },
     "execution_count": 9,
     "metadata": {},
     "output_type": "execute_result"
    }
   ],
   "source": [
    "\"\"\"\n",
    "`w1d2(μ::distribution,ν::distribution,p=1)`\n",
    "\n",
    "This function calculates the p-Wasserstein Distance between two 1-Dimensional\n",
    "distribution.\n",
    "\n",
    "The calculation performed is:\n",
    "```math\n",
    "\\\\int_0^1 |C_\\\\mu^{-1}(r) - C_\\\\nu^{-1}(r)|^p dr\n",
    "```\n",
    "Where ``C_\\\\alpha^{-1}`` is the quantile function.\n",
    "\"\"\"\n",
    "function w1d2(μ::Distributions.UnivariateDistribution,ν::Distributions.UnivariateDistribution,p=1)\n",
    "    w_p(μ,ν,x,p) = abs(quantile(μ,x)-quantile(ν,x))^p\n",
    "    f(x) = w_p(μ,ν,x,p)\n",
    "    return quadgk(f,0,1)\n",
    "end\n",
    "\n",
    "w1d2(μ,ν)"
   ]
  },
  {
   "cell_type": "code",
   "execution_count": null,
   "id": "short-regular",
   "metadata": {},
   "outputs": [],
   "source": [
    "quadgk()"
   ]
  }
 ],
 "metadata": {
  "kernelspec": {
   "display_name": "Julia 1.6.0",
   "language": "julia",
   "name": "julia-1.6"
  },
  "language_info": {
   "file_extension": ".jl",
   "mimetype": "application/julia",
   "name": "julia",
   "version": "1.6.0"
  }
 },
 "nbformat": 4,
 "nbformat_minor": 5
}
