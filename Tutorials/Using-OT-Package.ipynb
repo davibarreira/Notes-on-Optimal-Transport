{
 "cells": [
  {
   "cell_type": "code",
   "execution_count": 89,
   "id": "66d41c4d-d83b-444c-96a8-8850a09993ff",
   "metadata": {},
   "outputs": [
    {
     "name": "stdout",
     "output_type": "stream",
     "text": [
      "0.000586378215737593\n",
      "0.0006894766600249527\n",
      "true\n"
     ]
    }
   ],
   "source": [
    "# # Basics\n",
    "#\n",
    "# ## Packages\n",
    "#\n",
    "# We load the following packages into our environment:\n",
    "\n",
    "using OptimalTransport\n",
    "using Distances\n",
    "using Plots\n",
    "using PythonOT: PythonOT\n",
    "using Tulip\n",
    "\n",
    "using LinearAlgebra\n",
    "using Random\n",
    "\n",
    "\n",
    "M = 200\n",
    "μ = fill(1 / M, M)\n",
    "μsupport = rand(M)\n",
    "\n",
    "N = 250\n",
    "ν = fill(1 / N, N)\n",
    "νsupport = rand(N);\n",
    "\n",
    "# Now we compute the quadratic cost matrix $C_{ij} = \\| x_i - x_j \\|_2^2$:\n",
    "\n",
    "C  = pairwise(SqEuclidean(), μsupport', νsupport'; dims=2);\n",
    "Cμ = pairwise(SqEuclidean(), μsupport', μsupport'; dims=2);\n",
    "Cν = pairwise(SqEuclidean(), νsupport', νsupport'; dims=2);\n",
    "\n",
    "ε = 0.01\n",
    "γ = sinkhorn(μ, ν, C, ε);\n",
    "\n",
    "# We can check that one obtains the same result with the Python Optimal Transport (POT) package:\n",
    "\n",
    "# We can compute the optimal cost (a scalar) of the entropically regularized optimal\n",
    "# transport problem with `sinkhorn2`:\n",
    "\n",
    "S  = sinkhorn2(μ, ν, C, ε, regularization=true)\n",
    "Sμ = sinkhorn2(μ, μ, Cμ, ε, regularization=true)\n",
    "Sν = sinkhorn2(ν, ν, Cν, ε, regularization=true)\n",
    "Sfeydy = S - Sμ/2 - Sν/2\n",
    "println(S - Sμ/2 - Sν/2)\n",
    "\n",
    "S  = sinkhorn2(μ, ν, C, ε, regularization=false)\n",
    "Sμ = sinkhorn2(μ, μ, Cμ, ε, regularization=false)\n",
    "Sν = sinkhorn2(ν, ν, Cν, ε, regularization=false)\n",
    "\n",
    "Sgenevay = S - Sμ/2 - Sν/2\n",
    "println(S - Sμ/2 - Sν/2)\n",
    "println(Sfeydy< Sgenevay)"
   ]
  },
  {
   "cell_type": "code",
   "execution_count": 11,
   "id": "ac601fcf-2197-458f-b5f3-5e26b3b7ec5d",
   "metadata": {},
   "outputs": [
    {
     "data": {
      "text/plain": [
       "0.0005545470661841518"
      ]
     },
     "execution_count": 11,
     "metadata": {},
     "output_type": "execute_result"
    }
   ],
   "source": []
  },
  {
   "cell_type": "code",
   "execution_count": null,
   "id": "a9265619-a24d-4ed7-9fdb-6a8f1d378704",
   "metadata": {},
   "outputs": [],
   "source": []
  }
 ],
 "metadata": {
  "kernelspec": {
   "display_name": "Julia 1.6.1",
   "language": "julia",
   "name": "julia-1.6"
  },
  "language_info": {
   "file_extension": ".jl",
   "mimetype": "application/julia",
   "name": "julia",
   "version": "1.6.1"
  }
 },
 "nbformat": 4,
 "nbformat_minor": 5
}
