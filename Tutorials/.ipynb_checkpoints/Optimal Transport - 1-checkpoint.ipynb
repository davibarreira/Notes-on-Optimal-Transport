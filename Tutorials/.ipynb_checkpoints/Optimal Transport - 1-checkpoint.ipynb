{
 "cells": [
  {
   "cell_type": "markdown",
   "id": "opened-tackle",
   "metadata": {},
   "source": [
    "# **Optimal Transport**\n",
    "\n",
    "### A brief tutorial on solving Optimal Transport problems using Julia.\n",
    "---"
   ]
  },
  {
   "cell_type": "markdown",
   "id": "residential-amino",
   "metadata": {},
   "source": [
    "##### Importing Packages"
   ]
  },
  {
   "cell_type": "code",
   "execution_count": 1,
   "id": "coated-longer",
   "metadata": {},
   "outputs": [],
   "source": [
    "using OptimalTransport, VegaLite, LinearAlgebra, DataFrames, Distances, LaTeXStrings, Tulip, Distributions, StatsBase\n",
    "using QuadGK\n",
    "using FillArrays\n",
    "using LazyArrays\n",
    "\n",
    "using JuMP\n",
    "\n",
    "optimizer = Tulip.Optimizer();"
   ]
  },
  {
   "cell_type": "markdown",
   "id": "conventional-bundle",
   "metadata": {},
   "source": [
    "## **1D Optimal Transport**\n",
    "\n",
    "Let's start by solving the case of 1-Dimensional OT problems."
   ]
  },
  {
   "cell_type": "markdown",
   "id": "continued-valve",
   "metadata": {},
   "source": [
    "The Optimal Transport Cost for 1D distributions can be obtained by:\n",
    "$$\n",
    "\\int_0^1 h(C_\\nu^{-1}(y) - C_\\mu^{-1}(y)) dy\n",
    "$$\n",
    "Note that for the p-Wasserstein, we obtain:\n",
    "\n",
    "$$\n",
    "\\int_0^1 |C_\\nu^{-1}(y) - C_\\mu^{-1}(y)|^p dy\n",
    "$$\n",
    "\n",
    "Where $C_\\mu^{-1}$ is the quantile function for the distribution $\\alpha$ (the inverse of the Cumulative Distribution Function).\n",
    "\n",
    "Another interesting particular case occurs for $h(z) = |z|$. For such cost function, the formula coincides with:\n",
    "\n",
    "$$\n",
    "\\int_\\mathbb R |C_\\mu(x) - C_\\nu(x)| dx\n",
    "$$"
   ]
  },
  {
   "cell_type": "code",
   "execution_count": 2,
   "id": "funky-quarter",
   "metadata": {},
   "outputs": [
    {
     "data": {
      "text/plain": [
       "otc (generic function with 1 method)"
      ]
     },
     "execution_count": 2,
     "metadata": {},
     "output_type": "execute_result"
    }
   ],
   "source": [
    "\"\"\"\n",
    "`otc(μ::distribution,ν::distribution,p=1)`\n",
    "\n",
    "This function calculates the p-Wasserstein Distance between two 1-Dimensional\n",
    "distribution.\n",
    "\n",
    "The calculation performed is:\n",
    "```math\n",
    "\\\\int_0^1 c(C_\\\\mu^{-1}(r), C_\\\\nu^{-1}(r))dr\n",
    "```\n",
    "Where ``C_\\\\mu^{-1}`` is the quantile function.\n",
    "\"\"\"\n",
    "\n",
    "\n",
    "\n",
    "function otc(μ::Distributions.UnivariateDistribution,ν::Distributions.UnivariateDistribution,c)\n",
    "#     g(μ,ν,x) = use the quantile function q = quantile(μ,y); g(\\mu,\\nu,x) = c(C_\\\\mu^{-1}(r), C_\\\\nu^{-1}(r))\n",
    "    f(x) = g(μ,ν,x) # Auxiliary function to be \n",
    "    return quadgk(f,0,1)[1]\n",
    "end\n"
   ]
  },
  {
   "cell_type": "markdown",
   "id": "efficient-cargo",
   "metadata": {},
   "source": [
    "#### Auxiliary Plot Function"
   ]
  },
  {
   "cell_type": "code",
   "execution_count": 3,
   "id": "republican-james",
   "metadata": {},
   "outputs": [
    {
     "data": {
      "text/plain": [
       "plotDistributions"
      ]
     },
     "execution_count": 3,
     "metadata": {},
     "output_type": "execute_result"
    }
   ],
   "source": [
    "\"\"\"\n",
    "`plotDistribution(μ::distribution,ν::distribution,x=collect(-10:0.1:10))`\n",
    "'x' is the plotting domain.\n",
    "\n",
    "This function returns both the pdfs and cdfs of the pair\n",
    "of probability measures.\n",
    "\"\"\"\n",
    "function plotDistributions( μ::Distributions.UnivariateDistribution,\n",
    "                            ν::Distributions.UnivariateDistribution,\n",
    "                            x=collect(-10:0.1:10))\n",
    "    \n",
    "    x  = collect(-10:0.1:10)\n",
    "    y  = pdf(μ,x)\n",
    "    z  = pdf(ν,x);\n",
    "    cy = cdf(μ,x)\n",
    "    cz = cdf(ν,x);\n",
    "    cmin = min.(cy,cz)\n",
    "    cmax = max.(cy,cz)\n",
    "\n",
    "    pdf1 = @vlplot(:line,x={x,type=\"quantitative\"},y={y,type=\"quantitative\"})\n",
    "    pdf2 = @vlplot(:line,x={x,type=\"quantitative\"},y={z,type=\"quantitative\"},color={value=\"red\"})\n",
    "    pdfs = @vlplot()+ pdf1 + pdf2\n",
    "\n",
    "    cdf1 = @vlplot(:line,x={x,type=\"quantitative\"},y={cy,type=\"quantitative\"})\n",
    "    cdf2 = @vlplot(:line,x={x,type=\"quantitative\"},y={cz,type=\"quantitative\"},color={value=\"red\"})\n",
    "    cdfa = @vlplot(:area,\n",
    "            x={x,type=\"quantitative\"},\n",
    "            y={cmax,type=\"quantitative\"},\n",
    "            y2={cmin,type=\"quantitative\"},\n",
    "            color={value=\"green\"},\n",
    "            opacity={value=0.4})\n",
    "    cdfs = @vlplot()+ cdf1 + cdf2 + cdfa\n",
    "\n",
    "    return [pdfs cdfs]\n",
    "end\n"
   ]
  },
  {
   "cell_type": "markdown",
   "id": "expanded-reading",
   "metadata": {},
   "source": [
    "### Choose two Distributions to visualize and calculate the OT cost\n",
    "\n",
    "Note that for $c(x,y) = |y-x|$, the area in green in the plot represents the optimal transport cost."
   ]
  },
  {
   "cell_type": "code",
   "execution_count": 5,
   "id": "extensive-staff",
   "metadata": {},
   "outputs": [
    {
     "data": {
      "text/plain": [
       "c (generic function with 1 method)"
      ]
     },
     "execution_count": 5,
     "metadata": {},
     "output_type": "execute_result"
    }
   ],
   "source": [
    "μ = Normal(0)\n",
    "ν = Normal(4)\n",
    "y = range(0,stop=1,length=500)\n",
    "c(x,y) = abs(y-x)^1 # h(y-x) convex function\n",
    "\n",
    "println(\"Optimal Trasnport Cost = \",otc(μ,ν,c))\n",
    "plotDistributions(μ,ν)"
   ]
  },
  {
   "cell_type": "markdown",
   "id": "boxed-brazilian",
   "metadata": {},
   "source": [
    "#### CHALLENGE - Write down a function to calculate the OT cost for two discrete distributions"
   ]
  },
  {
   "cell_type": "code",
   "execution_count": null,
   "id": "looking-basin",
   "metadata": {},
   "outputs": [],
   "source": []
  },
  {
   "cell_type": "markdown",
   "id": "younger-protection",
   "metadata": {},
   "source": [
    "----"
   ]
  },
  {
   "cell_type": "markdown",
   "id": "dried-stick",
   "metadata": {},
   "source": [
    "## **Multidimensional Discrete Optimal Transport**\n",
    "\n",
    "Let $\\mu$ be a finite discrete probability measure, hence\n",
    "\\begin{equation}\n",
    "  \\mu := \\sum^n_{i=1} u_i \\delta_{x_i}\n",
    "\\end{equation}\n",
    "Where $\\mathbf x = (x_1,...,x_n) \\in \\mathbb R^{n\\times d}$\n",
    "represent the location of each mass particle $i \\in \\{1,...,n\\}$. Vector\n",
    "$\\mathbf u \\in \\mathbb R^{n\\times 1}$, with components $u_i \\in (0,1]$,\n",
    "is the vector of weights, representing the amount of mass of each particle. Hence,\n",
    "discrete measures might be represented by a vector $\\mathbf x$ of positions, and\n",
    "$\\mathbf u$ of weights.\n",
    "\n",
    "Now, suppose that both $\\mu$ and $\\nu$ are discrete measures. Let $\\mathbf u \\in \\mathbb R^{n\\times 1}$\n",
    "and $\\mathbf v \\in \\mathbb R^{m \\times 1}$ represent the vector of weights, and\n",
    "$\\mathbf x \\in \\mathbb R^{n\\times d}, \\mathbf y\\in \\mathbb R^{m\\times d}$ represent the positions of each particle\n",
    "of $\\mu$ and $\\nu$, respectively.\n",
    "In this scenario, the Optimal Transport Problem might be reformulated as the following.\n",
    "The cost function $c(x,y)$ can be substituted by a cost matrix $\\mathbf C \\in \\mathbb R^{n \\times m}$, where\n",
    "\\begin{equation}\n",
    "  \\mathbf C_{i,j} := c(x_i,y_j), \\quad i \\in \\{1,...,n\\}, \\ j \\in \\{1,...,m\\}\n",
    "\\end{equation}\n",
    "Any transport plan $\\gamma$ can be written as a matrix $\\mathbf P \\in \\mathbb R_+^{n\\times m}$, such that\n",
    "$\\mathbf P_{i,j}$ represents the amount of mass flowing from particle $i$ to particle $j$. Since\n",
    "$\\gamma \\in \\Pi(\\mu,\\nu)$, the set of possible transport plans can be written as:\n",
    "\\begin{equation}\n",
    "  \\mathbf U(\\mathbf u, \\mathbf v)\n",
    "  := \\left\\{\n",
    "  \\mathbf P \\in \\mathbb R_+^{n\\times m} \\ : \\ \\mathbf P \\mathbf 1_m = \\mathbf u , \\\n",
    "  \\mathbf P^\\mathrm T \\mathbf 1_n = \\mathbf v\n",
    "  \\right\\}\n",
    "\\end{equation}\n",
    "\n",
    "Where $\\mathbf 1_n$ is a vector with $n$ components, each equal to 1. In words, the sum\n",
    "of each row of $\\mathbf P$ must be equal to $\\mathbf u$ and the sum of each column must\n",
    "be equal to $\\mathbf v$.\n",
    "\n",
    "The Discrete Optimal Transport Problem is actually a Linear Programming (LP) problem:\n",
    "\n",
    "Optimal Transport as standard LP\n",
    "$$\\min \\mathbf c^ T \\mathbf p ,\\quad \\text{subject to} $$\n",
    "\n",
    "$$\n",
    "\\mathbf{Ap} =\n",
    "      \\begin{bmatrix}\n",
    "        \\mathbf u \\\\\n",
    "        \\mathbf v\n",
    "      \\end{bmatrix};\n",
    "      \\quad\n",
    "\\mathbf p \\geq 0\n",
    "$$\n",
    "  Where\n",
    "  \\begin{align*}\n",
    "    \\mathbf p :=\n",
    "    \\begin{bmatrix}\n",
    "      \\mathbf P_{1,1} \\\\\n",
    "      \\mathbf P_{2,1} \\\\\n",
    "      \\vdots          \\\\\n",
    "      \\mathbf P_{n,1} \\\\\n",
    "      \\mathbf P_{2,1} \\\\\n",
    "      \\vdots          \\\\\n",
    "      \\mathbf P_{n,m}\n",
    "    \\end{bmatrix}\n",
    "    , \\quad\n",
    "    \\mathbf c :=\n",
    "    \\begin{bmatrix}\n",
    "      \\mathbf C_{1,1} \\\\\n",
    "      \\mathbf C_{2,1} \\\\\n",
    "      \\vdots          \\\\\n",
    "      \\mathbf C_{n,1} \\\\\n",
    "      \\mathbf C_{2,1} \\\\\n",
    "      \\vdots          \\\\\n",
    "      \\mathbf C_{n,m}\n",
    "    \\end{bmatrix}\n",
    "    , \\quad\n",
    "    \\mathbf A := \\begin{bmatrix}\n",
    "      \\mathbf 1_n^\\mathrm T \\otimes \\mathbf I_m \\\\\n",
    "      \\mathbf I_n               \\otimes \\mathbf 1_m^\\mathrm T\n",
    "    \\end{bmatrix}, \\\\\n",
    "  \\end{align*}\n",
    "  Note that $\\mathbf I_n$ stands for the identity matrix, and $\\otimes$ is the tensor product."
   ]
  },
  {
   "cell_type": "markdown",
   "id": "gorgeous-cookbook",
   "metadata": {},
   "source": [
    "\n",
    "### **Example**\n",
    "Let's do a 2D case, since it's easier to visualize.\n"
   ]
  },
  {
   "cell_type": "code",
   "execution_count": 6,
   "id": "attractive-injury",
   "metadata": {},
   "outputs": [
    {
     "data": {
      "text/plain": [
       "InteriorPointMethod"
      ]
     },
     "execution_count": 6,
     "metadata": {},
     "output_type": "execute_result"
    }
   ],
   "source": [
    "\"\"\"\n",
    "InteriorPointMethod(c,A,b)\n",
    "Interior Point Method using Tulip Optimizer and JuMP for modeling.\n",
    "LP problem format:\n",
    "       min  dot(c, x)\n",
    "subject to A x = b\n",
    "             0 ≤ x\n",
    "WARNING: If any of the marginal distributions has only one mass\n",
    "point (e.g.: mu = [0.25,0.25,0.5], nu = [1]), then the function\n",
    "will return an error, since the LP problem will not have an interior.\n",
    "\"\"\"\n",
    "function InteriorPointMethod(c,A,b)\n",
    "    model = JuMP.Model(Tulip.Optimizer)\n",
    "    @variable(model, x[1:size(c)[1]])\n",
    "    @constraint(model,A*x.==b)\n",
    "    @constraint(model,x.>=0)\n",
    "    @objective(model, Min, c'*x)\n",
    "    optimize!(model)\n",
    "    p = zeros(size(c)[1])\n",
    "    for i = 1:size(c)[1]\n",
    "        p[i] = value(x[i])\n",
    "    end\n",
    "    return p\n",
    "end"
   ]
  },
  {
   "cell_type": "markdown",
   "id": "postal-workstation",
   "metadata": {},
   "source": [
    "#### Auxiliary Plot Functions"
   ]
  },
  {
   "cell_type": "code",
   "execution_count": 7,
   "id": "bottom-subdivision",
   "metadata": {},
   "outputs": [],
   "source": [
    "\n",
    "\"\"\"\n",
    "    CreateEdges(μ,ν,γ)\n",
    "Creates the edges for plotting.\n",
    "μ and ν correspond to the positions of the mass\n",
    "of the distributions.\n",
    "\"\"\"\n",
    "function CreateEdges(μ,ν,γ)\n",
    "    edges = Array{Float64}(undef, 0, 2)\n",
    "    pe    = []\n",
    "    for i in 1:size(μ)[1], j in 1:size(ν)[1]\n",
    "        edges  = vcat(edges,[μ[i,1],μ[i,2]]')\n",
    "        edges  = vcat(edges,[ν[j,1],ν[j,2]]')\n",
    "        pe     = vcat(pe,string([i,j]))\n",
    "        pe     = vcat(pe,string([i,j]))\n",
    "    end\n",
    "    df = DataFrame(edges_x=edges[:,1],edges_y = edges[:,2],pe=pe);\n",
    "    edge_w = []\n",
    "    for i in 1:size(γ)[1], j in 1:size(γ)[1]\n",
    "        edge_w = vcat(edge_w,γ[i,j])\n",
    "        edge_w = vcat(edge_w,γ[i,j])\n",
    "    end\n",
    "    df[!,\"ew\"] = edge_w./maximum(edge_w);\n",
    "    return df\n",
    "end\n",
    "\n",
    "\"\"\"\n",
    "    PlotOT(μ,ν,γ;title=\"\",width=200,height=200)\n",
    "VegaLite.jl specification for creating visulizations\n",
    "of Optimal Transport plan.\n",
    "\"\"\"\n",
    "function PlotOT(μ,ν,γ;title=\"\",width=300,height=300)\n",
    "    df = CreateEdges(μ,ν,γ)\n",
    "    v1 = @vlplot(\n",
    "        mark={:circle,opacity=1},\n",
    "        x={μ[:,1],type=\"quantitative\",axis=nothing},\n",
    "        y={μ[:,2],type=\"quantitative\",axis=nothing},\n",
    "        width=width,\n",
    "        height=height,\n",
    "        size={μ_n,legend=nothing,type=\"q\"})\n",
    "    v2 = @vlplot(\n",
    "        mark={\"type\"=:circle,color=\"red\",opacity=1},\n",
    "        x={ν[:,1],type=\"quantitative\",axis=nothing},\n",
    "        y={ν[:,2],type=\"quantitative\",axis=nothing},\n",
    "        width=width,\n",
    "        height=height,\n",
    "        size={ν_m,legend=nothing,type=\"q\"})\n",
    "\n",
    "    v3 = @vlplot(\n",
    "        mark={\"type\"=:line,color=\"black\",clip=false},\n",
    "        data = df,\n",
    "        encoding={\n",
    "        x={\"edges_x:q\",axis=nothing},\n",
    "        y={\"edges_y:q\",axis=nothing},\n",
    "        opacity={\"ew:q\",legend=nothing},\n",
    "        size={\"ew:o\",scale={range=[0,2]},legend=nothing},\n",
    "        detail={\"pe:o\"}},\n",
    "        width=width,\n",
    "        height=height\n",
    "    )\n",
    "    v = @vlplot(view={stroke=nothing},title={text=title, dy=-25, fontSize=14})+v3+v2+v1\n",
    "    return v\n",
    "end;"
   ]
  },
  {
   "cell_type": "markdown",
   "id": "robust-inquiry",
   "metadata": {},
   "source": [
    "#### **Generating the Marginal Distributions and Turning the problem into the LP format**\n",
    "Below we create two random discrete probability distributions. Note that $\\mu,\\nu$ represent the 2D location of the mass, while\n",
    "$\\mu_n, \\nu_m$ represent the amount of mass in each point. Then, the cost matrix $C$ is built using the Euclidean distance."
   ]
  },
  {
   "cell_type": "code",
   "execution_count": 8,
   "id": "incorporate-folder",
   "metadata": {},
   "outputs": [
    {
     "data": {
      "text/plain": [
       "(10, 10)"
      ]
     },
     "execution_count": 8,
     "metadata": {},
     "output_type": "execute_result"
    }
   ],
   "source": [
    "n,m = 10,10\n",
    "\n"
   ]
  },
  {
   "cell_type": "code",
   "execution_count": 259,
   "id": "thorough-murder",
   "metadata": {},
   "outputs": [
    {
     "data": {
      "application/vnd.vegalite.v4+json": {
       "layer": [
        {
         "data": {
          "values": [
           {
            "edges_x": 0.27638397864130604,
            "edges_y": 0.6448392345393321,
            "ew": 0,
            "pe": "[1, 1]"
           },
           {
            "edges_x": 1.309705118539681,
            "edges_y": 1.2333238429445694,
            "ew": 0,
            "pe": "[1, 1]"
           },
           {
            "edges_x": 0.27638397864130604,
            "edges_y": 0.6448392345393321,
            "ew": 0,
            "pe": "[1, 2]"
           },
           {
            "edges_x": 1.386662531924401,
            "edges_y": 0.8667713563991586,
            "ew": 0,
            "pe": "[1, 2]"
           },
           {
            "edges_x": 0.27638397864130604,
            "edges_y": 0.6448392345393321,
            "ew": 0,
            "pe": "[1, 3]"
           },
           {
            "edges_x": 1.3685275285467278,
            "edges_y": 0.8176495466741209,
            "ew": 0,
            "pe": "[1, 3]"
           },
           {
            "edges_x": 0.27638397864130604,
            "edges_y": 0.6448392345393321,
            "ew": 0,
            "pe": "[1, 4]"
           },
           {
            "edges_x": 1.4427927561934208,
            "edges_y": 1.2038631982693961,
            "ew": 0,
            "pe": "[1, 4]"
           },
           {
            "edges_x": 0.27638397864130604,
            "edges_y": 0.6448392345393321,
            "ew": 0.44122383252818037,
            "pe": "[1, 5]"
           },
           {
            "edges_x": 0.7043123043381587,
            "edges_y": 0.6810156720540721,
            "ew": 0.44122383252818037,
            "pe": "[1, 5]"
           },
           {
            "edges_x": 0.27638397864130604,
            "edges_y": 0.6448392345393321,
            "ew": 0,
            "pe": "[1, 6]"
           },
           {
            "edges_x": 0.7837028641159891,
            "edges_y": 1.0795306043433088,
            "ew": 0,
            "pe": "[1, 6]"
           },
           {
            "edges_x": 0.27638397864130604,
            "edges_y": 0.6448392345393321,
            "ew": 0.826086956521739,
            "pe": "[1, 7]"
           },
           {
            "edges_x": 1.2357579632920475,
            "edges_y": 0.8687810563972482,
            "ew": 0.826086956521739,
            "pe": "[1, 7]"
           },
           {
            "edges_x": 0.27638397864130604,
            "edges_y": 0.6448392345393321,
            "ew": 0,
            "pe": "[1, 8]"
           },
           {
            "edges_x": 1.2196599063134506,
            "edges_y": 0.9260992171687954,
            "ew": 0,
            "pe": "[1, 8]"
           },
           {
            "edges_x": 0.27638397864130604,
            "edges_y": 0.6448392345393321,
            "ew": 0,
            "pe": "[1, 9]"
           },
           {
            "edges_x": 0.7317151783362104,
            "edges_y": 1.3838512379043064,
            "ew": 0,
            "pe": "[1, 9]"
           },
           {
            "edges_x": 0.27638397864130604,
            "edges_y": 0.6448392345393321,
            "ew": 0,
            "pe": "[1, 10]"
           },
           {
            "edges_x": 1.4631060327124403,
            "edges_y": 1.0706935441557668,
            "ew": 0,
            "pe": "[1, 10]"
           },
           {
            "edges_x": 0.8128205041470926,
            "edges_y": 0.7634042233100324,
            "ew": 0,
            "pe": "[2, 1]"
           },
           {
            "edges_x": 1.309705118539681,
            "edges_y": 1.2333238429445694,
            "ew": 0,
            "pe": "[2, 1]"
           },
           {
            "edges_x": 0.8128205041470926,
            "edges_y": 0.7634042233100324,
            "ew": 0,
            "pe": "[2, 2]"
           },
           {
            "edges_x": 1.386662531924401,
            "edges_y": 0.8667713563991586,
            "ew": 0,
            "pe": "[2, 2]"
           },
           {
            "edges_x": 0.8128205041470926,
            "edges_y": 0.7634042233100324,
            "ew": 0,
            "pe": "[2, 3]"
           },
           {
            "edges_x": 1.3685275285467278,
            "edges_y": 0.8176495466741209,
            "ew": 0,
            "pe": "[2, 3]"
           },
           {
            "edges_x": 0.8128205041470926,
            "edges_y": 0.7634042233100324,
            "ew": 0,
            "pe": "[2, 4]"
           },
           {
            "edges_x": 1.4427927561934208,
            "edges_y": 1.2038631982693961,
            "ew": 0,
            "pe": "[2, 4]"
           },
           {
            "edges_x": 0.8128205041470926,
            "edges_y": 0.7634042233100324,
            "ew": 0,
            "pe": "[2, 5]"
           },
           {
            "edges_x": 0.7043123043381587,
            "edges_y": 0.6810156720540721,
            "ew": 0,
            "pe": "[2, 5]"
           },
           {
            "edges_x": 0.8128205041470926,
            "edges_y": 0.7634042233100324,
            "ew": 0,
            "pe": "[2, 6]"
           },
           {
            "edges_x": 0.7837028641159891,
            "edges_y": 1.0795306043433088,
            "ew": 0,
            "pe": "[2, 6]"
           },
           {
            "edges_x": 0.8128205041470926,
            "edges_y": 0.7634042233100324,
            "ew": 0,
            "pe": "[2, 7]"
           },
           {
            "edges_x": 1.2357579632920475,
            "edges_y": 0.8687810563972482,
            "ew": 0,
            "pe": "[2, 7]"
           },
           {
            "edges_x": 0.8128205041470926,
            "edges_y": 0.7634042233100324,
            "ew": 0,
            "pe": "[2, 8]"
           },
           {
            "edges_x": 1.2196599063134506,
            "edges_y": 0.9260992171687954,
            "ew": 0,
            "pe": "[2, 8]"
           },
           {
            "edges_x": 0.8128205041470926,
            "edges_y": 0.7634042233100324,
            "ew": 0,
            "pe": "[2, 9]"
           },
           {
            "edges_x": 0.7317151783362104,
            "edges_y": 1.3838512379043064,
            "ew": 0,
            "pe": "[2, 9]"
           },
           {
            "edges_x": 0.8128205041470926,
            "edges_y": 0.7634042233100324,
            "ew": 0.8760064412238324,
            "pe": "[2, 10]"
           },
           {
            "edges_x": 1.4631060327124403,
            "edges_y": 1.0706935441557668,
            "ew": 0.8760064412238324,
            "pe": "[2, 10]"
           },
           {
            "edges_x": 0.6110310904658998,
            "edges_y": 0.03732045124821726,
            "ew": 0,
            "pe": "[3, 1]"
           },
           {
            "edges_x": 1.309705118539681,
            "edges_y": 1.2333238429445694,
            "ew": 0,
            "pe": "[3, 1]"
           },
           {
            "edges_x": 0.6110310904658998,
            "edges_y": 0.03732045124821726,
            "ew": 0,
            "pe": "[3, 2]"
           },
           {
            "edges_x": 1.386662531924401,
            "edges_y": 0.8667713563991586,
            "ew": 0,
            "pe": "[3, 2]"
           },
           {
            "edges_x": 0.6110310904658998,
            "edges_y": 0.03732045124821726,
            "ew": 0,
            "pe": "[3, 3]"
           },
           {
            "edges_x": 1.3685275285467278,
            "edges_y": 0.8176495466741209,
            "ew": 0,
            "pe": "[3, 3]"
           },
           {
            "edges_x": 0.6110310904658998,
            "edges_y": 0.03732045124821726,
            "ew": 0,
            "pe": "[3, 4]"
           },
           {
            "edges_x": 1.4427927561934208,
            "edges_y": 1.2038631982693961,
            "ew": 0,
            "pe": "[3, 4]"
           },
           {
            "edges_x": 0.6110310904658998,
            "edges_y": 0.03732045124821726,
            "ew": 0,
            "pe": "[3, 5]"
           },
           {
            "edges_x": 0.7043123043381587,
            "edges_y": 0.6810156720540721,
            "ew": 0,
            "pe": "[3, 5]"
           },
           {
            "edges_x": 0.6110310904658998,
            "edges_y": 0.03732045124821726,
            "ew": 0,
            "pe": "[3, 6]"
           },
           {
            "edges_x": 0.7837028641159891,
            "edges_y": 1.0795306043433088,
            "ew": 0,
            "pe": "[3, 6]"
           },
           {
            "edges_x": 0.6110310904658998,
            "edges_y": 0.03732045124821726,
            "ew": 0.25281803542673104,
            "pe": "[3, 7]"
           },
           {
            "edges_x": 1.2357579632920475,
            "edges_y": 0.8687810563972482,
            "ew": 0.25281803542673104,
            "pe": "[3, 7]"
           },
           {
            "edges_x": 0.6110310904658998,
            "edges_y": 0.03732045124821726,
            "ew": 0,
            "pe": "[3, 8]"
           },
           {
            "edges_x": 1.2196599063134506,
            "edges_y": 0.9260992171687954,
            "ew": 0,
            "pe": "[3, 8]"
           },
           {
            "edges_x": 0.6110310904658998,
            "edges_y": 0.03732045124821726,
            "ew": 0,
            "pe": "[3, 9]"
           },
           {
            "edges_x": 0.7317151783362104,
            "edges_y": 1.3838512379043064,
            "ew": 0,
            "pe": "[3, 9]"
           },
           {
            "edges_x": 0.6110310904658998,
            "edges_y": 0.03732045124821726,
            "ew": 0,
            "pe": "[3, 10]"
           },
           {
            "edges_x": 1.4631060327124403,
            "edges_y": 1.0706935441557668,
            "ew": 0,
            "pe": "[3, 10]"
           },
           {
            "edges_x": 0.9096926352131169,
            "edges_y": 0.27431150444044694,
            "ew": 0,
            "pe": "[4, 1]"
           },
           {
            "edges_x": 1.309705118539681,
            "edges_y": 1.2333238429445694,
            "ew": 0,
            "pe": "[4, 1]"
           },
           {
            "edges_x": 0.9096926352131169,
            "edges_y": 0.27431150444044694,
            "ew": 1,
            "pe": "[4, 2]"
           },
           {
            "edges_x": 1.386662531924401,
            "edges_y": 0.8667713563991586,
            "ew": 1,
            "pe": "[4, 2]"
           },
           {
            "edges_x": 0.9096926352131169,
            "edges_y": 0.27431150444044694,
            "ew": 0,
            "pe": "[4, 3]"
           },
           {
            "edges_x": 1.3685275285467278,
            "edges_y": 0.8176495466741209,
            "ew": 0,
            "pe": "[4, 3]"
           },
           {
            "edges_x": 0.9096926352131169,
            "edges_y": 0.27431150444044694,
            "ew": 0,
            "pe": "[4, 4]"
           },
           {
            "edges_x": 1.4427927561934208,
            "edges_y": 1.2038631982693961,
            "ew": 0,
            "pe": "[4, 4]"
           },
           {
            "edges_x": 0.9096926352131169,
            "edges_y": 0.27431150444044694,
            "ew": 0,
            "pe": "[4, 5]"
           },
           {
            "edges_x": 0.7043123043381587,
            "edges_y": 0.6810156720540721,
            "ew": 0,
            "pe": "[4, 5]"
           },
           {
            "edges_x": 0.9096926352131169,
            "edges_y": 0.27431150444044694,
            "ew": 0,
            "pe": "[4, 6]"
           },
           {
            "edges_x": 0.7837028641159891,
            "edges_y": 1.0795306043433088,
            "ew": 0,
            "pe": "[4, 6]"
           },
           {
            "edges_x": 0.9096926352131169,
            "edges_y": 0.27431150444044694,
            "ew": 0.03140096618357488,
            "pe": "[4, 7]"
           },
           {
            "edges_x": 1.2357579632920475,
            "edges_y": 0.8687810563972482,
            "ew": 0.03140096618357488,
            "pe": "[4, 7]"
           },
           {
            "edges_x": 0.9096926352131169,
            "edges_y": 0.27431150444044694,
            "ew": 0,
            "pe": "[4, 8]"
           },
           {
            "edges_x": 1.2196599063134506,
            "edges_y": 0.9260992171687954,
            "ew": 0,
            "pe": "[4, 8]"
           },
           {
            "edges_x": 0.9096926352131169,
            "edges_y": 0.27431150444044694,
            "ew": 0,
            "pe": "[4, 9]"
           },
           {
            "edges_x": 0.7317151783362104,
            "edges_y": 1.3838512379043064,
            "ew": 0,
            "pe": "[4, 9]"
           },
           {
            "edges_x": 0.9096926352131169,
            "edges_y": 0.27431150444044694,
            "ew": 0,
            "pe": "[4, 10]"
           },
           {
            "edges_x": 1.4631060327124403,
            "edges_y": 1.0706935441557668,
            "ew": 0,
            "pe": "[4, 10]"
           },
           {
            "edges_x": 0.5701290538268986,
            "edges_y": 0.9403737813276349,
            "ew": 0.2882447665056361,
            "pe": "[5, 1]"
           },
           {
            "edges_x": 1.309705118539681,
            "edges_y": 1.2333238429445694,
            "ew": 0.2882447665056361,
            "pe": "[5, 1]"
           },
           {
            "edges_x": 0.5701290538268986,
            "edges_y": 0.9403737813276349,
            "ew": 0,
            "pe": "[5, 2]"
           },
           {
            "edges_x": 1.386662531924401,
            "edges_y": 0.8667713563991586,
            "ew": 0,
            "pe": "[5, 2]"
           },
           {
            "edges_x": 0.5701290538268986,
            "edges_y": 0.9403737813276349,
            "ew": 0,
            "pe": "[5, 3]"
           },
           {
            "edges_x": 1.3685275285467278,
            "edges_y": 0.8176495466741209,
            "ew": 0,
            "pe": "[5, 3]"
           },
           {
            "edges_x": 0.5701290538268986,
            "edges_y": 0.9403737813276349,
            "ew": 0.501610305958132,
            "pe": "[5, 4]"
           },
           {
            "edges_x": 1.4427927561934208,
            "edges_y": 1.2038631982693961,
            "ew": 0.501610305958132,
            "pe": "[5, 4]"
           },
           {
            "edges_x": 0.5701290538268986,
            "edges_y": 0.9403737813276349,
            "ew": 0,
            "pe": "[5, 5]"
           },
           {
            "edges_x": 0.7043123043381587,
            "edges_y": 0.6810156720540721,
            "ew": 0,
            "pe": "[5, 5]"
           },
           {
            "edges_x": 0.5701290538268986,
            "edges_y": 0.9403737813276349,
            "ew": 0,
            "pe": "[5, 6]"
           },
           {
            "edges_x": 0.7837028641159891,
            "edges_y": 1.0795306043433088,
            "ew": 0,
            "pe": "[5, 6]"
           },
           {
            "edges_x": 0.5701290538268986,
            "edges_y": 0.9403737813276349,
            "ew": 0,
            "pe": "[5, 7]"
           },
           {
            "edges_x": 1.2357579632920475,
            "edges_y": 0.8687810563972482,
            "ew": 0,
            "pe": "[5, 7]"
           },
           {
            "edges_x": 0.5701290538268986,
            "edges_y": 0.9403737813276349,
            "ew": 0,
            "pe": "[5, 8]"
           },
           {
            "edges_x": 1.2196599063134506,
            "edges_y": 0.9260992171687954,
            "ew": 0,
            "pe": "[5, 8]"
           },
           {
            "edges_x": 0.5701290538268986,
            "edges_y": 0.9403737813276349,
            "ew": 0,
            "pe": "[5, 9]"
           },
           {
            "edges_x": 0.7317151783362104,
            "edges_y": 1.3838512379043064,
            "ew": 0,
            "pe": "[5, 9]"
           },
           {
            "edges_x": 0.5701290538268986,
            "edges_y": 0.9403737813276349,
            "ew": 0.5579710144927537,
            "pe": "[5, 10]"
           },
           {
            "edges_x": 1.4631060327124403,
            "edges_y": 1.0706935441557668,
            "ew": 0.5579710144927537,
            "pe": "[5, 10]"
           },
           {
            "edges_x": 0.8201658469508322,
            "edges_y": 0.24946196390401898,
            "ew": 0,
            "pe": "[6, 1]"
           },
           {
            "edges_x": 1.309705118539681,
            "edges_y": 1.2333238429445694,
            "ew": 0,
            "pe": "[6, 1]"
           },
           {
            "edges_x": 0.8201658469508322,
            "edges_y": 0.24946196390401898,
            "ew": 0,
            "pe": "[6, 2]"
           },
           {
            "edges_x": 1.386662531924401,
            "edges_y": 0.8667713563991586,
            "ew": 0,
            "pe": "[6, 2]"
           },
           {
            "edges_x": 0.8201658469508322,
            "edges_y": 0.24946196390401898,
            "ew": 0,
            "pe": "[6, 3]"
           },
           {
            "edges_x": 1.3685275285467278,
            "edges_y": 0.8176495466741209,
            "ew": 0,
            "pe": "[6, 3]"
           },
           {
            "edges_x": 0.8201658469508322,
            "edges_y": 0.24946196390401898,
            "ew": 0,
            "pe": "[6, 4]"
           },
           {
            "edges_x": 1.4427927561934208,
            "edges_y": 1.2038631982693961,
            "ew": 0,
            "pe": "[6, 4]"
           },
           {
            "edges_x": 0.8201658469508322,
            "edges_y": 0.24946196390401898,
            "ew": 0,
            "pe": "[6, 5]"
           },
           {
            "edges_x": 0.7043123043381587,
            "edges_y": 0.6810156720540721,
            "ew": 0,
            "pe": "[6, 5]"
           },
           {
            "edges_x": 0.8201658469508322,
            "edges_y": 0.24946196390401898,
            "ew": 0,
            "pe": "[6, 6]"
           },
           {
            "edges_x": 0.7837028641159891,
            "edges_y": 1.0795306043433088,
            "ew": 0,
            "pe": "[6, 6]"
           },
           {
            "edges_x": 0.8201658469508322,
            "edges_y": 0.24946196390401898,
            "ew": 0.1473429951690821,
            "pe": "[6, 7]"
           },
           {
            "edges_x": 1.2357579632920475,
            "edges_y": 0.8687810563972482,
            "ew": 0.1473429951690821,
            "pe": "[6, 7]"
           },
           {
            "edges_x": 0.8201658469508322,
            "edges_y": 0.24946196390401898,
            "ew": 0,
            "pe": "[6, 8]"
           },
           {
            "edges_x": 1.2196599063134506,
            "edges_y": 0.9260992171687954,
            "ew": 0,
            "pe": "[6, 8]"
           },
           {
            "edges_x": 0.8201658469508322,
            "edges_y": 0.24946196390401898,
            "ew": 0,
            "pe": "[6, 9]"
           },
           {
            "edges_x": 0.7317151783362104,
            "edges_y": 1.3838512379043064,
            "ew": 0,
            "pe": "[6, 9]"
           },
           {
            "edges_x": 0.8201658469508322,
            "edges_y": 0.24946196390401898,
            "ew": 0,
            "pe": "[6, 10]"
           },
           {
            "edges_x": 1.4631060327124403,
            "edges_y": 1.0706935441557668,
            "ew": 0,
            "pe": "[6, 10]"
           },
           {
            "edges_x": 0.17081720906416997,
            "edges_y": 0.9312092254267954,
            "ew": 0.15217391304347824,
            "pe": "[7, 1]"
           },
           {
            "edges_x": 1.309705118539681,
            "edges_y": 1.2333238429445694,
            "ew": 0.15217391304347824,
            "pe": "[7, 1]"
           },
           {
            "edges_x": 0.17081720906416997,
            "edges_y": 0.9312092254267954,
            "ew": 0,
            "pe": "[7, 2]"
           },
           {
            "edges_x": 1.386662531924401,
            "edges_y": 0.8667713563991586,
            "ew": 0,
            "pe": "[7, 2]"
           },
           {
            "edges_x": 0.17081720906416997,
            "edges_y": 0.9312092254267954,
            "ew": 0,
            "pe": "[7, 3]"
           },
           {
            "edges_x": 1.3685275285467278,
            "edges_y": 0.8176495466741209,
            "ew": 0,
            "pe": "[7, 3]"
           },
           {
            "edges_x": 0.17081720906416997,
            "edges_y": 0.9312092254267954,
            "ew": 0,
            "pe": "[7, 4]"
           },
           {
            "edges_x": 1.4427927561934208,
            "edges_y": 1.2038631982693961,
            "ew": 0,
            "pe": "[7, 4]"
           },
           {
            "edges_x": 0.17081720906416997,
            "edges_y": 0.9312092254267954,
            "ew": 0.16505636070853463,
            "pe": "[7, 5]"
           },
           {
            "edges_x": 0.7043123043381587,
            "edges_y": 0.6810156720540721,
            "ew": 0.16505636070853463,
            "pe": "[7, 5]"
           },
           {
            "edges_x": 0.17081720906416997,
            "edges_y": 0.9312092254267954,
            "ew": 0.04267310789049919,
            "pe": "[7, 6]"
           },
           {
            "edges_x": 0.7837028641159891,
            "edges_y": 1.0795306043433088,
            "ew": 0.04267310789049919,
            "pe": "[7, 6]"
           },
           {
            "edges_x": 0.17081720906416997,
            "edges_y": 0.9312092254267954,
            "ew": 0,
            "pe": "[7, 7]"
           },
           {
            "edges_x": 1.2357579632920475,
            "edges_y": 0.8687810563972482,
            "ew": 0,
            "pe": "[7, 7]"
           },
           {
            "edges_x": 0.17081720906416997,
            "edges_y": 0.9312092254267954,
            "ew": 0.7842190016103059,
            "pe": "[7, 8]"
           },
           {
            "edges_x": 1.2196599063134506,
            "edges_y": 0.9260992171687954,
            "ew": 0.7842190016103059,
            "pe": "[7, 8]"
           },
           {
            "edges_x": 0.17081720906416997,
            "edges_y": 0.9312092254267954,
            "ew": 0.22061191626409019,
            "pe": "[7, 9]"
           },
           {
            "edges_x": 0.7317151783362104,
            "edges_y": 1.3838512379043064,
            "ew": 0.22061191626409019,
            "pe": "[7, 9]"
           },
           {
            "edges_x": 0.17081720906416997,
            "edges_y": 0.9312092254267954,
            "ew": 0,
            "pe": "[7, 10]"
           },
           {
            "edges_x": 1.4631060327124403,
            "edges_y": 1.0706935441557668,
            "ew": 0,
            "pe": "[7, 10]"
           },
           {
            "edges_x": 0.9386240666105914,
            "edges_y": 0.16749042323015928,
            "ew": 0,
            "pe": "[8, 1]"
           },
           {
            "edges_x": 1.309705118539681,
            "edges_y": 1.2333238429445694,
            "ew": 0,
            "pe": "[8, 1]"
           },
           {
            "edges_x": 0.9386240666105914,
            "edges_y": 0.16749042323015928,
            "ew": 0.21175523349436393,
            "pe": "[8, 2]"
           },
           {
            "edges_x": 1.386662531924401,
            "edges_y": 0.8667713563991586,
            "ew": 0.21175523349436393,
            "pe": "[8, 2]"
           },
           {
            "edges_x": 0.9386240666105914,
            "edges_y": 0.16749042323015928,
            "ew": 0.6417069243156199,
            "pe": "[8, 3]"
           },
           {
            "edges_x": 1.3685275285467278,
            "edges_y": 0.8176495466741209,
            "ew": 0.6417069243156199,
            "pe": "[8, 3]"
           },
           {
            "edges_x": 0.9386240666105914,
            "edges_y": 0.16749042323015928,
            "ew": 0,
            "pe": "[8, 4]"
           },
           {
            "edges_x": 1.4427927561934208,
            "edges_y": 1.2038631982693961,
            "ew": 0,
            "pe": "[8, 4]"
           },
           {
            "edges_x": 0.9386240666105914,
            "edges_y": 0.16749042323015928,
            "ew": 0,
            "pe": "[8, 5]"
           },
           {
            "edges_x": 0.7043123043381587,
            "edges_y": 0.6810156720540721,
            "ew": 0,
            "pe": "[8, 5]"
           },
           {
            "edges_x": 0.9386240666105914,
            "edges_y": 0.16749042323015928,
            "ew": 0,
            "pe": "[8, 6]"
           },
           {
            "edges_x": 0.7837028641159891,
            "edges_y": 1.0795306043433088,
            "ew": 0,
            "pe": "[8, 6]"
           },
           {
            "edges_x": 0.9386240666105914,
            "edges_y": 0.16749042323015928,
            "ew": 0,
            "pe": "[8, 7]"
           },
           {
            "edges_x": 1.2357579632920475,
            "edges_y": 0.8687810563972482,
            "ew": 0,
            "pe": "[8, 7]"
           },
           {
            "edges_x": 0.9386240666105914,
            "edges_y": 0.16749042323015928,
            "ew": 0,
            "pe": "[8, 8]"
           },
           {
            "edges_x": 1.2196599063134506,
            "edges_y": 0.9260992171687954,
            "ew": 0,
            "pe": "[8, 8]"
           },
           {
            "edges_x": 0.9386240666105914,
            "edges_y": 0.16749042323015928,
            "ew": 0,
            "pe": "[8, 9]"
           },
           {
            "edges_x": 0.7317151783362104,
            "edges_y": 1.3838512379043064,
            "ew": 0,
            "pe": "[8, 9]"
           },
           {
            "edges_x": 0.9386240666105914,
            "edges_y": 0.16749042323015928,
            "ew": 0,
            "pe": "[8, 10]"
           },
           {
            "edges_x": 1.4631060327124403,
            "edges_y": 1.0706935441557668,
            "ew": 0,
            "pe": "[8, 10]"
           },
           {
            "edges_x": 0.945057166285618,
            "edges_y": 0.31268531247681364,
            "ew": 0,
            "pe": "[9, 1]"
           },
           {
            "edges_x": 1.309705118539681,
            "edges_y": 1.2333238429445694,
            "ew": 0,
            "pe": "[9, 1]"
           },
           {
            "edges_x": 0.945057166285618,
            "edges_y": 0.31268531247681364,
            "ew": 0.5499194847020934,
            "pe": "[9, 2]"
           },
           {
            "edges_x": 1.386662531924401,
            "edges_y": 0.8667713563991586,
            "ew": 0.5499194847020934,
            "pe": "[9, 2]"
           },
           {
            "edges_x": 0.945057166285618,
            "edges_y": 0.31268531247681364,
            "ew": 0,
            "pe": "[9, 3]"
           },
           {
            "edges_x": 1.3685275285467278,
            "edges_y": 0.8176495466741209,
            "ew": 0,
            "pe": "[9, 3]"
           },
           {
            "edges_x": 0.945057166285618,
            "edges_y": 0.31268531247681364,
            "ew": 0,
            "pe": "[9, 4]"
           },
           {
            "edges_x": 1.4427927561934208,
            "edges_y": 1.2038631982693961,
            "ew": 0,
            "pe": "[9, 4]"
           },
           {
            "edges_x": 0.945057166285618,
            "edges_y": 0.31268531247681364,
            "ew": 0,
            "pe": "[9, 5]"
           },
           {
            "edges_x": 0.7043123043381587,
            "edges_y": 0.6810156720540721,
            "ew": 0,
            "pe": "[9, 5]"
           },
           {
            "edges_x": 0.945057166285618,
            "edges_y": 0.31268531247681364,
            "ew": 0,
            "pe": "[9, 6]"
           },
           {
            "edges_x": 0.7837028641159891,
            "edges_y": 1.0795306043433088,
            "ew": 0,
            "pe": "[9, 6]"
           },
           {
            "edges_x": 0.945057166285618,
            "edges_y": 0.31268531247681364,
            "ew": 0,
            "pe": "[9, 7]"
           },
           {
            "edges_x": 1.2357579632920475,
            "edges_y": 0.8687810563972482,
            "ew": 0,
            "pe": "[9, 7]"
           },
           {
            "edges_x": 0.945057166285618,
            "edges_y": 0.31268531247681364,
            "ew": 0,
            "pe": "[9, 8]"
           },
           {
            "edges_x": 1.2196599063134506,
            "edges_y": 0.9260992171687954,
            "ew": 0,
            "pe": "[9, 8]"
           },
           {
            "edges_x": 0.945057166285618,
            "edges_y": 0.31268531247681364,
            "ew": 0,
            "pe": "[9, 9]"
           },
           {
            "edges_x": 0.7317151783362104,
            "edges_y": 1.3838512379043064,
            "ew": 0,
            "pe": "[9, 9]"
           },
           {
            "edges_x": 0.945057166285618,
            "edges_y": 0.31268531247681364,
            "ew": 0,
            "pe": "[9, 10]"
           },
           {
            "edges_x": 1.4631060327124403,
            "edges_y": 1.0706935441557668,
            "ew": 0,
            "pe": "[9, 10]"
           },
           {
            "edges_x": 0.08161451066806324,
            "edges_y": 0.5935102048522007,
            "ew": 0,
            "pe": "[10, 1]"
           },
           {
            "edges_x": 1.309705118539681,
            "edges_y": 1.2333238429445694,
            "ew": 0,
            "pe": "[10, 1]"
           },
           {
            "edges_x": 0.08161451066806324,
            "edges_y": 0.5935102048522007,
            "ew": 0,
            "pe": "[10, 2]"
           },
           {
            "edges_x": 1.386662531924401,
            "edges_y": 0.8667713563991586,
            "ew": 0,
            "pe": "[10, 2]"
           },
           {
            "edges_x": 0.08161451066806324,
            "edges_y": 0.5935102048522007,
            "ew": 0,
            "pe": "[10, 3]"
           },
           {
            "edges_x": 1.3685275285467278,
            "edges_y": 0.8176495466741209,
            "ew": 0,
            "pe": "[10, 3]"
           },
           {
            "edges_x": 0.08161451066806324,
            "edges_y": 0.5935102048522007,
            "ew": 0,
            "pe": "[10, 4]"
           },
           {
            "edges_x": 1.4427927561934208,
            "edges_y": 1.2038631982693961,
            "ew": 0,
            "pe": "[10, 4]"
           },
           {
            "edges_x": 0.08161451066806324,
            "edges_y": 0.5935102048522007,
            "ew": 0.35829307568438,
            "pe": "[10, 5]"
           },
           {
            "edges_x": 0.7043123043381587,
            "edges_y": 0.6810156720540721,
            "ew": 0.35829307568438,
            "pe": "[10, 5]"
           },
           {
            "edges_x": 0.08161451066806324,
            "edges_y": 0.5935102048522007,
            "ew": 0,
            "pe": "[10, 6]"
           },
           {
            "edges_x": 0.7837028641159891,
            "edges_y": 1.0795306043433088,
            "ew": 0,
            "pe": "[10, 6]"
           },
           {
            "edges_x": 0.08161451066806324,
            "edges_y": 0.5935102048522007,
            "ew": 0,
            "pe": "[10, 7]"
           },
           {
            "edges_x": 1.2357579632920475,
            "edges_y": 0.8687810563972482,
            "ew": 0,
            "pe": "[10, 7]"
           },
           {
            "edges_x": 0.08161451066806324,
            "edges_y": 0.5935102048522007,
            "ew": 0,
            "pe": "[10, 8]"
           },
           {
            "edges_x": 1.2196599063134506,
            "edges_y": 0.9260992171687954,
            "ew": 0,
            "pe": "[10, 8]"
           },
           {
            "edges_x": 0.08161451066806324,
            "edges_y": 0.5935102048522007,
            "ew": 0,
            "pe": "[10, 9]"
           },
           {
            "edges_x": 0.7317151783362104,
            "edges_y": 1.3838512379043064,
            "ew": 0,
            "pe": "[10, 9]"
           },
           {
            "edges_x": 0.08161451066806324,
            "edges_y": 0.5935102048522007,
            "ew": 0,
            "pe": "[10, 10]"
           },
           {
            "edges_x": 1.4631060327124403,
            "edges_y": 1.0706935441557668,
            "ew": 0,
            "pe": "[10, 10]"
           }
          ]
         },
         "encoding": {
          "detail": {
           "field": "pe",
           "type": "ordinal"
          },
          "opacity": {
           "field": "ew",
           "legend": null,
           "type": "quantitative"
          },
          "size": {
           "field": "ew",
           "legend": null,
           "scale": {
            "range": [
             0,
             2
            ]
           },
           "type": "ordinal"
          },
          "x": {
           "axis": null,
           "field": "edges_x",
           "type": "quantitative"
          },
          "y": {
           "axis": null,
           "field": "edges_y",
           "type": "quantitative"
          }
         },
         "height": 300,
         "mark": {
          "clip": false,
          "color": "black",
          "type": "line"
         },
         "width": 300
        },
        {
         "data": {
          "values": [
           {
            "size": 0.054772836183816676,
            "x": 1.309705118539681,
            "y": 1.2333238429445694
           },
           {
            "size": 0.21887525238585495,
            "x": 1.386662531924401,
            "y": 0.8667713563991586
           },
           {
            "size": 0.07971275663432063,
            "x": 1.3685275285467278,
            "y": 0.8176495466741209
           },
           {
            "size": 0.06226347333530625,
            "x": 1.4427927561934208,
            "y": 1.2038631982693961
           },
           {
            "size": 0.11985293591149794,
            "x": 0.7043123043381587,
            "y": 0.6810156720540721
           },
           {
            "size": 0.00534247006996211,
            "x": 0.7837028641159891,
            "y": 1.0795306043433088
           },
           {
            "size": 0.15624715331713596,
            "x": 1.2357579632920475,
            "y": 0.8687810563972482
           },
           {
            "size": 0.09740778402357912,
            "x": 1.2196599063134506,
            "y": 0.9260992171687954
           },
           {
            "size": 0.027418538285476798,
            "x": 0.7317151783362104,
            "y": 1.3838512379043064
           },
           {
            "size": 0.17810679985304934,
            "x": 1.4631060327124403,
            "y": 1.0706935441557668
           }
          ]
         },
         "encoding": {
          "size": {
           "field": "size",
           "legend": null,
           "title": null,
           "type": "q"
          },
          "x": {
           "axis": null,
           "field": "x",
           "title": null,
           "type": "quantitative"
          },
          "y": {
           "axis": null,
           "field": "y",
           "title": null,
           "type": "quantitative"
          }
         },
         "height": 300,
         "mark": {
          "color": "red",
          "opacity": 1,
          "type": "circle"
         },
         "width": 300
        },
        {
         "data": {
          "values": [
           {
            "size": 0.1573710501183105,
            "x": 0.27638397864130604,
            "y": 0.6448392345393321
           },
           {
            "size": 0.10876641704269037,
            "x": 0.8128205041470926,
            "y": 0.7634042233100324
           },
           {
            "size": 0.031446037033495924,
            "x": 0.6110310904658998,
            "y": 0.03732045124821726
           },
           {
            "size": 0.1281687312927738,
            "x": 0.9096926352131169,
            "y": 0.27431150444044694
           },
           {
            "size": 0.16745044338569393,
            "x": 0.5701290538268986,
            "y": 0.9403737813276349
           },
           {
            "size": 0.01830946466921283,
            "x": 0.8201658469508322,
            "y": 0.24946196390401898
           },
           {
            "size": 0.1695973141775877,
            "x": 0.17081720906416997,
            "y": 0.9312092254267954
           },
           {
            "size": 0.10603441417366555,
            "x": 0.9386240666105914,
            "y": 0.16749042323015928
           },
           {
            "size": 0.06832543171793712,
            "x": 0.945057166285618,
            "y": 0.31268531247681364
           },
           {
            "size": 0.044530696388632385,
            "x": 0.08161451066806324,
            "y": 0.5935102048522007
           }
          ]
         },
         "encoding": {
          "size": {
           "field": "size",
           "legend": null,
           "title": null,
           "type": "q"
          },
          "x": {
           "axis": null,
           "field": "x",
           "title": null,
           "type": "quantitative"
          },
          "y": {
           "axis": null,
           "field": "y",
           "title": null,
           "type": "quantitative"
          }
         },
         "height": 300,
         "mark": {
          "opacity": 1,
          "type": "circle"
         },
         "width": 300
        }
       ],
       "title": {
        "dy": -25,
        "fontSize": 14,
        "text": ""
       },
       "view": {
        "stroke": null
       }
      },
      "image/png": "[encoded data removed]",
      "image/svg+xml": [
       "<?xml version=\"1.0\" encoding=\"utf-8\"?>\n",
       "<!DOCTYPE svg PUBLIC \"-//W3C//DTD SVG 1.1//EN\" \"http://www.w3.org/Graphics/SVG/1.1/DTD/svg11.dtd\">\n",
       "<svg class=\"marks\" width=\"310\" height=\"310\" viewBox=\"0 0 310 310\" version=\"1.1\" xmlns=\"http://www.w3.org/2000/svg\" xmlns:xlink=\"http://www.w3.org/1999/xlink\"><rect width=\"310\" height=\"310\" fill=\"white\"></rect><g fill=\"none\" stroke-miterlimit=\"10\" transform=\"translate(5,5)\"><g class=\"mark-group role-frame root\" role=\"graphics-object\" aria-roledescription=\"group mark container\"><g transform=\"translate(0,0)\"><path class=\"background\" aria-hidden=\"true\" d=\"M0,0h300v300h-300Z\"></path><g><g class=\"mark-group role-scope layer_0_pathgroup\" role=\"graphics-object\" aria-roledescription=\"group mark container\"><g transform=\"translate(0,0)\"><path class=\"background\" aria-hidden=\"true\" d=\"M0,0h300v300h-300Z\"></path><g><g class=\"mark-line role-mark layer_0_marks\" role=\"graphics-object\" aria-roledescription=\"line mark container\"><path aria-label=\"edges_x: 0.276383978641; edges_y: 0.644839234539; ew: 0; pe: [1, 1]\" role=\"graphics-symbol\" aria-roledescription=\"line mark\" d=\"M51.82199599524488,161.82016402728598L245.56970972619018,35.71631936902083\" stroke=\"black\" stroke-width=\"0\" opacity=\"0.3\"></path></g></g><path class=\"foreground\" aria-hidden=\"true\" d=\"\" display=\"none\"></path></g><g transform=\"translate(0,0)\"><path class=\"background\" aria-hidden=\"true\" d=\"M0,0h300v300h-300Z\"></path><g><g class=\"mark-line role-mark layer_0_marks\" role=\"graphics-object\" aria-roledescription=\"line mark container\"><path aria-label=\"edges_x: 0.276383978641; edges_y: 0.644839234539; ew: 0; pe: [1, 2]\" role=\"graphics-symbol\" aria-roledescription=\"line mark\" d=\"M51.82199599524488,161.82016402728598L259.9992247358252,114.26328077160886\" stroke=\"black\" stroke-width=\"0\" opacity=\"0.3\"></path></g></g><path class=\"foreground\" aria-hidden=\"true\" d=\"\" display=\"none\"></path></g><g transform=\"translate(0,0)\"><path class=\"background\" aria-hidden=\"true\" d=\"M0,0h300v300h-300Z\"></path><g><g class=\"mark-line role-mark layer_0_marks\" role=\"graphics-object\" aria-roledescription=\"line mark container\"><path aria-label=\"edges_x: 0.276383978641; edges_y: 0.644839234539; ew: 0; pe: [1, 3]\" role=\"graphics-symbol\" aria-roledescription=\"line mark\" d=\"M51.82199599524488,161.82016402728598L256.59891160251146,124.78938285554551\" stroke=\"black\" stroke-width=\"0\" opacity=\"0.3\"></path></g></g><path class=\"foreground\" aria-hidden=\"true\" d=\"\" display=\"none\"></path></g><g transform=\"translate(0,0)\"><path class=\"background\" aria-hidden=\"true\" d=\"M0,0h300v300h-300Z\"></path><g><g class=\"mark-line role-mark layer_0_marks\" role=\"graphics-object\" aria-roledescription=\"line mark container\"><path aria-label=\"edges_x: 0.276383978641; edges_y: 0.644839234539; ew: 0; pe: [1, 4]\" role=\"graphics-symbol\" aria-roledescription=\"line mark\" d=\"M51.82199599524488,161.82016402728598L270.5236417862664,42.02931465655797\" stroke=\"black\" stroke-width=\"0\" opacity=\"0.3\"></path></g></g><path class=\"foreground\" aria-hidden=\"true\" d=\"\" display=\"none\"></path></g><g transform=\"translate(0,0)\"><path class=\"background\" aria-hidden=\"true\" d=\"M0,0h300v300h-300Z\"></path><g><g class=\"mark-line role-mark layer_0_marks\" role=\"graphics-object\" aria-roledescription=\"line mark container\"><path aria-label=\"edges_x: 0.276383978641; edges_y: 0.644839234539; ew: 0.44122383252818037; pe: [1, 5]\" role=\"graphics-symbol\" aria-roledescription=\"line mark\" d=\"M51.82199599524488,161.82016402728598L132.05855706340475,154.0680702741274\" stroke=\"black\" stroke-width=\"1.1578947368421053\" opacity=\"0.5206119162640902\"></path></g></g><path class=\"foreground\" aria-hidden=\"true\" d=\"\" display=\"none\"></path></g><g transform=\"translate(0,0)\"><path class=\"background\" aria-hidden=\"true\" d=\"M0,0h300v300h-300Z\"></path><g><g class=\"mark-line role-mark layer_0_marks\" role=\"graphics-object\" aria-roledescription=\"line mark container\"><path aria-label=\"edges_x: 0.276383978641; edges_y: 0.644839234539; ew: 0; pe: [1, 6]\" role=\"graphics-symbol\" aria-roledescription=\"line mark\" d=\"M51.82199599524488,161.82016402728598L146.94428702174795,68.67201335500525\" stroke=\"black\" stroke-width=\"0\" opacity=\"0.3\"></path></g></g><path class=\"foreground\" aria-hidden=\"true\" d=\"\" display=\"none\"></path></g><g transform=\"translate(0,0)\"><path class=\"background\" aria-hidden=\"true\" d=\"M0,0h300v300h-300Z\"></path><g><g class=\"mark-line role-mark layer_0_marks\" role=\"graphics-object\" aria-roledescription=\"line mark container\"><path aria-label=\"edges_x: 0.276383978641; edges_y: 0.644839234539; ew: 0.826086956521739; pe: [1, 7]\" role=\"graphics-symbol\" aria-roledescription=\"line mark\" d=\"M51.82199599524488,161.82016402728598L231.7046181172589,113.83263077201822\" stroke=\"black\" stroke-width=\"1.789473684210526\" opacity=\"0.7130434782608696\"></path></g></g><path class=\"foreground\" aria-hidden=\"true\" d=\"\" display=\"none\"></path></g><g transform=\"translate(0,0)\"><path class=\"background\" aria-hidden=\"true\" d=\"M0,0h300v300h-300Z\"></path><g><g class=\"mark-line role-mark layer_0_marks\" role=\"graphics-object\" aria-roledescription=\"line mark container\"><path aria-label=\"edges_x: 0.276383978641; edges_y: 0.644839234539; ew: 0; pe: [1, 8]\" role=\"graphics-symbol\" aria-roledescription=\"line mark\" d=\"M51.82199599524488,161.82016402728598L228.68623243377198,101.55016774954383\" stroke=\"black\" stroke-width=\"0\" opacity=\"0.3\"></path></g></g><path class=\"foreground\" aria-hidden=\"true\" d=\"\" display=\"none\"></path></g><g transform=\"translate(0,0)\"><path class=\"background\" aria-hidden=\"true\" d=\"M0,0h300v300h-300Z\"></path><g><g class=\"mark-line role-mark layer_0_marks\" role=\"graphics-object\" aria-roledescription=\"line mark container\"><path aria-label=\"edges_x: 0.276383978641; edges_y: 0.644839234539; ew: 0; pe: [1, 9]\" role=\"graphics-symbol\" aria-roledescription=\"line mark\" d=\"M51.82199599524488,161.82016402728598L137.19659593803942,3.4604490205057625\" stroke=\"black\" stroke-width=\"0\" opacity=\"0.3\"></path></g></g><path class=\"foreground\" aria-hidden=\"true\" d=\"\" display=\"none\"></path></g><g transform=\"translate(0,0)\"><path class=\"background\" aria-hidden=\"true\" d=\"M0,0h300v300h-300Z\"></path><g><g class=\"mark-line role-mark layer_0_marks\" role=\"graphics-object\" aria-roledescription=\"line mark container\"><path aria-label=\"edges_x: 0.276383978641; edges_y: 0.644839234539; ew: 0; pe: [1, 10]\" role=\"graphics-symbol\" aria-roledescription=\"line mark\" d=\"M51.82199599524488,161.82016402728598L274.33238113358254,70.56566910947855\" stroke=\"black\" stroke-width=\"0\" opacity=\"0.3\"></path></g></g><path class=\"foreground\" aria-hidden=\"true\" d=\"\" display=\"none\"></path></g><g transform=\"translate(0,0)\"><path class=\"background\" aria-hidden=\"true\" d=\"M0,0h300v300h-300Z\"></path><g><g class=\"mark-line role-mark layer_0_marks\" role=\"graphics-object\" aria-roledescription=\"line mark container\"><path aria-label=\"edges_x: 0.812820504147; edges_y: 0.76340422331; ew: 0; pe: [2, 1]\" role=\"graphics-symbol\" aria-roledescription=\"line mark\" d=\"M152.40384452757985,136.41338071927876L245.56970972619018,35.71631936902083\" stroke=\"black\" stroke-width=\"0\" opacity=\"0.3\"></path></g></g><path class=\"foreground\" aria-hidden=\"true\" d=\"\" display=\"none\"></path></g><g transform=\"translate(0,0)\"><path class=\"background\" aria-hidden=\"true\" d=\"M0,0h300v300h-300Z\"></path><g><g class=\"mark-line role-mark layer_0_marks\" role=\"graphics-object\" aria-roledescription=\"line mark container\"><path aria-label=\"edges_x: 0.812820504147; edges_y: 0.76340422331; ew: 0; pe: [2, 2]\" role=\"graphics-symbol\" aria-roledescription=\"line mark\" d=\"M152.40384452757985,136.41338071927876L259.9992247358252,114.26328077160886\" stroke=\"black\" stroke-width=\"0\" opacity=\"0.3\"></path></g></g><path class=\"foreground\" aria-hidden=\"true\" d=\"\" display=\"none\"></path></g><g transform=\"translate(0,0)\"><path class=\"background\" aria-hidden=\"true\" d=\"M0,0h300v300h-300Z\"></path><g><g class=\"mark-line role-mark layer_0_marks\" role=\"graphics-object\" aria-roledescription=\"line mark container\"><path aria-label=\"edges_x: 0.812820504147; edges_y: 0.76340422331; ew: 0; pe: [2, 3]\" role=\"graphics-symbol\" aria-roledescription=\"line mark\" d=\"M152.40384452757985,136.41338071927876L256.59891160251146,124.78938285554551\" stroke=\"black\" stroke-width=\"0\" opacity=\"0.3\"></path></g></g><path class=\"foreground\" aria-hidden=\"true\" d=\"\" display=\"none\"></path></g><g transform=\"translate(0,0)\"><path class=\"background\" aria-hidden=\"true\" d=\"M0,0h300v300h-300Z\"></path><g><g class=\"mark-line role-mark layer_0_marks\" role=\"graphics-object\" aria-roledescription=\"line mark container\"><path aria-label=\"edges_x: 0.812820504147; edges_y: 0.76340422331; ew: 0; pe: [2, 4]\" role=\"graphics-symbol\" aria-roledescription=\"line mark\" d=\"M152.40384452757985,136.41338071927876L270.5236417862664,42.02931465655797\" stroke=\"black\" stroke-width=\"0\" opacity=\"0.3\"></path></g></g><path class=\"foreground\" aria-hidden=\"true\" d=\"\" display=\"none\"></path></g><g transform=\"translate(0,0)\"><path class=\"background\" aria-hidden=\"true\" d=\"M0,0h300v300h-300Z\"></path><g><g class=\"mark-line role-mark layer_0_marks\" role=\"graphics-object\" aria-roledescription=\"line mark container\"><path aria-label=\"edges_x: 0.704312304338; edges_y: 0.681015672054; ew: 0; pe: [2, 5]\" role=\"graphics-symbol\" aria-roledescription=\"line mark\" d=\"M132.05855706340475,154.0680702741274L152.40384452757985,136.41338071927876\" stroke=\"black\" stroke-width=\"0\" opacity=\"0.3\"></path></g></g><path class=\"foreground\" aria-hidden=\"true\" d=\"\" display=\"none\"></path></g><g transform=\"translate(0,0)\"><path class=\"background\" aria-hidden=\"true\" d=\"M0,0h300v300h-300Z\"></path><g><g class=\"mark-line role-mark layer_0_marks\" role=\"graphics-object\" aria-roledescription=\"line mark container\"><path aria-label=\"edges_x: 0.783702864116; edges_y: 1.07953060434; ew: 0; pe: [2, 6]\" role=\"graphics-symbol\" aria-roledescription=\"line mark\" d=\"M146.94428702174795,68.67201335500525L152.40384452757985,136.41338071927876\" stroke=\"black\" stroke-width=\"0\" opacity=\"0.3\"></path></g></g><path class=\"foreground\" aria-hidden=\"true\" d=\"\" display=\"none\"></path></g><g transform=\"translate(0,0)\"><path class=\"background\" aria-hidden=\"true\" d=\"M0,0h300v300h-300Z\"></path><g><g class=\"mark-line role-mark layer_0_marks\" role=\"graphics-object\" aria-roledescription=\"line mark container\"><path aria-label=\"edges_x: 0.812820504147; edges_y: 0.76340422331; ew: 0; pe: [2, 7]\" role=\"graphics-symbol\" aria-roledescription=\"line mark\" d=\"M152.40384452757985,136.41338071927876L231.7046181172589,113.83263077201822\" stroke=\"black\" stroke-width=\"0\" opacity=\"0.3\"></path></g></g><path class=\"foreground\" aria-hidden=\"true\" d=\"\" display=\"none\"></path></g><g transform=\"translate(0,0)\"><path class=\"background\" aria-hidden=\"true\" d=\"M0,0h300v300h-300Z\"></path><g><g class=\"mark-line role-mark layer_0_marks\" role=\"graphics-object\" aria-roledescription=\"line mark container\"><path aria-label=\"edges_x: 0.812820504147; edges_y: 0.76340422331; ew: 0; pe: [2, 8]\" role=\"graphics-symbol\" aria-roledescription=\"line mark\" d=\"M152.40384452757985,136.41338071927876L228.68623243377198,101.55016774954383\" stroke=\"black\" stroke-width=\"0\" opacity=\"0.3\"></path></g></g><path class=\"foreground\" aria-hidden=\"true\" d=\"\" display=\"none\"></path></g><g transform=\"translate(0,0)\"><path class=\"background\" aria-hidden=\"true\" d=\"M0,0h300v300h-300Z\"></path><g><g class=\"mark-line role-mark layer_0_marks\" role=\"graphics-object\" aria-roledescription=\"line mark container\"><path aria-label=\"edges_x: 0.731715178336; edges_y: 1.3838512379; ew: 0; pe: [2, 9]\" role=\"graphics-symbol\" aria-roledescription=\"line mark\" d=\"M137.19659593803942,3.4604490205057625L152.40384452757985,136.41338071927876\" stroke=\"black\" stroke-width=\"0\" opacity=\"0.3\"></path></g></g><path class=\"foreground\" aria-hidden=\"true\" d=\"\" display=\"none\"></path></g><g transform=\"translate(0,0)\"><path class=\"background\" aria-hidden=\"true\" d=\"M0,0h300v300h-300Z\"></path><g><g class=\"mark-line role-mark layer_0_marks\" role=\"graphics-object\" aria-roledescription=\"line mark container\"><path aria-label=\"edges_x: 0.812820504147; edges_y: 0.76340422331; ew: 0.8760064412238324; pe: [2, 10]\" role=\"graphics-symbol\" aria-roledescription=\"line mark\" d=\"M152.40384452757985,136.41338071927876L274.33238113358254,70.56566910947855\" stroke=\"black\" stroke-width=\"1.894736842105263\" opacity=\"0.7380032206119163\"></path></g></g><path class=\"foreground\" aria-hidden=\"true\" d=\"\" display=\"none\"></path></g><g transform=\"translate(0,0)\"><path class=\"background\" aria-hidden=\"true\" d=\"M0,0h300v300h-300Z\"></path><g><g class=\"mark-line role-mark layer_0_marks\" role=\"graphics-object\" aria-roledescription=\"line mark container\"><path aria-label=\"edges_x: 0.611031090466; edges_y: 0.0373204512482; ew: 0; pe: [3, 1]\" role=\"graphics-symbol\" aria-roledescription=\"line mark\" d=\"M114.5683294623562,292.00276044681056L245.56970972619018,35.71631936902083\" stroke=\"black\" stroke-width=\"0\" opacity=\"0.3\"></path></g></g><path class=\"foreground\" aria-hidden=\"true\" d=\"\" display=\"none\"></path></g><g transform=\"translate(0,0)\"><path class=\"background\" aria-hidden=\"true\" d=\"M0,0h300v300h-300Z\"></path><g><g class=\"mark-line role-mark layer_0_marks\" role=\"graphics-object\" aria-roledescription=\"line mark container\"><path aria-label=\"edges_x: 0.611031090466; edges_y: 0.0373204512482; ew: 0; pe: [3, 2]\" role=\"graphics-symbol\" aria-roledescription=\"line mark\" d=\"M114.5683294623562,292.00276044681056L259.9992247358252,114.26328077160886\" stroke=\"black\" stroke-width=\"0\" opacity=\"0.3\"></path></g></g><path class=\"foreground\" aria-hidden=\"true\" d=\"\" display=\"none\"></path></g><g transform=\"translate(0,0)\"><path class=\"background\" aria-hidden=\"true\" d=\"M0,0h300v300h-300Z\"></path><g><g class=\"mark-line role-mark layer_0_marks\" role=\"graphics-object\" aria-roledescription=\"line mark container\"><path aria-label=\"edges_x: 0.611031090466; edges_y: 0.0373204512482; ew: 0; pe: [3, 3]\" role=\"graphics-symbol\" aria-roledescription=\"line mark\" d=\"M114.5683294623562,292.00276044681056L256.59891160251146,124.78938285554551\" stroke=\"black\" stroke-width=\"0\" opacity=\"0.3\"></path></g></g><path class=\"foreground\" aria-hidden=\"true\" d=\"\" display=\"none\"></path></g><g transform=\"translate(0,0)\"><path class=\"background\" aria-hidden=\"true\" d=\"M0,0h300v300h-300Z\"></path><g><g class=\"mark-line role-mark layer_0_marks\" role=\"graphics-object\" aria-roledescription=\"line mark container\"><path aria-label=\"edges_x: 0.611031090466; edges_y: 0.0373204512482; ew: 0; pe: [3, 4]\" role=\"graphics-symbol\" aria-roledescription=\"line mark\" d=\"M114.5683294623562,292.00276044681056L270.5236417862664,42.02931465655797\" stroke=\"black\" stroke-width=\"0\" opacity=\"0.3\"></path></g></g><path class=\"foreground\" aria-hidden=\"true\" d=\"\" display=\"none\"></path></g><g transform=\"translate(0,0)\"><path class=\"background\" aria-hidden=\"true\" d=\"M0,0h300v300h-300Z\"></path><g><g class=\"mark-line role-mark layer_0_marks\" role=\"graphics-object\" aria-roledescription=\"line mark container\"><path aria-label=\"edges_x: 0.611031090466; edges_y: 0.0373204512482; ew: 0; pe: [3, 5]\" role=\"graphics-symbol\" aria-roledescription=\"line mark\" d=\"M114.5683294623562,292.00276044681056L132.05855706340475,154.0680702741274\" stroke=\"black\" stroke-width=\"0\" opacity=\"0.3\"></path></g></g><path class=\"foreground\" aria-hidden=\"true\" d=\"\" display=\"none\"></path></g><g transform=\"translate(0,0)\"><path class=\"background\" aria-hidden=\"true\" d=\"M0,0h300v300h-300Z\"></path><g><g class=\"mark-line role-mark layer_0_marks\" role=\"graphics-object\" aria-roledescription=\"line mark container\"><path aria-label=\"edges_x: 0.611031090466; edges_y: 0.0373204512482; ew: 0; pe: [3, 6]\" role=\"graphics-symbol\" aria-roledescription=\"line mark\" d=\"M114.5683294623562,292.00276044681056L146.94428702174795,68.67201335500525\" stroke=\"black\" stroke-width=\"0\" opacity=\"0.3\"></path></g></g><path class=\"foreground\" aria-hidden=\"true\" d=\"\" display=\"none\"></path></g><g transform=\"translate(0,0)\"><path class=\"background\" aria-hidden=\"true\" d=\"M0,0h300v300h-300Z\"></path><g><g class=\"mark-line role-mark layer_0_marks\" role=\"graphics-object\" aria-roledescription=\"line mark container\"><path aria-label=\"edges_x: 0.611031090466; edges_y: 0.0373204512482; ew: 0.25281803542673104; pe: [3, 7]\" role=\"graphics-symbol\" aria-roledescription=\"line mark\" d=\"M114.5683294623562,292.00276044681056L231.7046181172589,113.83263077201822\" stroke=\"black\" stroke-width=\"0.8421052631578947\" opacity=\"0.4264090177133655\"></path></g></g><path class=\"foreground\" aria-hidden=\"true\" d=\"\" display=\"none\"></path></g><g transform=\"translate(0,0)\"><path class=\"background\" aria-hidden=\"true\" d=\"M0,0h300v300h-300Z\"></path><g><g class=\"mark-line role-mark layer_0_marks\" role=\"graphics-object\" aria-roledescription=\"line mark container\"><path aria-label=\"edges_x: 0.611031090466; edges_y: 0.0373204512482; ew: 0; pe: [3, 8]\" role=\"graphics-symbol\" aria-roledescription=\"line mark\" d=\"M114.5683294623562,292.00276044681056L228.68623243377198,101.55016774954383\" stroke=\"black\" stroke-width=\"0\" opacity=\"0.3\"></path></g></g><path class=\"foreground\" aria-hidden=\"true\" d=\"\" display=\"none\"></path></g><g transform=\"translate(0,0)\"><path class=\"background\" aria-hidden=\"true\" d=\"M0,0h300v300h-300Z\"></path><g><g class=\"mark-line role-mark layer_0_marks\" role=\"graphics-object\" aria-roledescription=\"line mark container\"><path aria-label=\"edges_x: 0.611031090466; edges_y: 0.0373204512482; ew: 0; pe: [3, 9]\" role=\"graphics-symbol\" aria-roledescription=\"line mark\" d=\"M114.5683294623562,292.00276044681056L137.19659593803942,3.4604490205057625\" stroke=\"black\" stroke-width=\"0\" opacity=\"0.3\"></path></g></g><path class=\"foreground\" aria-hidden=\"true\" d=\"\" display=\"none\"></path></g><g transform=\"translate(0,0)\"><path class=\"background\" aria-hidden=\"true\" d=\"M0,0h300v300h-300Z\"></path><g><g class=\"mark-line role-mark layer_0_marks\" role=\"graphics-object\" aria-roledescription=\"line mark container\"><path aria-label=\"edges_x: 0.611031090466; edges_y: 0.0373204512482; ew: 0; pe: [3, 10]\" role=\"graphics-symbol\" aria-roledescription=\"line mark\" d=\"M114.5683294623562,292.00276044681056L274.33238113358254,70.56566910947855\" stroke=\"black\" stroke-width=\"0\" opacity=\"0.3\"></path></g></g><path class=\"foreground\" aria-hidden=\"true\" d=\"\" display=\"none\"></path></g><g transform=\"translate(0,0)\"><path class=\"background\" aria-hidden=\"true\" d=\"M0,0h300v300h-300Z\"></path><g><g class=\"mark-line role-mark layer_0_marks\" role=\"graphics-object\" aria-roledescription=\"line mark container\"><path aria-label=\"edges_x: 0.909692635213; edges_y: 0.27431150444; ew: 0; pe: [4, 1]\" role=\"graphics-symbol\" aria-roledescription=\"line mark\" d=\"M170.56736910245942,241.21896333418994L245.56970972619018,35.71631936902083\" stroke=\"black\" stroke-width=\"0\" opacity=\"0.3\"></path></g></g><path class=\"foreground\" aria-hidden=\"true\" d=\"\" display=\"none\"></path></g><g transform=\"translate(0,0)\"><path class=\"background\" aria-hidden=\"true\" d=\"M0,0h300v300h-300Z\"></path><g><g class=\"mark-line role-mark layer_0_marks\" role=\"graphics-object\" aria-roledescription=\"line mark container\"><path aria-label=\"edges_x: 0.909692635213; edges_y: 0.27431150444; ew: 1; pe: [4, 2]\" role=\"graphics-symbol\" aria-roledescription=\"line mark\" d=\"M170.56736910245942,241.21896333418994L259.9992247358252,114.26328077160886\" stroke=\"black\" stroke-width=\"2\" opacity=\"0.8\"></path></g></g><path class=\"foreground\" aria-hidden=\"true\" d=\"\" display=\"none\"></path></g><g transform=\"translate(0,0)\"><path class=\"background\" aria-hidden=\"true\" d=\"M0,0h300v300h-300Z\"></path><g><g class=\"mark-line role-mark layer_0_marks\" role=\"graphics-object\" aria-roledescription=\"line mark container\"><path aria-label=\"edges_x: 0.909692635213; edges_y: 0.27431150444; ew: 0; pe: [4, 3]\" role=\"graphics-symbol\" aria-roledescription=\"line mark\" d=\"M170.56736910245942,241.21896333418994L256.59891160251146,124.78938285554551\" stroke=\"black\" stroke-width=\"0\" opacity=\"0.3\"></path></g></g><path class=\"foreground\" aria-hidden=\"true\" d=\"\" display=\"none\"></path></g><g transform=\"translate(0,0)\"><path class=\"background\" aria-hidden=\"true\" d=\"M0,0h300v300h-300Z\"></path><g><g class=\"mark-line role-mark layer_0_marks\" role=\"graphics-object\" aria-roledescription=\"line mark container\"><path aria-label=\"edges_x: 0.909692635213; edges_y: 0.27431150444; ew: 0; pe: [4, 4]\" role=\"graphics-symbol\" aria-roledescription=\"line mark\" d=\"M170.56736910245942,241.21896333418994L270.5236417862664,42.02931465655797\" stroke=\"black\" stroke-width=\"0\" opacity=\"0.3\"></path></g></g><path class=\"foreground\" aria-hidden=\"true\" d=\"\" display=\"none\"></path></g><g transform=\"translate(0,0)\"><path class=\"background\" aria-hidden=\"true\" d=\"M0,0h300v300h-300Z\"></path><g><g class=\"mark-line role-mark layer_0_marks\" role=\"graphics-object\" aria-roledescription=\"line mark container\"><path aria-label=\"edges_x: 0.704312304338; edges_y: 0.681015672054; ew: 0; pe: [4, 5]\" role=\"graphics-symbol\" aria-roledescription=\"line mark\" d=\"M132.05855706340475,154.0680702741274L170.56736910245942,241.21896333418994\" stroke=\"black\" stroke-width=\"0\" opacity=\"0.3\"></path></g></g><path class=\"foreground\" aria-hidden=\"true\" d=\"\" display=\"none\"></path></g><g transform=\"translate(0,0)\"><path class=\"background\" aria-hidden=\"true\" d=\"M0,0h300v300h-300Z\"></path><g><g class=\"mark-line role-mark layer_0_marks\" role=\"graphics-object\" aria-roledescription=\"line mark container\"><path aria-label=\"edges_x: 0.783702864116; edges_y: 1.07953060434; ew: 0; pe: [4, 6]\" role=\"graphics-symbol\" aria-roledescription=\"line mark\" d=\"M146.94428702174795,68.67201335500525L170.56736910245942,241.21896333418994\" stroke=\"black\" stroke-width=\"0\" opacity=\"0.3\"></path></g></g><path class=\"foreground\" aria-hidden=\"true\" d=\"\" display=\"none\"></path></g><g transform=\"translate(0,0)\"><path class=\"background\" aria-hidden=\"true\" d=\"M0,0h300v300h-300Z\"></path><g><g class=\"mark-line role-mark layer_0_marks\" role=\"graphics-object\" aria-roledescription=\"line mark container\"><path aria-label=\"edges_x: 0.909692635213; edges_y: 0.27431150444; ew: 0.03140096618357488; pe: [4, 7]\" role=\"graphics-symbol\" aria-roledescription=\"line mark\" d=\"M170.56736910245942,241.21896333418994L231.7046181172589,113.83263077201822\" stroke=\"black\" stroke-width=\"0.10526315789473684\" opacity=\"0.3157004830917874\"></path></g></g><path class=\"foreground\" aria-hidden=\"true\" d=\"\" display=\"none\"></path></g><g transform=\"translate(0,0)\"><path class=\"background\" aria-hidden=\"true\" d=\"M0,0h300v300h-300Z\"></path><g><g class=\"mark-line role-mark layer_0_marks\" role=\"graphics-object\" aria-roledescription=\"line mark container\"><path aria-label=\"edges_x: 0.909692635213; edges_y: 0.27431150444; ew: 0; pe: [4, 8]\" role=\"graphics-symbol\" aria-roledescription=\"line mark\" d=\"M170.56736910245942,241.21896333418994L228.68623243377198,101.55016774954383\" stroke=\"black\" stroke-width=\"0\" opacity=\"0.3\"></path></g></g><path class=\"foreground\" aria-hidden=\"true\" d=\"\" display=\"none\"></path></g><g transform=\"translate(0,0)\"><path class=\"background\" aria-hidden=\"true\" d=\"M0,0h300v300h-300Z\"></path><g><g class=\"mark-line role-mark layer_0_marks\" role=\"graphics-object\" aria-roledescription=\"line mark container\"><path aria-label=\"edges_x: 0.731715178336; edges_y: 1.3838512379; ew: 0; pe: [4, 9]\" role=\"graphics-symbol\" aria-roledescription=\"line mark\" d=\"M137.19659593803942,3.4604490205057625L170.56736910245942,241.21896333418994\" stroke=\"black\" stroke-width=\"0\" opacity=\"0.3\"></path></g></g><path class=\"foreground\" aria-hidden=\"true\" d=\"\" display=\"none\"></path></g><g transform=\"translate(0,0)\"><path class=\"background\" aria-hidden=\"true\" d=\"M0,0h300v300h-300Z\"></path><g><g class=\"mark-line role-mark layer_0_marks\" role=\"graphics-object\" aria-roledescription=\"line mark container\"><path aria-label=\"edges_x: 0.909692635213; edges_y: 0.27431150444; ew: 0; pe: [4, 10]\" role=\"graphics-symbol\" aria-roledescription=\"line mark\" d=\"M170.56736910245942,241.21896333418994L274.33238113358254,70.56566910947855\" stroke=\"black\" stroke-width=\"0\" opacity=\"0.3\"></path></g></g><path class=\"foreground\" aria-hidden=\"true\" d=\"\" display=\"none\"></path></g><g transform=\"translate(0,0)\"><path class=\"background\" aria-hidden=\"true\" d=\"M0,0h300v300h-300Z\"></path><g><g class=\"mark-line role-mark layer_0_marks\" role=\"graphics-object\" aria-roledescription=\"line mark container\"><path aria-label=\"edges_x: 0.570129053827; edges_y: 0.940373781328; ew: 0.2882447665056361; pe: [5, 1]\" role=\"graphics-symbol\" aria-roledescription=\"line mark\" d=\"M106.89919759254349,98.49133257264964L245.56970972619018,35.71631936902083\" stroke=\"black\" stroke-width=\"0.9473684210526315\" opacity=\"0.44412238325281805\"></path></g></g><path class=\"foreground\" aria-hidden=\"true\" d=\"\" display=\"none\"></path></g><g transform=\"translate(0,0)\"><path class=\"background\" aria-hidden=\"true\" d=\"M0,0h300v300h-300Z\"></path><g><g class=\"mark-line role-mark layer_0_marks\" role=\"graphics-object\" aria-roledescription=\"line mark container\"><path aria-label=\"edges_x: 0.570129053827; edges_y: 0.940373781328; ew: 0; pe: [5, 2]\" role=\"graphics-symbol\" aria-roledescription=\"line mark\" d=\"M106.89919759254349,98.49133257264964L259.9992247358252,114.26328077160886\" stroke=\"black\" stroke-width=\"0\" opacity=\"0.3\"></path></g></g><path class=\"foreground\" aria-hidden=\"true\" d=\"\" display=\"none\"></path></g><g transform=\"translate(0,0)\"><path class=\"background\" aria-hidden=\"true\" d=\"M0,0h300v300h-300Z\"></path><g><g class=\"mark-line role-mark layer_0_marks\" role=\"graphics-object\" aria-roledescription=\"line mark container\"><path aria-label=\"edges_x: 0.570129053827; edges_y: 0.940373781328; ew: 0; pe: [5, 3]\" role=\"graphics-symbol\" aria-roledescription=\"line mark\" d=\"M106.89919759254349,98.49133257264964L256.59891160251146,124.78938285554551\" stroke=\"black\" stroke-width=\"0\" opacity=\"0.3\"></path></g></g><path class=\"foreground\" aria-hidden=\"true\" d=\"\" display=\"none\"></path></g><g transform=\"translate(0,0)\"><path class=\"background\" aria-hidden=\"true\" d=\"M0,0h300v300h-300Z\"></path><g><g class=\"mark-line role-mark layer_0_marks\" role=\"graphics-object\" aria-roledescription=\"line mark container\"><path aria-label=\"edges_x: 0.570129053827; edges_y: 0.940373781328; ew: 0.501610305958132; pe: [5, 4]\" role=\"graphics-symbol\" aria-roledescription=\"line mark\" d=\"M106.89919759254349,98.49133257264964L270.5236417862664,42.02931465655797\" stroke=\"black\" stroke-width=\"1.263157894736842\" opacity=\"0.5508051529790661\"></path></g></g><path class=\"foreground\" aria-hidden=\"true\" d=\"\" display=\"none\"></path></g><g transform=\"translate(0,0)\"><path class=\"background\" aria-hidden=\"true\" d=\"M0,0h300v300h-300Z\"></path><g><g class=\"mark-line role-mark layer_0_marks\" role=\"graphics-object\" aria-roledescription=\"line mark container\"><path aria-label=\"edges_x: 0.570129053827; edges_y: 0.940373781328; ew: 0; pe: [5, 5]\" role=\"graphics-symbol\" aria-roledescription=\"line mark\" d=\"M106.89919759254349,98.49133257264964L132.05855706340475,154.0680702741274\" stroke=\"black\" stroke-width=\"0\" opacity=\"0.3\"></path></g></g><path class=\"foreground\" aria-hidden=\"true\" d=\"\" display=\"none\"></path></g><g transform=\"translate(0,0)\"><path class=\"background\" aria-hidden=\"true\" d=\"M0,0h300v300h-300Z\"></path><g><g class=\"mark-line role-mark layer_0_marks\" role=\"graphics-object\" aria-roledescription=\"line mark container\"><path aria-label=\"edges_x: 0.570129053827; edges_y: 0.940373781328; ew: 0; pe: [5, 6]\" role=\"graphics-symbol\" aria-roledescription=\"line mark\" d=\"M106.89919759254349,98.49133257264964L146.94428702174795,68.67201335500525\" stroke=\"black\" stroke-width=\"0\" opacity=\"0.3\"></path></g></g><path class=\"foreground\" aria-hidden=\"true\" d=\"\" display=\"none\"></path></g><g transform=\"translate(0,0)\"><path class=\"background\" aria-hidden=\"true\" d=\"M0,0h300v300h-300Z\"></path><g><g class=\"mark-line role-mark layer_0_marks\" role=\"graphics-object\" aria-roledescription=\"line mark container\"><path aria-label=\"edges_x: 0.570129053827; edges_y: 0.940373781328; ew: 0; pe: [5, 7]\" role=\"graphics-symbol\" aria-roledescription=\"line mark\" d=\"M106.89919759254349,98.49133257264964L231.7046181172589,113.83263077201822\" stroke=\"black\" stroke-width=\"0\" opacity=\"0.3\"></path></g></g><path class=\"foreground\" aria-hidden=\"true\" d=\"\" display=\"none\"></path></g><g transform=\"translate(0,0)\"><path class=\"background\" aria-hidden=\"true\" d=\"M0,0h300v300h-300Z\"></path><g><g class=\"mark-line role-mark layer_0_marks\" role=\"graphics-object\" aria-roledescription=\"line mark container\"><path aria-label=\"edges_x: 0.570129053827; edges_y: 0.940373781328; ew: 0; pe: [5, 8]\" role=\"graphics-symbol\" aria-roledescription=\"line mark\" d=\"M106.89919759254349,98.49133257264964L228.68623243377198,101.55016774954383\" stroke=\"black\" stroke-width=\"0\" opacity=\"0.3\"></path></g></g><path class=\"foreground\" aria-hidden=\"true\" d=\"\" display=\"none\"></path></g><g transform=\"translate(0,0)\"><path class=\"background\" aria-hidden=\"true\" d=\"M0,0h300v300h-300Z\"></path><g><g class=\"mark-line role-mark layer_0_marks\" role=\"graphics-object\" aria-roledescription=\"line mark container\"><path aria-label=\"edges_x: 0.570129053827; edges_y: 0.940373781328; ew: 0; pe: [5, 9]\" role=\"graphics-symbol\" aria-roledescription=\"line mark\" d=\"M106.89919759254349,98.49133257264964L137.19659593803942,3.4604490205057625\" stroke=\"black\" stroke-width=\"0\" opacity=\"0.3\"></path></g></g><path class=\"foreground\" aria-hidden=\"true\" d=\"\" display=\"none\"></path></g><g transform=\"translate(0,0)\"><path class=\"background\" aria-hidden=\"true\" d=\"M0,0h300v300h-300Z\"></path><g><g class=\"mark-line role-mark layer_0_marks\" role=\"graphics-object\" aria-roledescription=\"line mark container\"><path aria-label=\"edges_x: 0.570129053827; edges_y: 0.940373781328; ew: 0.5579710144927537; pe: [5, 10]\" role=\"graphics-symbol\" aria-roledescription=\"line mark\" d=\"M106.89919759254349,98.49133257264964L274.33238113358254,70.56566910947855\" stroke=\"black\" stroke-width=\"1.4736842105263157\" opacity=\"0.5789855072463769\"></path></g></g><path class=\"foreground\" aria-hidden=\"true\" d=\"\" display=\"none\"></path></g><g transform=\"translate(0,0)\"><path class=\"background\" aria-hidden=\"true\" d=\"M0,0h300v300h-300Z\"></path><g><g class=\"mark-line role-mark layer_0_marks\" role=\"graphics-object\" aria-roledescription=\"line mark container\"><path aria-label=\"edges_x: 0.820165846951; edges_y: 0.249461963904; ew: 0; pe: [6, 1]\" role=\"graphics-symbol\" aria-roledescription=\"line mark\" d=\"M153.781096303281,246.54386487771023L245.56970972619018,35.71631936902083\" stroke=\"black\" stroke-width=\"0\" opacity=\"0.3\"></path></g></g><path class=\"foreground\" aria-hidden=\"true\" d=\"\" display=\"none\"></path></g><g transform=\"translate(0,0)\"><path class=\"background\" aria-hidden=\"true\" d=\"M0,0h300v300h-300Z\"></path><g><g class=\"mark-line role-mark layer_0_marks\" role=\"graphics-object\" aria-roledescription=\"line mark container\"><path aria-label=\"edges_x: 0.820165846951; edges_y: 0.249461963904; ew: 0; pe: [6, 2]\" role=\"graphics-symbol\" aria-roledescription=\"line mark\" d=\"M153.781096303281,246.54386487771023L259.9992247358252,114.26328077160886\" stroke=\"black\" stroke-width=\"0\" opacity=\"0.3\"></path></g></g><path class=\"foreground\" aria-hidden=\"true\" d=\"\" display=\"none\"></path></g><g transform=\"translate(0,0)\"><path class=\"background\" aria-hidden=\"true\" d=\"M0,0h300v300h-300Z\"></path><g><g class=\"mark-line role-mark layer_0_marks\" role=\"graphics-object\" aria-roledescription=\"line mark container\"><path aria-label=\"edges_x: 0.820165846951; edges_y: 0.249461963904; ew: 0; pe: [6, 3]\" role=\"graphics-symbol\" aria-roledescription=\"line mark\" d=\"M153.781096303281,246.54386487771023L256.59891160251146,124.78938285554551\" stroke=\"black\" stroke-width=\"0\" opacity=\"0.3\"></path></g></g><path class=\"foreground\" aria-hidden=\"true\" d=\"\" display=\"none\"></path></g><g transform=\"translate(0,0)\"><path class=\"background\" aria-hidden=\"true\" d=\"M0,0h300v300h-300Z\"></path><g><g class=\"mark-line role-mark layer_0_marks\" role=\"graphics-object\" aria-roledescription=\"line mark container\"><path aria-label=\"edges_x: 0.820165846951; edges_y: 0.249461963904; ew: 0; pe: [6, 4]\" role=\"graphics-symbol\" aria-roledescription=\"line mark\" d=\"M153.781096303281,246.54386487771023L270.5236417862664,42.02931465655797\" stroke=\"black\" stroke-width=\"0\" opacity=\"0.3\"></path></g></g><path class=\"foreground\" aria-hidden=\"true\" d=\"\" display=\"none\"></path></g><g transform=\"translate(0,0)\"><path class=\"background\" aria-hidden=\"true\" d=\"M0,0h300v300h-300Z\"></path><g><g class=\"mark-line role-mark layer_0_marks\" role=\"graphics-object\" aria-roledescription=\"line mark container\"><path aria-label=\"edges_x: 0.704312304338; edges_y: 0.681015672054; ew: 0; pe: [6, 5]\" role=\"graphics-symbol\" aria-roledescription=\"line mark\" d=\"M132.05855706340475,154.0680702741274L153.781096303281,246.54386487771023\" stroke=\"black\" stroke-width=\"0\" opacity=\"0.3\"></path></g></g><path class=\"foreground\" aria-hidden=\"true\" d=\"\" display=\"none\"></path></g><g transform=\"translate(0,0)\"><path class=\"background\" aria-hidden=\"true\" d=\"M0,0h300v300h-300Z\"></path><g><g class=\"mark-line role-mark layer_0_marks\" role=\"graphics-object\" aria-roledescription=\"line mark container\"><path aria-label=\"edges_x: 0.783702864116; edges_y: 1.07953060434; ew: 0; pe: [6, 6]\" role=\"graphics-symbol\" aria-roledescription=\"line mark\" d=\"M146.94428702174795,68.67201335500525L153.781096303281,246.54386487771023\" stroke=\"black\" stroke-width=\"0\" opacity=\"0.3\"></path></g></g><path class=\"foreground\" aria-hidden=\"true\" d=\"\" display=\"none\"></path></g><g transform=\"translate(0,0)\"><path class=\"background\" aria-hidden=\"true\" d=\"M0,0h300v300h-300Z\"></path><g><g class=\"mark-line role-mark layer_0_marks\" role=\"graphics-object\" aria-roledescription=\"line mark container\"><path aria-label=\"edges_x: 0.820165846951; edges_y: 0.249461963904; ew: 0.1473429951690821; pe: [6, 7]\" role=\"graphics-symbol\" aria-roledescription=\"line mark\" d=\"M153.781096303281,246.54386487771023L231.7046181172589,113.83263077201822\" stroke=\"black\" stroke-width=\"0.3157894736842105\" opacity=\"0.37367149758454105\"></path></g></g><path class=\"foreground\" aria-hidden=\"true\" d=\"\" display=\"none\"></path></g><g transform=\"translate(0,0)\"><path class=\"background\" aria-hidden=\"true\" d=\"M0,0h300v300h-300Z\"></path><g><g class=\"mark-line role-mark layer_0_marks\" role=\"graphics-object\" aria-roledescription=\"line mark container\"><path aria-label=\"edges_x: 0.820165846951; edges_y: 0.249461963904; ew: 0; pe: [6, 8]\" role=\"graphics-symbol\" aria-roledescription=\"line mark\" d=\"M153.781096303281,246.54386487771023L228.68623243377198,101.55016774954383\" stroke=\"black\" stroke-width=\"0\" opacity=\"0.3\"></path></g></g><path class=\"foreground\" aria-hidden=\"true\" d=\"\" display=\"none\"></path></g><g transform=\"translate(0,0)\"><path class=\"background\" aria-hidden=\"true\" d=\"M0,0h300v300h-300Z\"></path><g><g class=\"mark-line role-mark layer_0_marks\" role=\"graphics-object\" aria-roledescription=\"line mark container\"><path aria-label=\"edges_x: 0.731715178336; edges_y: 1.3838512379; ew: 0; pe: [6, 9]\" role=\"graphics-symbol\" aria-roledescription=\"line mark\" d=\"M137.19659593803942,3.4604490205057625L153.781096303281,246.54386487771023\" stroke=\"black\" stroke-width=\"0\" opacity=\"0.3\"></path></g></g><path class=\"foreground\" aria-hidden=\"true\" d=\"\" display=\"none\"></path></g><g transform=\"translate(0,0)\"><path class=\"background\" aria-hidden=\"true\" d=\"M0,0h300v300h-300Z\"></path><g><g class=\"mark-line role-mark layer_0_marks\" role=\"graphics-object\" aria-roledescription=\"line mark container\"><path aria-label=\"edges_x: 0.820165846951; edges_y: 0.249461963904; ew: 0; pe: [6, 10]\" role=\"graphics-symbol\" aria-roledescription=\"line mark\" d=\"M153.781096303281,246.54386487771023L274.33238113358254,70.56566910947855\" stroke=\"black\" stroke-width=\"0\" opacity=\"0.3\"></path></g></g><path class=\"foreground\" aria-hidden=\"true\" d=\"\" display=\"none\"></path></g><g transform=\"translate(0,0)\"><path class=\"background\" aria-hidden=\"true\" d=\"M0,0h300v300h-300Z\"></path><g><g class=\"mark-line role-mark layer_0_marks\" role=\"graphics-object\" aria-roledescription=\"line mark container\"><path aria-label=\"edges_x: 0.170817209064; edges_y: 0.931209225427; ew: 0.15217391304347824; pe: [7, 1]\" role=\"graphics-symbol\" aria-roledescription=\"line mark\" d=\"M32.02822669953187,100.45516597997239L245.56970972619018,35.71631936902083\" stroke=\"black\" stroke-width=\"0.42105263157894735\" opacity=\"0.37608695652173907\"></path></g></g><path class=\"foreground\" aria-hidden=\"true\" d=\"\" display=\"none\"></path></g><g transform=\"translate(0,0)\"><path class=\"background\" aria-hidden=\"true\" d=\"M0,0h300v300h-300Z\"></path><g><g class=\"mark-line role-mark layer_0_marks\" role=\"graphics-object\" aria-roledescription=\"line mark container\"><path aria-label=\"edges_x: 0.170817209064; edges_y: 0.931209225427; ew: 0; pe: [7, 2]\" role=\"graphics-symbol\" aria-roledescription=\"line mark\" d=\"M32.02822669953187,100.45516597997239L259.9992247358252,114.26328077160886\" stroke=\"black\" stroke-width=\"0\" opacity=\"0.3\"></path></g></g><path class=\"foreground\" aria-hidden=\"true\" d=\"\" display=\"none\"></path></g><g transform=\"translate(0,0)\"><path class=\"background\" aria-hidden=\"true\" d=\"M0,0h300v300h-300Z\"></path><g><g class=\"mark-line role-mark layer_0_marks\" role=\"graphics-object\" aria-roledescription=\"line mark container\"><path aria-label=\"edges_x: 0.170817209064; edges_y: 0.931209225427; ew: 0; pe: [7, 3]\" role=\"graphics-symbol\" aria-roledescription=\"line mark\" d=\"M32.02822669953187,100.45516597997239L256.59891160251146,124.78938285554551\" stroke=\"black\" stroke-width=\"0\" opacity=\"0.3\"></path></g></g><path class=\"foreground\" aria-hidden=\"true\" d=\"\" display=\"none\"></path></g><g transform=\"translate(0,0)\"><path class=\"background\" aria-hidden=\"true\" d=\"M0,0h300v300h-300Z\"></path><g><g class=\"mark-line role-mark layer_0_marks\" role=\"graphics-object\" aria-roledescription=\"line mark container\"><path aria-label=\"edges_x: 0.170817209064; edges_y: 0.931209225427; ew: 0; pe: [7, 4]\" role=\"graphics-symbol\" aria-roledescription=\"line mark\" d=\"M32.02822669953187,100.45516597997239L270.5236417862664,42.02931465655797\" stroke=\"black\" stroke-width=\"0\" opacity=\"0.3\"></path></g></g><path class=\"foreground\" aria-hidden=\"true\" d=\"\" display=\"none\"></path></g><g transform=\"translate(0,0)\"><path class=\"background\" aria-hidden=\"true\" d=\"M0,0h300v300h-300Z\"></path><g><g class=\"mark-line role-mark layer_0_marks\" role=\"graphics-object\" aria-roledescription=\"line mark container\"><path aria-label=\"edges_x: 0.170817209064; edges_y: 0.931209225427; ew: 0.16505636070853463; pe: [7, 5]\" role=\"graphics-symbol\" aria-roledescription=\"line mark\" d=\"M32.02822669953187,100.45516597997239L132.05855706340475,154.0680702741274\" stroke=\"black\" stroke-width=\"0.5263157894736842\" opacity=\"0.3825281803542673\"></path></g></g><path class=\"foreground\" aria-hidden=\"true\" d=\"\" display=\"none\"></path></g><g transform=\"translate(0,0)\"><path class=\"background\" aria-hidden=\"true\" d=\"M0,0h300v300h-300Z\"></path><g><g class=\"mark-line role-mark layer_0_marks\" role=\"graphics-object\" aria-roledescription=\"line mark container\"><path aria-label=\"edges_x: 0.170817209064; edges_y: 0.931209225427; ew: 0.04267310789049919; pe: [7, 6]\" role=\"graphics-symbol\" aria-roledescription=\"line mark\" d=\"M32.02822669953187,100.45516597997239L146.94428702174795,68.67201335500525\" stroke=\"black\" stroke-width=\"0.21052631578947367\" opacity=\"0.32133655394524957\"></path></g></g><path class=\"foreground\" aria-hidden=\"true\" d=\"\" display=\"none\"></path></g><g transform=\"translate(0,0)\"><path class=\"background\" aria-hidden=\"true\" d=\"M0,0h300v300h-300Z\"></path><g><g class=\"mark-line role-mark layer_0_marks\" role=\"graphics-object\" aria-roledescription=\"line mark container\"><path aria-label=\"edges_x: 0.170817209064; edges_y: 0.931209225427; ew: 0; pe: [7, 7]\" role=\"graphics-symbol\" aria-roledescription=\"line mark\" d=\"M32.02822669953187,100.45516597997239L231.7046181172589,113.83263077201822\" stroke=\"black\" stroke-width=\"0\" opacity=\"0.3\"></path></g></g><path class=\"foreground\" aria-hidden=\"true\" d=\"\" display=\"none\"></path></g><g transform=\"translate(0,0)\"><path class=\"background\" aria-hidden=\"true\" d=\"M0,0h300v300h-300Z\"></path><g><g class=\"mark-line role-mark layer_0_marks\" role=\"graphics-object\" aria-roledescription=\"line mark container\"><path aria-label=\"edges_x: 0.170817209064; edges_y: 0.931209225427; ew: 0.7842190016103059; pe: [7, 8]\" role=\"graphics-symbol\" aria-roledescription=\"line mark\" d=\"M32.02822669953187,100.45516597997239L228.68623243377198,101.55016774954383\" stroke=\"black\" stroke-width=\"1.6842105263157894\" opacity=\"0.692109500805153\"></path></g></g><path class=\"foreground\" aria-hidden=\"true\" d=\"\" display=\"none\"></path></g><g transform=\"translate(0,0)\"><path class=\"background\" aria-hidden=\"true\" d=\"M0,0h300v300h-300Z\"></path><g><g class=\"mark-line role-mark layer_0_marks\" role=\"graphics-object\" aria-roledescription=\"line mark container\"><path aria-label=\"edges_x: 0.170817209064; edges_y: 0.931209225427; ew: 0.22061191626409019; pe: [7, 9]\" role=\"graphics-symbol\" aria-roledescription=\"line mark\" d=\"M32.02822669953187,100.45516597997239L137.19659593803942,3.4604490205057625\" stroke=\"black\" stroke-width=\"0.7368421052631579\" opacity=\"0.41030595813204507\"></path></g></g><path class=\"foreground\" aria-hidden=\"true\" d=\"\" display=\"none\"></path></g><g transform=\"translate(0,0)\"><path class=\"background\" aria-hidden=\"true\" d=\"M0,0h300v300h-300Z\"></path><g><g class=\"mark-line role-mark layer_0_marks\" role=\"graphics-object\" aria-roledescription=\"line mark container\"><path aria-label=\"edges_x: 0.170817209064; edges_y: 0.931209225427; ew: 0; pe: [7, 10]\" role=\"graphics-symbol\" aria-roledescription=\"line mark\" d=\"M32.02822669953187,100.45516597997239L274.33238113358254,70.56566910947855\" stroke=\"black\" stroke-width=\"0\" opacity=\"0.3\"></path></g></g><path class=\"foreground\" aria-hidden=\"true\" d=\"\" display=\"none\"></path></g><g transform=\"translate(0,0)\"><path class=\"background\" aria-hidden=\"true\" d=\"M0,0h300v300h-300Z\"></path><g><g class=\"mark-line role-mark layer_0_marks\" role=\"graphics-object\" aria-roledescription=\"line mark container\"><path aria-label=\"edges_x: 0.938624066611; edges_y: 0.16749042323; ew: 0; pe: [8, 1]\" role=\"graphics-symbol\" aria-roledescription=\"line mark\" d=\"M175.99201248948586,264.10919502210874L245.56970972619018,35.71631936902083\" stroke=\"black\" stroke-width=\"0\" opacity=\"0.3\"></path></g></g><path class=\"foreground\" aria-hidden=\"true\" d=\"\" display=\"none\"></path></g><g transform=\"translate(0,0)\"><path class=\"background\" aria-hidden=\"true\" d=\"M0,0h300v300h-300Z\"></path><g><g class=\"mark-line role-mark layer_0_marks\" role=\"graphics-object\" aria-roledescription=\"line mark container\"><path aria-label=\"edges_x: 0.938624066611; edges_y: 0.16749042323; ew: 0.21175523349436393; pe: [8, 2]\" role=\"graphics-symbol\" aria-roledescription=\"line mark\" d=\"M175.99201248948586,264.10919502210874L259.9992247358252,114.26328077160886\" stroke=\"black\" stroke-width=\"0.631578947368421\" opacity=\"0.4058776167471819\"></path></g></g><path class=\"foreground\" aria-hidden=\"true\" d=\"\" display=\"none\"></path></g><g transform=\"translate(0,0)\"><path class=\"background\" aria-hidden=\"true\" d=\"M0,0h300v300h-300Z\"></path><g><g class=\"mark-line role-mark layer_0_marks\" role=\"graphics-object\" aria-roledescription=\"line mark container\"><path aria-label=\"edges_x: 0.938624066611; edges_y: 0.16749042323; ew: 0.6417069243156199; pe: [8, 3]\" role=\"graphics-symbol\" aria-roledescription=\"line mark\" d=\"M175.99201248948586,264.10919502210874L256.59891160251146,124.78938285554551\" stroke=\"black\" stroke-width=\"1.5789473684210527\" opacity=\"0.62085346215781\"></path></g></g><path class=\"foreground\" aria-hidden=\"true\" d=\"\" display=\"none\"></path></g><g transform=\"translate(0,0)\"><path class=\"background\" aria-hidden=\"true\" d=\"M0,0h300v300h-300Z\"></path><g><g class=\"mark-line role-mark layer_0_marks\" role=\"graphics-object\" aria-roledescription=\"line mark container\"><path aria-label=\"edges_x: 0.938624066611; edges_y: 0.16749042323; ew: 0; pe: [8, 4]\" role=\"graphics-symbol\" aria-roledescription=\"line mark\" d=\"M175.99201248948586,264.10919502210874L270.5236417862664,42.02931465655797\" stroke=\"black\" stroke-width=\"0\" opacity=\"0.3\"></path></g></g><path class=\"foreground\" aria-hidden=\"true\" d=\"\" display=\"none\"></path></g><g transform=\"translate(0,0)\"><path class=\"background\" aria-hidden=\"true\" d=\"M0,0h300v300h-300Z\"></path><g><g class=\"mark-line role-mark layer_0_marks\" role=\"graphics-object\" aria-roledescription=\"line mark container\"><path aria-label=\"edges_x: 0.704312304338; edges_y: 0.681015672054; ew: 0; pe: [8, 5]\" role=\"graphics-symbol\" aria-roledescription=\"line mark\" d=\"M132.05855706340475,154.0680702741274L175.99201248948586,264.10919502210874\" stroke=\"black\" stroke-width=\"0\" opacity=\"0.3\"></path></g></g><path class=\"foreground\" aria-hidden=\"true\" d=\"\" display=\"none\"></path></g><g transform=\"translate(0,0)\"><path class=\"background\" aria-hidden=\"true\" d=\"M0,0h300v300h-300Z\"></path><g><g class=\"mark-line role-mark layer_0_marks\" role=\"graphics-object\" aria-roledescription=\"line mark container\"><path aria-label=\"edges_x: 0.783702864116; edges_y: 1.07953060434; ew: 0; pe: [8, 6]\" role=\"graphics-symbol\" aria-roledescription=\"line mark\" d=\"M146.94428702174795,68.67201335500525L175.99201248948586,264.10919502210874\" stroke=\"black\" stroke-width=\"0\" opacity=\"0.3\"></path></g></g><path class=\"foreground\" aria-hidden=\"true\" d=\"\" display=\"none\"></path></g><g transform=\"translate(0,0)\"><path class=\"background\" aria-hidden=\"true\" d=\"M0,0h300v300h-300Z\"></path><g><g class=\"mark-line role-mark layer_0_marks\" role=\"graphics-object\" aria-roledescription=\"line mark container\"><path aria-label=\"edges_x: 0.938624066611; edges_y: 0.16749042323; ew: 0; pe: [8, 7]\" role=\"graphics-symbol\" aria-roledescription=\"line mark\" d=\"M175.99201248948586,264.10919502210874L231.7046181172589,113.83263077201822\" stroke=\"black\" stroke-width=\"0\" opacity=\"0.3\"></path></g></g><path class=\"foreground\" aria-hidden=\"true\" d=\"\" display=\"none\"></path></g><g transform=\"translate(0,0)\"><path class=\"background\" aria-hidden=\"true\" d=\"M0,0h300v300h-300Z\"></path><g><g class=\"mark-line role-mark layer_0_marks\" role=\"graphics-object\" aria-roledescription=\"line mark container\"><path aria-label=\"edges_x: 0.938624066611; edges_y: 0.16749042323; ew: 0; pe: [8, 8]\" role=\"graphics-symbol\" aria-roledescription=\"line mark\" d=\"M175.99201248948586,264.10919502210874L228.68623243377198,101.55016774954383\" stroke=\"black\" stroke-width=\"0\" opacity=\"0.3\"></path></g></g><path class=\"foreground\" aria-hidden=\"true\" d=\"\" display=\"none\"></path></g><g transform=\"translate(0,0)\"><path class=\"background\" aria-hidden=\"true\" d=\"M0,0h300v300h-300Z\"></path><g><g class=\"mark-line role-mark layer_0_marks\" role=\"graphics-object\" aria-roledescription=\"line mark container\"><path aria-label=\"edges_x: 0.731715178336; edges_y: 1.3838512379; ew: 0; pe: [8, 9]\" role=\"graphics-symbol\" aria-roledescription=\"line mark\" d=\"M137.19659593803942,3.4604490205057625L175.99201248948586,264.10919502210874\" stroke=\"black\" stroke-width=\"0\" opacity=\"0.3\"></path></g></g><path class=\"foreground\" aria-hidden=\"true\" d=\"\" display=\"none\"></path></g><g transform=\"translate(0,0)\"><path class=\"background\" aria-hidden=\"true\" d=\"M0,0h300v300h-300Z\"></path><g><g class=\"mark-line role-mark layer_0_marks\" role=\"graphics-object\" aria-roledescription=\"line mark container\"><path aria-label=\"edges_x: 0.938624066611; edges_y: 0.16749042323; ew: 0; pe: [8, 10]\" role=\"graphics-symbol\" aria-roledescription=\"line mark\" d=\"M175.99201248948586,264.10919502210874L274.33238113358254,70.56566910947855\" stroke=\"black\" stroke-width=\"0\" opacity=\"0.3\"></path></g></g><path class=\"foreground\" aria-hidden=\"true\" d=\"\" display=\"none\"></path></g><g transform=\"translate(0,0)\"><path class=\"background\" aria-hidden=\"true\" d=\"M0,0h300v300h-300Z\"></path><g><g class=\"mark-line role-mark layer_0_marks\" role=\"graphics-object\" aria-roledescription=\"line mark container\"><path aria-label=\"edges_x: 0.945057166286; edges_y: 0.312685312477; ew: 0; pe: [9, 1]\" role=\"graphics-symbol\" aria-roledescription=\"line mark\" d=\"M177.19821867855336,232.99600446925422L245.56970972619018,35.71631936902083\" stroke=\"black\" stroke-width=\"0\" opacity=\"0.3\"></path></g></g><path class=\"foreground\" aria-hidden=\"true\" d=\"\" display=\"none\"></path></g><g transform=\"translate(0,0)\"><path class=\"background\" aria-hidden=\"true\" d=\"M0,0h300v300h-300Z\"></path><g><g class=\"mark-line role-mark layer_0_marks\" role=\"graphics-object\" aria-roledescription=\"line mark container\"><path aria-label=\"edges_x: 0.945057166286; edges_y: 0.312685312477; ew: 0.5499194847020934; pe: [9, 2]\" role=\"graphics-symbol\" aria-roledescription=\"line mark\" d=\"M177.19821867855336,232.99600446925422L259.9992247358252,114.26328077160886\" stroke=\"black\" stroke-width=\"1.3684210526315788\" opacity=\"0.5749597423510467\"></path></g></g><path class=\"foreground\" aria-hidden=\"true\" d=\"\" display=\"none\"></path></g><g transform=\"translate(0,0)\"><path class=\"background\" aria-hidden=\"true\" d=\"M0,0h300v300h-300Z\"></path><g><g class=\"mark-line role-mark layer_0_marks\" role=\"graphics-object\" aria-roledescription=\"line mark container\"><path aria-label=\"edges_x: 0.945057166286; edges_y: 0.312685312477; ew: 0; pe: [9, 3]\" role=\"graphics-symbol\" aria-roledescription=\"line mark\" d=\"M177.19821867855336,232.99600446925422L256.59891160251146,124.78938285554551\" stroke=\"black\" stroke-width=\"0\" opacity=\"0.3\"></path></g></g><path class=\"foreground\" aria-hidden=\"true\" d=\"\" display=\"none\"></path></g><g transform=\"translate(0,0)\"><path class=\"background\" aria-hidden=\"true\" d=\"M0,0h300v300h-300Z\"></path><g><g class=\"mark-line role-mark layer_0_marks\" role=\"graphics-object\" aria-roledescription=\"line mark container\"><path aria-label=\"edges_x: 0.945057166286; edges_y: 0.312685312477; ew: 0; pe: [9, 4]\" role=\"graphics-symbol\" aria-roledescription=\"line mark\" d=\"M177.19821867855336,232.99600446925422L270.5236417862664,42.02931465655797\" stroke=\"black\" stroke-width=\"0\" opacity=\"0.3\"></path></g></g><path class=\"foreground\" aria-hidden=\"true\" d=\"\" display=\"none\"></path></g><g transform=\"translate(0,0)\"><path class=\"background\" aria-hidden=\"true\" d=\"M0,0h300v300h-300Z\"></path><g><g class=\"mark-line role-mark layer_0_marks\" role=\"graphics-object\" aria-roledescription=\"line mark container\"><path aria-label=\"edges_x: 0.704312304338; edges_y: 0.681015672054; ew: 0; pe: [9, 5]\" role=\"graphics-symbol\" aria-roledescription=\"line mark\" d=\"M132.05855706340475,154.0680702741274L177.19821867855336,232.99600446925422\" stroke=\"black\" stroke-width=\"0\" opacity=\"0.3\"></path></g></g><path class=\"foreground\" aria-hidden=\"true\" d=\"\" display=\"none\"></path></g><g transform=\"translate(0,0)\"><path class=\"background\" aria-hidden=\"true\" d=\"M0,0h300v300h-300Z\"></path><g><g class=\"mark-line role-mark layer_0_marks\" role=\"graphics-object\" aria-roledescription=\"line mark container\"><path aria-label=\"edges_x: 0.783702864116; edges_y: 1.07953060434; ew: 0; pe: [9, 6]\" role=\"graphics-symbol\" aria-roledescription=\"line mark\" d=\"M146.94428702174795,68.67201335500525L177.19821867855336,232.99600446925422\" stroke=\"black\" stroke-width=\"0\" opacity=\"0.3\"></path></g></g><path class=\"foreground\" aria-hidden=\"true\" d=\"\" display=\"none\"></path></g><g transform=\"translate(0,0)\"><path class=\"background\" aria-hidden=\"true\" d=\"M0,0h300v300h-300Z\"></path><g><g class=\"mark-line role-mark layer_0_marks\" role=\"graphics-object\" aria-roledescription=\"line mark container\"><path aria-label=\"edges_x: 0.945057166286; edges_y: 0.312685312477; ew: 0; pe: [9, 7]\" role=\"graphics-symbol\" aria-roledescription=\"line mark\" d=\"M177.19821867855336,232.99600446925422L231.7046181172589,113.83263077201822\" stroke=\"black\" stroke-width=\"0\" opacity=\"0.3\"></path></g></g><path class=\"foreground\" aria-hidden=\"true\" d=\"\" display=\"none\"></path></g><g transform=\"translate(0,0)\"><path class=\"background\" aria-hidden=\"true\" d=\"M0,0h300v300h-300Z\"></path><g><g class=\"mark-line role-mark layer_0_marks\" role=\"graphics-object\" aria-roledescription=\"line mark container\"><path aria-label=\"edges_x: 0.945057166286; edges_y: 0.312685312477; ew: 0; pe: [9, 8]\" role=\"graphics-symbol\" aria-roledescription=\"line mark\" d=\"M177.19821867855336,232.99600446925422L228.68623243377198,101.55016774954383\" stroke=\"black\" stroke-width=\"0\" opacity=\"0.3\"></path></g></g><path class=\"foreground\" aria-hidden=\"true\" d=\"\" display=\"none\"></path></g><g transform=\"translate(0,0)\"><path class=\"background\" aria-hidden=\"true\" d=\"M0,0h300v300h-300Z\"></path><g><g class=\"mark-line role-mark layer_0_marks\" role=\"graphics-object\" aria-roledescription=\"line mark container\"><path aria-label=\"edges_x: 0.731715178336; edges_y: 1.3838512379; ew: 0; pe: [9, 9]\" role=\"graphics-symbol\" aria-roledescription=\"line mark\" d=\"M137.19659593803942,3.4604490205057625L177.19821867855336,232.99600446925422\" stroke=\"black\" stroke-width=\"0\" opacity=\"0.3\"></path></g></g><path class=\"foreground\" aria-hidden=\"true\" d=\"\" display=\"none\"></path></g><g transform=\"translate(0,0)\"><path class=\"background\" aria-hidden=\"true\" d=\"M0,0h300v300h-300Z\"></path><g><g class=\"mark-line role-mark layer_0_marks\" role=\"graphics-object\" aria-roledescription=\"line mark container\"><path aria-label=\"edges_x: 0.945057166286; edges_y: 0.312685312477; ew: 0; pe: [9, 10]\" role=\"graphics-symbol\" aria-roledescription=\"line mark\" d=\"M177.19821867855336,232.99600446925422L274.33238113358254,70.56566910947855\" stroke=\"black\" stroke-width=\"0\" opacity=\"0.3\"></path></g></g><path class=\"foreground\" aria-hidden=\"true\" d=\"\" display=\"none\"></path></g><g transform=\"translate(0,0)\"><path class=\"background\" aria-hidden=\"true\" d=\"M0,0h300v300h-300Z\"></path><g><g class=\"mark-line role-mark layer_0_marks\" role=\"graphics-object\" aria-roledescription=\"line mark container\"><path aria-label=\"edges_x: 0.0816145106681; edges_y: 0.593510204852; ew: 0; pe: [10, 1]\" role=\"graphics-symbol\" aria-roledescription=\"line mark\" d=\"M15.302720750261859,172.81924181738552L245.56970972619018,35.71631936902083\" stroke=\"black\" stroke-width=\"0\" opacity=\"0.3\"></path></g></g><path class=\"foreground\" aria-hidden=\"true\" d=\"\" display=\"none\"></path></g><g transform=\"translate(0,0)\"><path class=\"background\" aria-hidden=\"true\" d=\"M0,0h300v300h-300Z\"></path><g><g class=\"mark-line role-mark layer_0_marks\" role=\"graphics-object\" aria-roledescription=\"line mark container\"><path aria-label=\"edges_x: 0.0816145106681; edges_y: 0.593510204852; ew: 0; pe: [10, 2]\" role=\"graphics-symbol\" aria-roledescription=\"line mark\" d=\"M15.302720750261859,172.81924181738552L259.9992247358252,114.26328077160886\" stroke=\"black\" stroke-width=\"0\" opacity=\"0.3\"></path></g></g><path class=\"foreground\" aria-hidden=\"true\" d=\"\" display=\"none\"></path></g><g transform=\"translate(0,0)\"><path class=\"background\" aria-hidden=\"true\" d=\"M0,0h300v300h-300Z\"></path><g><g class=\"mark-line role-mark layer_0_marks\" role=\"graphics-object\" aria-roledescription=\"line mark container\"><path aria-label=\"edges_x: 0.0816145106681; edges_y: 0.593510204852; ew: 0; pe: [10, 3]\" role=\"graphics-symbol\" aria-roledescription=\"line mark\" d=\"M15.302720750261859,172.81924181738552L256.59891160251146,124.78938285554551\" stroke=\"black\" stroke-width=\"0\" opacity=\"0.3\"></path></g></g><path class=\"foreground\" aria-hidden=\"true\" d=\"\" display=\"none\"></path></g><g transform=\"translate(0,0)\"><path class=\"background\" aria-hidden=\"true\" d=\"M0,0h300v300h-300Z\"></path><g><g class=\"mark-line role-mark layer_0_marks\" role=\"graphics-object\" aria-roledescription=\"line mark container\"><path aria-label=\"edges_x: 0.0816145106681; edges_y: 0.593510204852; ew: 0; pe: [10, 4]\" role=\"graphics-symbol\" aria-roledescription=\"line mark\" d=\"M15.302720750261859,172.81924181738552L270.5236417862664,42.02931465655797\" stroke=\"black\" stroke-width=\"0\" opacity=\"0.3\"></path></g></g><path class=\"foreground\" aria-hidden=\"true\" d=\"\" display=\"none\"></path></g><g transform=\"translate(0,0)\"><path class=\"background\" aria-hidden=\"true\" d=\"M0,0h300v300h-300Z\"></path><g><g class=\"mark-line role-mark layer_0_marks\" role=\"graphics-object\" aria-roledescription=\"line mark container\"><path aria-label=\"edges_x: 0.0816145106681; edges_y: 0.593510204852; ew: 0.35829307568438; pe: [10, 5]\" role=\"graphics-symbol\" aria-roledescription=\"line mark\" d=\"M15.302720750261859,172.81924181738552L132.05855706340475,154.0680702741274\" stroke=\"black\" stroke-width=\"1.0526315789473684\" opacity=\"0.47914653784218997\"></path></g></g><path class=\"foreground\" aria-hidden=\"true\" d=\"\" display=\"none\"></path></g><g transform=\"translate(0,0)\"><path class=\"background\" aria-hidden=\"true\" d=\"M0,0h300v300h-300Z\"></path><g><g class=\"mark-line role-mark layer_0_marks\" role=\"graphics-object\" aria-roledescription=\"line mark container\"><path aria-label=\"edges_x: 0.0816145106681; edges_y: 0.593510204852; ew: 0; pe: [10, 6]\" role=\"graphics-symbol\" aria-roledescription=\"line mark\" d=\"M15.302720750261859,172.81924181738552L146.94428702174795,68.67201335500525\" stroke=\"black\" stroke-width=\"0\" opacity=\"0.3\"></path></g></g><path class=\"foreground\" aria-hidden=\"true\" d=\"\" display=\"none\"></path></g><g transform=\"translate(0,0)\"><path class=\"background\" aria-hidden=\"true\" d=\"M0,0h300v300h-300Z\"></path><g><g class=\"mark-line role-mark layer_0_marks\" role=\"graphics-object\" aria-roledescription=\"line mark container\"><path aria-label=\"edges_x: 0.0816145106681; edges_y: 0.593510204852; ew: 0; pe: [10, 7]\" role=\"graphics-symbol\" aria-roledescription=\"line mark\" d=\"M15.302720750261859,172.81924181738552L231.7046181172589,113.83263077201822\" stroke=\"black\" stroke-width=\"0\" opacity=\"0.3\"></path></g></g><path class=\"foreground\" aria-hidden=\"true\" d=\"\" display=\"none\"></path></g><g transform=\"translate(0,0)\"><path class=\"background\" aria-hidden=\"true\" d=\"M0,0h300v300h-300Z\"></path><g><g class=\"mark-line role-mark layer_0_marks\" role=\"graphics-object\" aria-roledescription=\"line mark container\"><path aria-label=\"edges_x: 0.0816145106681; edges_y: 0.593510204852; ew: 0; pe: [10, 8]\" role=\"graphics-symbol\" aria-roledescription=\"line mark\" d=\"M15.302720750261859,172.81924181738552L228.68623243377198,101.55016774954383\" stroke=\"black\" stroke-width=\"0\" opacity=\"0.3\"></path></g></g><path class=\"foreground\" aria-hidden=\"true\" d=\"\" display=\"none\"></path></g><g transform=\"translate(0,0)\"><path class=\"background\" aria-hidden=\"true\" d=\"M0,0h300v300h-300Z\"></path><g><g class=\"mark-line role-mark layer_0_marks\" role=\"graphics-object\" aria-roledescription=\"line mark container\"><path aria-label=\"edges_x: 0.0816145106681; edges_y: 0.593510204852; ew: 0; pe: [10, 9]\" role=\"graphics-symbol\" aria-roledescription=\"line mark\" d=\"M15.302720750261859,172.81924181738552L137.19659593803942,3.4604490205057625\" stroke=\"black\" stroke-width=\"0\" opacity=\"0.3\"></path></g></g><path class=\"foreground\" aria-hidden=\"true\" d=\"\" display=\"none\"></path></g><g transform=\"translate(0,0)\"><path class=\"background\" aria-hidden=\"true\" d=\"M0,0h300v300h-300Z\"></path><g><g class=\"mark-line role-mark layer_0_marks\" role=\"graphics-object\" aria-roledescription=\"line mark container\"><path aria-label=\"edges_x: 0.0816145106681; edges_y: 0.593510204852; ew: 0; pe: [10, 10]\" role=\"graphics-symbol\" aria-roledescription=\"line mark\" d=\"M15.302720750261859,172.81924181738552L274.33238113358254,70.56566910947855\" stroke=\"black\" stroke-width=\"0\" opacity=\"0.3\"></path></g></g><path class=\"foreground\" aria-hidden=\"true\" d=\"\" display=\"none\"></path></g></g><g class=\"mark-symbol role-mark layer_1_marks\" role=\"graphics-object\" aria-roledescription=\"symbol mark container\"><path aria-label=\"x: 1.30970511854; y: 1.23332384294; size: 0.0547728361838\" role=\"graphics-symbol\" aria-roledescription=\"circle\" transform=\"translate(245.56970972619018,35.71631936902083)\" d=\"M4.752344224453245,0A4.752344224453245,4.752344224453245,0,1,1,-4.752344224453245,0A4.752344224453245,4.752344224453245,0,1,1,4.752344224453245,0\" fill=\"red\" stroke-width=\"2\" opacity=\"1\"></path><path aria-label=\"x: 1.38666253192; y: 0.866771356399; size: 0.218875252386\" role=\"graphics-symbol\" aria-roledescription=\"circle\" transform=\"translate(259.9992247358252,114.26328077160886)\" d=\"M9.5,0A9.5,9.5,0,1,1,-9.5,0A9.5,9.5,0,1,1,9.5,0\" fill=\"red\" stroke-width=\"2\" opacity=\"1\"></path><path aria-label=\"x: 1.36852752855; y: 0.817649546674; size: 0.0797127566343\" role=\"graphics-symbol\" aria-roledescription=\"circle\" transform=\"translate(256.59891160251146,124.78938285554551)\" d=\"M5.733095675353815,0A5.733095675353815,5.733095675353815,0,1,1,-5.733095675353815,0A5.733095675353815,5.733095675353815,0,1,1,5.733095675353815,0\" fill=\"red\" stroke-width=\"2\" opacity=\"1\"></path><path aria-label=\"x: 1.44279275619; y: 1.20386319827; size: 0.0622634733353\" role=\"graphics-symbol\" aria-roledescription=\"circle\" transform=\"translate(270.5236417862664,42.02931465655797)\" d=\"M5.066895498159301,0A5.066895498159301,5.066895498159301,0,1,1,-5.066895498159301,0A5.066895498159301,5.066895498159301,0,1,1,5.066895498159301,0\" fill=\"red\" stroke-width=\"2\" opacity=\"1\"></path><path aria-label=\"x: 0.704312304338; y: 0.681015672054; size: 0.119852935911\" role=\"graphics-symbol\" aria-roledescription=\"circle\" transform=\"translate(132.05855706340475,154.0680702741274)\" d=\"M7.029907552549616,0A7.029907552549616,7.029907552549616,0,1,1,-7.029907552549616,0A7.029907552549616,7.029907552549616,0,1,1,7.029907552549616,0\" fill=\"red\" stroke-width=\"2\" opacity=\"1\"></path><path aria-label=\"x: 0.783702864116; y: 1.07953060434; size: 0.00534247006996\" role=\"graphics-symbol\" aria-roledescription=\"circle\" transform=\"translate(146.94428702174795,68.67201335500525)\" d=\"M1.484213318036512,0A1.484213318036512,1.484213318036512,0,1,1,-1.484213318036512,0A1.484213318036512,1.484213318036512,0,1,1,1.484213318036512,0\" fill=\"red\" stroke-width=\"2\" opacity=\"1\"></path><path aria-label=\"x: 1.23575796329; y: 0.868781056397; size: 0.156247153317\" role=\"graphics-symbol\" aria-roledescription=\"circle\" transform=\"translate(231.7046181172589,113.83263077201822)\" d=\"M8.026594666336143,0A8.026594666336143,8.026594666336143,0,1,1,-8.026594666336143,0A8.026594666336143,8.026594666336143,0,1,1,8.026594666336143,0\" fill=\"red\" stroke-width=\"2\" opacity=\"1\"></path><path aria-label=\"x: 1.21965990631; y: 0.926099217169; size: 0.0974077840236\" role=\"graphics-symbol\" aria-roledescription=\"circle\" transform=\"translate(228.68623243377198,101.55016774954383)\" d=\"M6.337560337184197,0A6.337560337184197,6.337560337184197,0,1,1,-6.337560337184197,0A6.337560337184197,6.337560337184197,0,1,1,6.337560337184197,0\" fill=\"red\" stroke-width=\"2\" opacity=\"1\"></path><path aria-label=\"x: 0.731715178336; y: 1.3838512379; size: 0.0274185382855\" role=\"graphics-symbol\" aria-roledescription=\"circle\" transform=\"translate(137.19659593803942,3.4604490205057625)\" d=\"M3.3623848834639216,0A3.3623848834639216,3.3623848834639216,0,1,1,-3.3623848834639216,0A3.3623848834639216,3.3623848834639216,0,1,1,3.3623848834639216,0\" fill=\"red\" stroke-width=\"2\" opacity=\"1\"></path><path aria-label=\"x: 1.46310603271; y: 1.07069354416; size: 0.178106799853\" role=\"graphics-symbol\" aria-roledescription=\"circle\" transform=\"translate(274.33238113358254,70.56566910947855)\" d=\"M8.569698160583943,0A8.569698160583943,8.569698160583943,0,1,1,-8.569698160583943,0A8.569698160583943,8.569698160583943,0,1,1,8.569698160583943,0\" fill=\"red\" stroke-width=\"2\" opacity=\"1\"></path></g><g class=\"mark-symbol role-mark layer_2_marks\" role=\"graphics-object\" aria-roledescription=\"symbol mark container\"><path aria-label=\"x: 0.276383978641; y: 0.644839234539; size: 0.157371050118\" role=\"graphics-symbol\" aria-roledescription=\"circle\" transform=\"translate(51.82199599524488,161.82016402728598)\" d=\"M9.151168278587633,0A9.151168278587633,9.151168278587633,0,1,1,-9.151168278587633,0A9.151168278587633,9.151168278587633,0,1,1,9.151168278587633,0\" fill=\"#4c78a8\" stroke-width=\"2\" opacity=\"1\"></path><path aria-label=\"x: 0.812820504147; y: 0.76340422331; size: 0.108766417043\" role=\"graphics-symbol\" aria-roledescription=\"circle\" transform=\"translate(152.40384452757985,136.41338071927876)\" d=\"M7.607842818817667,0A7.607842818817667,7.607842818817667,0,1,1,-7.607842818817667,0A7.607842818817667,7.607842818817667,0,1,1,7.607842818817667,0\" fill=\"#4c78a8\" stroke-width=\"2\" opacity=\"1\"></path><path aria-label=\"x: 0.611031090466; y: 0.0373204512482; size: 0.0314460370335\" role=\"graphics-symbol\" aria-roledescription=\"circle\" transform=\"translate(114.5683294623562,292.00276044681056)\" d=\"M4.090694820811393,0A4.090694820811393,4.090694820811393,0,1,1,-4.090694820811393,0A4.090694820811393,4.090694820811393,0,1,1,4.090694820811393,0\" fill=\"#4c78a8\" stroke-width=\"2\" opacity=\"1\"></path><path aria-label=\"x: 0.909692635213; y: 0.27431150444; size: 0.128168731293\" role=\"graphics-symbol\" aria-roledescription=\"circle\" transform=\"translate(170.56736910245942,241.21896333418994)\" d=\"M8.258575868313088,0A8.258575868313088,8.258575868313088,0,1,1,-8.258575868313088,0A8.258575868313088,8.258575868313088,0,1,1,8.258575868313088,0\" fill=\"#4c78a8\" stroke-width=\"2\" opacity=\"1\"></path><path aria-label=\"x: 0.570129053827; y: 0.940373781328; size: 0.167450443386\" role=\"graphics-symbol\" aria-roledescription=\"circle\" transform=\"translate(106.89919759254349,98.49133257264964)\" d=\"M9.439679975211371,0A9.439679975211371,9.439679975211371,0,1,1,-9.439679975211371,0A9.439679975211371,9.439679975211371,0,1,1,9.439679975211371,0\" fill=\"#4c78a8\" stroke-width=\"2\" opacity=\"1\"></path><path aria-label=\"x: 0.820165846951; y: 0.249461963904; size: 0.0183094646692\" role=\"graphics-symbol\" aria-roledescription=\"circle\" transform=\"translate(153.781096303281,246.54386487771023)\" d=\"M3.1214180934536673,0A3.1214180934536673,3.1214180934536673,0,1,1,-3.1214180934536673,0A3.1214180934536673,3.1214180934536673,0,1,1,3.1214180934536673,0\" fill=\"#4c78a8\" stroke-width=\"2\" opacity=\"1\"></path><path aria-label=\"x: 0.170817209064; y: 0.931209225427; size: 0.169597314178\" role=\"graphics-symbol\" aria-roledescription=\"circle\" transform=\"translate(32.02822669953187,100.45516597997239)\" d=\"M9.5,0A9.5,9.5,0,1,1,-9.5,0A9.5,9.5,0,1,1,9.5,0\" fill=\"#4c78a8\" stroke-width=\"2\" opacity=\"1\"></path><path aria-label=\"x: 0.938624066611; y: 0.16749042323; size: 0.106034414174\" role=\"graphics-symbol\" aria-roledescription=\"circle\" transform=\"translate(175.99201248948586,264.10919502210874)\" d=\"M7.511687994891747,0A7.511687994891747,7.511687994891747,0,1,1,-7.511687994891747,0A7.511687994891747,7.511687994891747,0,1,1,7.511687994891747,0\" fill=\"#4c78a8\" stroke-width=\"2\" opacity=\"1\"></path><path aria-label=\"x: 0.945057166286; y: 0.312685312477; size: 0.0683254317179\" role=\"graphics-symbol\" aria-roledescription=\"circle\" transform=\"translate(177.19821867855336,232.99600446925422)\" d=\"M6.029833390711311,0A6.029833390711311,6.029833390711311,0,1,1,-6.029833390711311,0A6.029833390711311,6.029833390711311,0,1,1,6.029833390711311,0\" fill=\"#4c78a8\" stroke-width=\"2\" opacity=\"1\"></path><path aria-label=\"x: 0.0816145106681; y: 0.593510204852; size: 0.0445306963886\" role=\"graphics-symbol\" aria-roledescription=\"circle\" transform=\"translate(15.302720750261859,172.81924181738552)\" d=\"M4.867924833301269,0A4.867924833301269,4.867924833301269,0,1,1,-4.867924833301269,0A4.867924833301269,4.867924833301269,0,1,1,4.867924833301269,0\" fill=\"#4c78a8\" stroke-width=\"2\" opacity=\"1\"></path></g></g><path class=\"foreground\" aria-hidden=\"true\" d=\"\" display=\"none\"></path></g></g></g></svg>\n"
      ],
      "text/plain": [
       "@vlplot(\n",
       "    view={\n",
       "        stroke=nothing\n",
       "    },\n",
       "    title={\n",
       "        text=\"\",\n",
       "        dy=-25,\n",
       "        fontSize=14\n",
       "    },\n",
       "    layer=[\n",
       "        {\n",
       "            mark={\n",
       "                type=\"line\",\n",
       "                color=\"black\",\n",
       "                clip=false\n",
       "            },\n",
       "            data={\n",
       "                values=...\n",
       "            },\n",
       "            encoding={\n",
       "                x={\n",
       "                    axis=nothing,\n",
       "                    field=\"edges_x\",\n",
       "                    type=\"quantitative\"\n",
       "                },\n",
       "                y={\n",
       "                    axis=nothing,\n",
       "                    field=\"edges_y\",\n",
       "                    type=\"quantitative\"\n",
       "                },\n",
       "                opacity={\n",
       "                    legend=nothing,\n",
       "                    field=\"ew\",\n",
       "                    type=\"quantitative\"\n",
       "                },\n",
       "                size={\n",
       "                    scale={\n",
       "                        range=[\n",
       "                            0,\n",
       "                            2\n",
       "                        ]\n",
       "                    },\n",
       "                    legend=nothing,\n",
       "                    field=\"ew\",\n",
       "                    type=\"ordinal\"\n",
       "                },\n",
       "                detail={\n",
       "                    field=\"pe\",\n",
       "                    type=\"ordinal\"\n",
       "                }\n",
       "            },\n",
       "            width=300,\n",
       "            height=300\n",
       "        },\n",
       "        {\n",
       "            mark={\n",
       "                type=\"circle\",\n",
       "                color=\"red\",\n",
       "                opacity=1\n",
       "            },\n",
       "            width=300,\n",
       "            height=300,\n",
       "            encoding={\n",
       "                x={\n",
       "                    type=\"quantitative\",\n",
       "                    axis=nothing,\n",
       "                    field=\"x\",\n",
       "                    title=nothing\n",
       "                },\n",
       "                y={\n",
       "                    type=\"quantitative\",\n",
       "                    axis=nothing,\n",
       "                    field=\"y\",\n",
       "                    title=nothing\n",
       "                },\n",
       "                size={\n",
       "                    legend=nothing,\n",
       "                    type=\"q\",\n",
       "                    field=\"size\",\n",
       "                    title=nothing\n",
       "                }\n",
       "            },\n",
       "            data={\n",
       "                values=...\n",
       "            }\n",
       "        },\n",
       "        {\n",
       "            mark={\n",
       "                opacity=1,\n",
       "                type=\"circle\"\n",
       "            },\n",
       "            width=300,\n",
       "            height=300,\n",
       "            encoding={\n",
       "                x={\n",
       "                    type=\"quantitative\",\n",
       "                    axis=nothing,\n",
       "                    field=\"x\",\n",
       "                    title=nothing\n",
       "                },\n",
       "                y={\n",
       "                    type=\"quantitative\",\n",
       "                    axis=nothing,\n",
       "                    field=\"y\",\n",
       "                    title=nothing\n",
       "                },\n",
       "                size={\n",
       "                    legend=nothing,\n",
       "                    type=\"q\",\n",
       "                    field=\"size\",\n",
       "                    title=nothing\n",
       "                }\n",
       "            },\n",
       "            data={\n",
       "                values=...\n",
       "            }\n",
       "        }\n",
       "    ]\n",
       ")"
      ]
     },
     "execution_count": 259,
     "metadata": {},
     "output_type": "execute_result"
    }
   ],
   "source": [
    "p = InteriorPointMethod(cv,A,b)\n",
    "n = max(size(μ)[1],size(ν)[1])\n",
    "γ = round.(reshape(p,n,n),digits =4);\n",
    "\n",
    "otplot = PlotOT(μ,ν,γ)"
   ]
  }
 ],
 "metadata": {
  "kernelspec": {
   "display_name": "Julia 1.6.0",
   "language": "julia",
   "name": "julia-1.6"
  },
  "language_info": {
   "file_extension": ".jl",
   "mimetype": "application/julia",
   "name": "julia",
   "version": "1.6.0"
  }
 },
 "nbformat": 4,
 "nbformat_minor": 5
}
