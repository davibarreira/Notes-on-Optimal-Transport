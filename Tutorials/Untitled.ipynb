{
 "cells": [
  {
   "cell_type": "code",
   "execution_count": 32,
   "id": "fc422a1c-eb15-427e-af5e-5c706b55d1ab",
   "metadata": {},
   "outputs": [],
   "source": [
    "using OptimalTransport, VegaLite, LinearAlgebra, DataFrames, Distances, LaTeXStrings, Tulip, Distributions, StatsBase\n",
    "using Distributions\n",
    "using QuadGK\n",
    "using FillArrays\n",
    "using LazyArrays\n",
    "using BenchmarkTools\n",
    "using Random\n",
    "\n",
    "using JuMP\n",
    "\n",
    "optimizer = Tulip.Optimizer();"
   ]
  },
  {
   "cell_type": "code",
   "execution_count": 33,
   "id": "924c4cac-acfa-4c52-b501-44fe9e8cf98c",
   "metadata": {},
   "outputs": [],
   "source": [
    "Random.seed!(1)\n",
    "A = Matrix(Hermitian(rand(100,100) + 100I))\n",
    "Random.seed!(2)\n",
    "B = Matrix(Hermitian(rand(100,100) + 100I));"
   ]
  },
  {
   "cell_type": "code",
   "execution_count": 40,
   "id": "af2dcff2-aa71-481f-a481-f30cd4c9a015",
   "metadata": {},
   "outputs": [],
   "source": [
    "C = cholesky(A,Val(true));\n"
   ]
  },
  {
   "cell_type": "code",
   "execution_count": null,
   "id": "313d97e9-23cc-4f75-8ae1-844f0a3dcd4e",
   "metadata": {},
   "outputs": [],
   "source": []
  },
  {
   "cell_type": "code",
   "execution_count": null,
   "id": "f952f04c-c798-4864-b877-0ad300791158",
   "metadata": {},
   "outputs": [],
   "source": []
  },
  {
   "cell_type": "code",
   "execution_count": 69,
   "id": "47a545de-63bf-4325-bc2c-16c9d0664e3a",
   "metadata": {},
   "outputs": [
    {
     "data": {
      "text/plain": [
       "100×100 Matrix{Float64}:\n",
       " 100.367        0.350904     0.220994   …    0.386896     0.858899\n",
       "   0.350904   100.854        0.357961        0.398349     0.242868\n",
       "   0.220994     0.357961   100.144           0.82537      0.80901\n",
       "   0.074646     0.693236     0.72397         0.189451     0.665276\n",
       "   0.21661      0.160549     0.382976        0.880586     0.0758894\n",
       "   0.109393     0.501492     0.756121   …    0.658983     0.121557\n",
       "   0.131426     0.181474     0.80471         0.749651     0.375544\n",
       "   0.47515      0.259495     0.9821          0.532146     0.341381\n",
       "   0.728007     0.175118     0.525077        0.517266     0.641815\n",
       "   0.239674     0.593898     0.913964        0.239148     0.930975\n",
       "   0.460505     0.47403      0.0980632  …    0.537375     0.290661\n",
       "   0.284693     0.831597     0.121949        0.88124      0.308089\n",
       "   0.076577     0.0299571    0.543727        0.134935     0.871397\n",
       "   ⋮                                    ⋱               \n",
       "   0.0556953    0.394753     0.274278        0.564749     0.438805\n",
       "   0.664266     0.637941     0.703745        0.311636     0.99444\n",
       "   0.456631     0.217619     0.0270843  …    0.142232     0.961481\n",
       "   0.955013     0.910395     0.066092        0.890038     0.495249\n",
       "   0.47693      0.494772     0.170777        0.877519     0.362584\n",
       "   0.902809     0.708113     0.415249        0.708758     0.431532\n",
       "   0.781726     0.168902     0.38949         0.768598     0.936635\n",
       "   0.807527     0.862697     0.360026   …    0.265732     0.526876\n",
       "   0.927243     0.736359     0.797453        0.0422674    0.298986\n",
       "   0.0214574    0.0799153    0.126391        0.273212     0.911097\n",
       "   0.386896     0.398349     0.82537       100.237        0.661889\n",
       "   0.858899     0.242868     0.80901         0.661889   100.724"
      ]
     },
     "execution_count": 69,
     "metadata": {},
     "output_type": "execute_result"
    }
   ],
   "source": [
    "A^(-1/2)*(A^(1/2)*B*A^(1/2))*A^(-1/2)"
   ]
  },
  {
   "cell_type": "code",
   "execution_count": null,
   "id": "8ac4fd15-f46f-4388-b9e9-902986b9d7ce",
   "metadata": {},
   "outputs": [],
   "source": [
    "XΣsqrt = X.Σ^(1/2)\n",
    "T(x)   = Y.μ + XΣsqrt*(XΣsqrt*Y.Σ*XΣsqrt)^(1/2)*XΣsqrt*(x - X.μ)"
   ]
  }
 ],
 "metadata": {
  "kernelspec": {
   "display_name": "Julia 1.6.1",
   "language": "julia",
   "name": "julia-1.6"
  },
  "language_info": {
   "file_extension": ".jl",
   "mimetype": "application/julia",
   "name": "julia",
   "version": "1.6.1"
  }
 },
 "nbformat": 4,
 "nbformat_minor": 5
}
